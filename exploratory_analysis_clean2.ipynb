{
 "cells": [
  {
   "cell_type": "markdown",
   "metadata": {},
   "source": [
    "## Exploratory Data Analysis\n",
    "\n",
    "Use this notebook to get familiar with the datasets we have. There is 10 questions we need to answer during the EDA.\n",
    "\n",
    "\n",
    "We shouldn't limit our EDA to these 10 questions. Let's be creative :)."
   ]
  },
  {
   "cell_type": "code",
   "execution_count": null,
   "metadata": {},
   "outputs": [],
   "source": []
  },
  {
   "cell_type": "code",
   "execution_count": null,
   "metadata": {},
   "outputs": [],
   "source": []
  },
  {
   "cell_type": "code",
   "execution_count": null,
   "metadata": {},
   "outputs": [],
   "source": []
  },
  {
   "cell_type": "markdown",
   "metadata": {},
   "source": [
    "#### **Task 1**: Test the hypothesis that the delay is from Normal distribution. and that **mean** of the delay is 0. Be careful about the outliers."
   ]
  },
  {
   "cell_type": "code",
   "execution_count": 19,
   "metadata": {},
   "outputs": [],
   "source": [
    "import matplotlib.pyplot as plt\n",
    "import pandas as pd"
   ]
  },
  {
   "cell_type": "code",
   "execution_count": 20,
   "metadata": {},
   "outputs": [],
   "source": [
    "df_flights = pd.read_csv('flights.csv')\n",
    "df_delays = pd.read_csv('delays.csv')\n",
    "df_flights_test = pd.read_csv('flights_test.csv')"
   ]
  },
  {
   "cell_type": "code",
   "execution_count": 21,
   "metadata": {},
   "outputs": [],
   "source": [
    "plt.style.use('seaborn')"
   ]
  },
  {
   "cell_type": "code",
   "execution_count": 22,
   "metadata": {},
   "outputs": [
    {
     "data": {
      "image/png": "[encoded data removed]",
      "text/plain": [
       "<Figure size 504x288 with 1 Axes>"
      ]
     },
     "metadata": {},
     "output_type": "display_data"
    }
   ],
   "source": [
    "fig, ax = plt.subplots(1, figsize=(7,4))\n",
    "\n",
    "ax.hist(df_flights['arr_delay'], range=(-40,30))\n",
    "# ax.set_title('Arrival Delay Distribution')\n",
    "# ax.set_xlabel('Delay in Minutes')\n",
    "# ax.set_ylabel('Frequency of Delay')\n",
    "fig.savefig('Delay_Normal_Distribution.jpg')"
   ]
  },
  {
   "cell_type": "markdown",
   "metadata": {},
   "source": [
    "#### **Task 2**: Is average/median monthly delay different during the year? If yes, which are months with the biggest delays and what could be the reason?"
   ]
  },
  {
   "cell_type": "code",
   "execution_count": 23,
   "metadata": {},
   "outputs": [],
   "source": [
    "df_delays['month'] = df_delays['fl_date'].str[5:7]"
   ]
  },
  {
   "cell_type": "code",
   "execution_count": 24,
   "metadata": {},
   "outputs": [],
   "source": [
    "data = df_delays.groupby(by='month')['arr_delay'].mean().to_dict()"
   ]
  },
  {
   "cell_type": "code",
   "execution_count": 25,
   "metadata": {},
   "outputs": [
    {
     "data": {
      "text/plain": [
       "{'01': 41.81958041958042,\n",
       " '02': 40.010230179028135,\n",
       " '03': 32.78934010152284,\n",
       " '04': 39.72845953002611,\n",
       " '05': 39.84251101321586,\n",
       " '06': 45.42829076620825,\n",
       " '07': 48.16561181434599,\n",
       " '08': 45.01791359325606,\n",
       " '09': 35.763425253991294,\n",
       " '10': 33.87264150943396,\n",
       " '11': 36.737206085753805,\n",
       " '12': 39.59006928406467}"
      ]
     },
     "execution_count": 25,
     "metadata": {},
     "output_type": "execute_result"
    }
   ],
   "source": [
    "data"
   ]
  },
  {
   "cell_type": "code",
   "execution_count": 26,
   "metadata": {},
   "outputs": [
    {
     "data": {
      "image/png": "[encoded data removed]",
      "text/plain": [
       "<Figure size 504x288 with 1 Axes>"
      ]
     },
     "metadata": {},
     "output_type": "display_data"
    }
   ],
   "source": [
    "fig, ax = plt.subplots(1, figsize=(7,4))\n",
    "\n",
    "ax.bar(data.keys(), data.values())\n",
    "# ax.set_title('Month and Delay Correlation')\n",
    "# ax.set_xlabel('Month')\n",
    "# ax.set_ylabel('Average Delay')\n",
    "fig.savefig('Month_Delay_Correlation.jpg')"
   ]
  },
  {
   "cell_type": "markdown",
   "metadata": {},
   "source": [
    "#### **Task 3**: Does the weather affect the delay? \n",
    "Use the API to pull the weather information for flights. There is no need to get weather for ALL flights. We can choose the right representative sample. Let's focus on four weather types:\n",
    "- sunny\n",
    "- cloudy\n",
    "- rainy\n",
    "- snow.\n",
    "Test the hypothesis that these 4 delays are from the same distribution. If they are not, which ones are significantly different?"
   ]
  },
  {
   "cell_type": "code",
   "execution_count": 9,
   "metadata": {},
   "outputs": [],
   "source": [
    "import requests\n",
    "import os\n",
    "from IPython.display import JSON\n",
    "\n",
    "api_key = os.environ['VISUAL_CROSSING']"
   ]
  },
  {
   "cell_type": "code",
   "execution_count": 10,
   "metadata": {},
   "outputs": [],
   "source": [
    "#### REFORMAT DATE AND TIME FOR VISUAL CROSSING\n",
    "\n",
    "def format_departure_time(x):\n",
    "    str_time = str(x['crs_dep_time'])\n",
    "    new_time = str_time.rjust(4, '0')\n",
    "    return x['fl_date'] + 'T' + new_time[0:2] + ':' + new_time[2:4] + ':00'\n",
    "\n",
    "def format_arrival_time(x):\n",
    "    str_time = str(x['crs_arr_time'])\n",
    "    new_time = str_time.rjust(4, '0')\n",
    "    return x['fl_date'] + 'T' + new_time[0:2] + ':' + new_time[2:4] + ':00'\n",
    "\n",
    "df_delays['new_dep_time'] = df_delays.apply(format_departure_time, axis=1)\n",
    "df_delays['new_arr_time'] = df_delays.apply(format_arrival_time, axis=1)"
   ]
  },
  {
   "cell_type": "code",
   "execution_count": 11,
   "metadata": {},
   "outputs": [],
   "source": [
    "#### GET WEATHER FROM ORIGIN\n",
    "\n",
    "def get_weather_origin(x):\n",
    "    response = requests.get(\n",
    "        'https://weather.visualcrossing.com/VisualCrossingWebServices/rest/services/weatherdata/history',\n",
    "        params={\n",
    "            'aggregateHours': '1',\n",
    "            'startDateTime': x['new_dep_time'],\n",
    "            'unitGroup': 'us',\n",
    "            'contentType': 'json',\n",
    "            'locations': x['origin_city_name'],\n",
    "            'key': api_key\n",
    "        }\n",
    "    )\n",
    "    \n",
    "    if response.status_code == 200:\n",
    "        json = response.json()\n",
    "        for i in json['locations'].values():\n",
    "            for j in i['values']:\n",
    "                return j['conditions']"
   ]
  },
  {
   "cell_type": "code",
   "execution_count": 12,
   "metadata": {},
   "outputs": [],
   "source": [
    "#### GET WEATHER FROM DESTINATION\n",
    "\n",
    "def get_weather_destination(x):\n",
    "    response = requests.get(\n",
    "        'https://weather.visualcrossing.com/VisualCrossingWebServices/rest/services/weatherdata/history',\n",
    "        params={\n",
    "            'aggregateHours': '1',\n",
    "            'startDateTime': x['new_arr_time'],\n",
    "            'unitGroup': 'us',\n",
    "            'contentType': 'json',\n",
    "            'locations': x['dest_city_name'],\n",
    "            'key': api_key\n",
    "        }\n",
    "    )\n",
    "    \n",
    "    if response.status_code == 200:\n",
    "        json = response.json()\n",
    "        for i in json['locations'].values():\n",
    "            for j in i['values']:\n",
    "                return j['conditions']"
   ]
  },
  {
   "cell_type": "code",
   "execution_count": 13,
   "metadata": {},
   "outputs": [],
   "source": [
    "tmp_df = df_delays.iloc[500:505,:].copy()\n",
    "tmp_df['weather_condition_origin'] = tmp_df.apply(get_weather_origin, axis=1)\n",
    "tmp_df['weather_condition_dest'] = tmp_df.apply(get_weather_destination, axis=1)"
   ]
  },
  {
   "cell_type": "code",
   "execution_count": 14,
   "metadata": {},
   "outputs": [
    {
     "data": {
      "text/html": [
       "<div>\n",
       "<style scoped>\n",
       "    .dataframe tbody tr th:only-of-type {\n",
       "        vertical-align: middle;\n",
       "    }\n",
       "\n",
       "    .dataframe tbody tr th {\n",
       "        vertical-align: top;\n",
       "    }\n",
       "\n",
       "    .dataframe thead th {\n",
       "        text-align: right;\n",
       "    }\n",
       "</style>\n",
       "<table border=\"1\" class=\"dataframe\">\n",
       "  <thead>\n",
       "    <tr style=\"text-align: right;\">\n",
       "      <th></th>\n",
       "      <th>fl_date</th>\n",
       "      <th>mkt_unique_carrier</th>\n",
       "      <th>branded_code_share</th>\n",
       "      <th>mkt_carrier</th>\n",
       "      <th>mkt_carrier_fl_num</th>\n",
       "      <th>op_unique_carrier</th>\n",
       "      <th>tail_num</th>\n",
       "      <th>op_carrier_fl_num</th>\n",
       "      <th>origin_airport_id</th>\n",
       "      <th>origin</th>\n",
       "      <th>...</th>\n",
       "      <th>late_aircraft_delay</th>\n",
       "      <th>first_dep_time</th>\n",
       "      <th>total_add_gtime</th>\n",
       "      <th>longest_add_gtime</th>\n",
       "      <th>no_name</th>\n",
       "      <th>month</th>\n",
       "      <th>new_dep_time</th>\n",
       "      <th>new_arr_time</th>\n",
       "      <th>weather_condition_origin</th>\n",
       "      <th>weather_condition_dest</th>\n",
       "    </tr>\n",
       "  </thead>\n",
       "  <tbody>\n",
       "    <tr>\n",
       "      <th>500</th>\n",
       "      <td>2018-03-04</td>\n",
       "      <td>DL</td>\n",
       "      <td>DL_CODESHARE</td>\n",
       "      <td>DL</td>\n",
       "      <td>5703</td>\n",
       "      <td>CP</td>\n",
       "      <td>N629CZ</td>\n",
       "      <td>5703</td>\n",
       "      <td>14869</td>\n",
       "      <td>SLC</td>\n",
       "      <td>...</td>\n",
       "      <td>NaN</td>\n",
       "      <td>NaN</td>\n",
       "      <td>NaN</td>\n",
       "      <td>NaN</td>\n",
       "      <td>NaN</td>\n",
       "      <td>03</td>\n",
       "      <td>2018-03-04T22:05:00</td>\n",
       "      <td>2018-03-04T23:08:00</td>\n",
       "      <td>Overcast</td>\n",
       "      <td>Clear</td>\n",
       "    </tr>\n",
       "    <tr>\n",
       "      <th>501</th>\n",
       "      <td>2019-08-26</td>\n",
       "      <td>WN</td>\n",
       "      <td>WN</td>\n",
       "      <td>WN</td>\n",
       "      <td>994</td>\n",
       "      <td>WN</td>\n",
       "      <td>N423WN</td>\n",
       "      <td>994</td>\n",
       "      <td>13232</td>\n",
       "      <td>MDW</td>\n",
       "      <td>...</td>\n",
       "      <td>0.0</td>\n",
       "      <td>NaN</td>\n",
       "      <td>NaN</td>\n",
       "      <td>NaN</td>\n",
       "      <td>NaN</td>\n",
       "      <td>08</td>\n",
       "      <td>2019-08-26T21:00:00</td>\n",
       "      <td>2019-08-26T00:35:00</td>\n",
       "      <td>Overcast</td>\n",
       "      <td>Clear</td>\n",
       "    </tr>\n",
       "    <tr>\n",
       "      <th>502</th>\n",
       "      <td>2018-02-20</td>\n",
       "      <td>DL</td>\n",
       "      <td>DL_CODESHARE</td>\n",
       "      <td>DL</td>\n",
       "      <td>3374</td>\n",
       "      <td>9E</td>\n",
       "      <td>N605LR</td>\n",
       "      <td>3374</td>\n",
       "      <td>13487</td>\n",
       "      <td>MSP</td>\n",
       "      <td>...</td>\n",
       "      <td>34.0</td>\n",
       "      <td>NaN</td>\n",
       "      <td>NaN</td>\n",
       "      <td>NaN</td>\n",
       "      <td>NaN</td>\n",
       "      <td>02</td>\n",
       "      <td>2018-02-20T14:25:00</td>\n",
       "      <td>2018-02-20T17:09:00</td>\n",
       "      <td>Overcast</td>\n",
       "      <td>Rain, Overcast</td>\n",
       "    </tr>\n",
       "    <tr>\n",
       "      <th>503</th>\n",
       "      <td>2018-03-01</td>\n",
       "      <td>B6</td>\n",
       "      <td>B6</td>\n",
       "      <td>B6</td>\n",
       "      <td>687</td>\n",
       "      <td>B6</td>\n",
       "      <td>N935JB</td>\n",
       "      <td>687</td>\n",
       "      <td>10721</td>\n",
       "      <td>BOS</td>\n",
       "      <td>...</td>\n",
       "      <td>0.0</td>\n",
       "      <td>NaN</td>\n",
       "      <td>NaN</td>\n",
       "      <td>NaN</td>\n",
       "      <td>NaN</td>\n",
       "      <td>03</td>\n",
       "      <td>2018-03-01T18:16:00</td>\n",
       "      <td>2018-03-01T21:57:00</td>\n",
       "      <td>Overcast</td>\n",
       "      <td>Overcast</td>\n",
       "    </tr>\n",
       "    <tr>\n",
       "      <th>504</th>\n",
       "      <td>2018-08-13</td>\n",
       "      <td>AA</td>\n",
       "      <td>AA</td>\n",
       "      <td>AA</td>\n",
       "      <td>1560</td>\n",
       "      <td>AA</td>\n",
       "      <td>N138AN</td>\n",
       "      <td>1560</td>\n",
       "      <td>11298</td>\n",
       "      <td>DFW</td>\n",
       "      <td>...</td>\n",
       "      <td>9.0</td>\n",
       "      <td>NaN</td>\n",
       "      <td>NaN</td>\n",
       "      <td>NaN</td>\n",
       "      <td>NaN</td>\n",
       "      <td>08</td>\n",
       "      <td>2018-08-13T12:53:00</td>\n",
       "      <td>2018-08-13T16:36:00</td>\n",
       "      <td>Partially cloudy</td>\n",
       "      <td>Overcast</td>\n",
       "    </tr>\n",
       "  </tbody>\n",
       "</table>\n",
       "<p>5 rows × 47 columns</p>\n",
       "</div>"
      ],
      "text/plain": [
       "        fl_date mkt_unique_carrier branded_code_share mkt_carrier  \\\n",
       "500  2018-03-04                 DL       DL_CODESHARE          DL   \n",
       "501  2019-08-26                 WN                 WN          WN   \n",
       "502  2018-02-20                 DL       DL_CODESHARE          DL   \n",
       "503  2018-03-01                 B6                 B6          B6   \n",
       "504  2018-08-13                 AA                 AA          AA   \n",
       "\n",
       "     mkt_carrier_fl_num op_unique_carrier tail_num  op_carrier_fl_num  \\\n",
       "500                5703                CP   N629CZ               5703   \n",
       "501                 994                WN   N423WN                994   \n",
       "502                3374                9E   N605LR               3374   \n",
       "503                 687                B6   N935JB                687   \n",
       "504                1560                AA   N138AN               1560   \n",
       "\n",
       "     origin_airport_id origin  ... late_aircraft_delay  first_dep_time  \\\n",
       "500              14869    SLC  ...                 NaN             NaN   \n",
       "501              13232    MDW  ...                 0.0             NaN   \n",
       "502              13487    MSP  ...                34.0             NaN   \n",
       "503              10721    BOS  ...                 0.0             NaN   \n",
       "504              11298    DFW  ...                 9.0             NaN   \n",
       "\n",
       "    total_add_gtime longest_add_gtime  no_name  month         new_dep_time  \\\n",
       "500             NaN               NaN      NaN     03  2018-03-04T22:05:00   \n",
       "501             NaN               NaN      NaN     08  2019-08-26T21:00:00   \n",
       "502             NaN               NaN      NaN     02  2018-02-20T14:25:00   \n",
       "503             NaN               NaN      NaN     03  2018-03-01T18:16:00   \n",
       "504             NaN               NaN      NaN     08  2018-08-13T12:53:00   \n",
       "\n",
       "            new_arr_time  weather_condition_origin  weather_condition_dest  \n",
       "500  2018-03-04T23:08:00                  Overcast                   Clear  \n",
       "501  2019-08-26T00:35:00                  Overcast                   Clear  \n",
       "502  2018-02-20T17:09:00                  Overcast          Rain, Overcast  \n",
       "503  2018-03-01T21:57:00                  Overcast                Overcast  \n",
       "504  2018-08-13T16:36:00          Partially cloudy                Overcast  \n",
       "\n",
       "[5 rows x 47 columns]"
      ]
     },
     "execution_count": 14,
     "metadata": {},
     "output_type": "execute_result"
    }
   ],
   "source": [
    "tmp_df"
   ]
  },
  {
   "cell_type": "code",
   "execution_count": null,
   "metadata": {},
   "outputs": [],
   "source": []
  },
  {
   "cell_type": "markdown",
   "metadata": {},
   "source": [
    "#### **Task 4**: How taxi times changing during the day? Does higher traffic lead to bigger taxi times?"
   ]
  },
  {
   "cell_type": "code",
   "execution_count": 15,
   "metadata": {},
   "outputs": [
    {
     "data": {
      "text/plain": [
       "count    10000.000000\n",
       "mean        14.174600\n",
       "std          5.051977\n",
       "min          0.000000\n",
       "25%         10.000000\n",
       "50%         15.000000\n",
       "75%         18.000000\n",
       "max         24.000000\n",
       "Name: dep_time_HH, dtype: float64"
      ]
     },
     "execution_count": 15,
     "metadata": {},
     "output_type": "execute_result"
    }
   ],
   "source": [
    "df_delays['dep_time_HH'] = df_delays['dep_time'] // 100\n",
    "df_delays['dep_time_HH'].describe()"
   ]
  },
  {
   "cell_type": "code",
   "execution_count": 16,
   "metadata": {},
   "outputs": [],
   "source": [
    "df_delays['dep_time_HH'] = df_delays['dep_time_HH'].replace(24.0, 0.0)"
   ]
  },
  {
   "cell_type": "code",
   "execution_count": 17,
   "metadata": {},
   "outputs": [
    {
     "data": {
      "text/plain": [
       "dep_time_HH\n",
       "0.0     16.636364\n",
       "1.0     16.800000\n",
       "2.0     11.750000\n",
       "3.0     14.000000\n",
       "4.0     15.857143\n",
       "5.0     22.020202\n",
       "6.0     23.471605\n",
       "7.0     24.737778\n",
       "8.0     24.480638\n",
       "9.0     23.637450\n",
       "10.0    22.125000\n",
       "11.0    21.499089\n",
       "12.0    20.720539\n",
       "13.0    20.244755\n",
       "14.0    20.569231\n",
       "15.0    21.000000\n",
       "16.0    22.452119\n",
       "17.0    22.115493\n",
       "18.0    21.761151\n",
       "19.0    19.925329\n",
       "20.0    21.629687\n",
       "21.0    19.619369\n",
       "22.0    19.175573\n",
       "23.0    18.328431\n",
       "Name: taxi_out, dtype: float64"
      ]
     },
     "execution_count": 17,
     "metadata": {},
     "output_type": "execute_result"
    }
   ],
   "source": [
    "df_delays.groupby(by='dep_time_HH')['taxi_out'].mean()"
   ]
  },
  {
   "cell_type": "code",
   "execution_count": 18,
   "metadata": {},
   "outputs": [
    {
     "data": {
      "text/plain": [
       "dep_time_HH\n",
       "0.0      8.051948\n",
       "1.0      8.300000\n",
       "2.0     10.750000\n",
       "3.0     12.500000\n",
       "4.0     10.428571\n",
       "5.0     11.611111\n",
       "6.0     10.350617\n",
       "7.0     10.368889\n",
       "8.0      9.845103\n",
       "9.0      9.015936\n",
       "10.0     8.556452\n",
       "11.0     8.834244\n",
       "12.0     8.946128\n",
       "13.0     8.660839\n",
       "14.0     8.683077\n",
       "15.0     8.891847\n",
       "16.0     8.676609\n",
       "17.0     9.070423\n",
       "18.0     9.538129\n",
       "19.0     8.368960\n",
       "20.0     8.321875\n",
       "21.0     8.173423\n",
       "22.0     6.720102\n",
       "23.0     7.357843\n",
       "Name: taxi_in, dtype: float64"
      ]
     },
     "execution_count": 18,
     "metadata": {},
     "output_type": "execute_result"
    }
   ],
   "source": [
    "df_delays.groupby(by='dep_time_HH')['taxi_in'].mean()"
   ]
  },
  {
   "cell_type": "markdown",
   "metadata": {},
   "source": [
    "#### **Task 5**: What is the average percentage of delays that is already created before departure? (aka are arrival delays caused by departure delays?) Are airlines able to lower the delay during the flights?"
   ]
  },
  {
   "cell_type": "code",
   "execution_count": 19,
   "metadata": {},
   "outputs": [],
   "source": [
    "df_delays['dep_minus_arr_delay'] = df_delays['dep_delay'] - df_delays['arr_delay']"
   ]
  },
  {
   "cell_type": "code",
   "execution_count": 20,
   "metadata": {},
   "outputs": [
    {
     "data": {
      "text/plain": [
       "(array([ 129.,  265.,  585., 1564., 2794., 2467., 1569.,  410.,   56.,\n",
       "          14.]),\n",
       " array([-50., -40., -30., -20., -10.,   0.,  10.,  20.,  30.,  40.,  50.]),\n",
       " <BarContainer object of 10 artists>)"
      ]
     },
     "execution_count": 20,
     "metadata": {},
     "output_type": "execute_result"
    },
    {
     "data": {
      "image/png": "[encoded data removed]",
      "text/plain": [
       "<Figure size 576x396 with 1 Axes>"
      ]
     },
     "metadata": {},
     "output_type": "display_data"
    }
   ],
   "source": [
    "plt.hist(df_delays['dep_minus_arr_delay'], range=(-50, 50))"
   ]
  },
  {
   "cell_type": "code",
   "execution_count": 21,
   "metadata": {},
   "outputs": [
    {
     "data": {
      "text/plain": [
       "count    9996.000000\n",
       "mean       -3.398960\n",
       "std        16.656134\n",
       "min      -198.000000\n",
       "25%       -11.000000\n",
       "50%        -2.000000\n",
       "75%         8.000000\n",
       "max        51.000000\n",
       "Name: dep_minus_arr_delay, dtype: float64"
      ]
     },
     "execution_count": 21,
     "metadata": {},
     "output_type": "execute_result"
    }
   ],
   "source": [
    "df_delays['dep_minus_arr_delay'].describe()"
   ]
  },
  {
   "cell_type": "markdown",
   "metadata": {},
   "source": [
    "#### **Task 6**: How many states cover 50% of US air traffic? "
   ]
  },
  {
   "cell_type": "code",
   "execution_count": null,
   "metadata": {},
   "outputs": [],
   "source": []
  },
  {
   "cell_type": "code",
   "execution_count": null,
   "metadata": {},
   "outputs": [],
   "source": []
  },
  {
   "cell_type": "markdown",
   "metadata": {},
   "source": [
    "#### **Task 7**: Test the hypothesis whether planes fly faster when there is the departure delay? "
   ]
  },
  {
   "cell_type": "code",
   "execution_count": null,
   "metadata": {},
   "outputs": [],
   "source": []
  },
  {
   "cell_type": "code",
   "execution_count": null,
   "metadata": {},
   "outputs": [],
   "source": []
  },
  {
   "cell_type": "markdown",
   "metadata": {},
   "source": [
    "#### **Task 8**: When (which hour) do most 'LONG', 'SHORT', 'MEDIUM' haul flights take off?"
   ]
  },
  {
   "cell_type": "code",
   "execution_count": null,
   "metadata": {},
   "outputs": [],
   "source": []
  },
  {
   "cell_type": "code",
   "execution_count": null,
   "metadata": {},
   "outputs": [],
   "source": []
  },
  {
   "cell_type": "markdown",
   "metadata": {},
   "source": [
    "#### **Task 9**: Find the top 10 the bussiest airports. Does the biggest number of flights mean that the biggest number of passengers went through the particular airport? How much traffic do these 10 airports cover?"
   ]
  },
  {
   "cell_type": "code",
   "execution_count": null,
   "metadata": {},
   "outputs": [],
   "source": []
  },
  {
   "cell_type": "code",
   "execution_count": null,
   "metadata": {},
   "outputs": [],
   "source": []
  },
  {
   "cell_type": "markdown",
   "metadata": {},
   "source": [
    "#### **Task 10**: Do bigger delays lead to bigger fuel comsumption per passenger? \n",
    "We need to do four things to answer this as accurate as possible:\n",
    "- Find out average monthly delay per air carrier (monthly delay is sum of all delays in 1 month)\n",
    "- Find out distance covered monthly by different air carriers\n",
    "- Find out number of passengers that were carried by different air carriers\n",
    "- Find out total fuel comsumption per air carrier.\n",
    "\n",
    "Use this information to get the average fuel comsumption per passenger per km. Is this higher for the airlines with bigger average delays?"
   ]
  },
  {
   "cell_type": "code",
   "execution_count": null,
   "metadata": {},
   "outputs": [],
   "source": []
  },
  {
   "cell_type": "code",
   "execution_count": null,
   "metadata": {},
   "outputs": [],
   "source": []
  }
 ],
 "metadata": {
  "kernelspec": {
   "display_name": "Python 3",
   "language": "python",
   "name": "python3"
  },
  "language_info": {
   "codemirror_mode": {
    "name": "ipython",
    "version": 3
   },
   "file_extension": ".py",
   "mimetype": "text/x-python",
   "name": "python",
   "nbconvert_exporter": "python",
   "pygments_lexer": "ipython3",
   "version": "3.8.5"
  },
  "toc": {
   "base_numbering": 1,
   "nav_menu": {},
   "number_sections": true,
   "sideBar": true,
   "skip_h1_title": false,
   "title_cell": "Table of Contents",
   "title_sidebar": "Contents",
   "toc_cell": false,
   "toc_position": {},
   "toc_section_display": true,
   "toc_window_display": false
  },
  "varInspector": {
   "cols": {
    "lenName": 16,
    "lenType": 16,
    "lenVar": 40
   },
   "kernels_config": {
    "python": {
     "delete_cmd_postfix": "",
     "delete_cmd_prefix": "del ",
     "library": "var_list.py",
     "varRefreshCmd": "print(var_dic_list())"
    },
    "r": {
     "delete_cmd_postfix": ") ",
     "delete_cmd_prefix": "rm(",
     "library": "var_list.r",
     "varRefreshCmd": "cat(var_dic_list()) "
    }
   },
   "types_to_exclude": [
    "module",
    "function",
    "builtin_function_or_method",
    "instance",
    "_Feature"
   ],
   "window_display": false
  }
 },
 "nbformat": 4,
 "nbformat_minor": 4
}
