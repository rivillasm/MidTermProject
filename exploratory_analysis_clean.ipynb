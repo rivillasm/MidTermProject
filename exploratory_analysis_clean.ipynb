{
 "cells": [
  {
   "cell_type": "markdown",
   "metadata": {},
   "source": [
    "## Exploratory Data Analysis\n",
    "\n",
    "Use this notebook to get familiar with the datasets we have. There is 10 questions we need to answer during the EDA.\n",
    "\n",
    "\n",
    "We shouldn't limit our EDA to these 10 questions. Let's be creative :)."
   ]
  },
  {
   "cell_type": "code",
   "execution_count": 146,
   "metadata": {},
   "outputs": [],
   "source": [
    "import pandas as pd\n",
    "import numpy as np\n",
    "import matplotlib.pyplot as pl\n",
    "import seaborn as sns\n",
    "import datetime\n",
    "import psycopg2\n",
    "from sklearn.preprocessing import StandardScaler\n",
    "from sklearn.decomposition import PCA\n",
    "import time\n",
    "import datetime as dt\n",
    "\n",
    "connection = psycopg2.connect(\n",
    "    host=\"mid-term-project.ca2jkepgjpne.us-east-2.rds.amazonaws.com\",\n",
    "    database=\"mid_term_project\",\n",
    "    user=\"lhl_student\",\n",
    "    password=\"lhl_student\",\n",
    "    port=5432\n",
    ")"
   ]
  },
  {
   "cell_type": "code",
   "execution_count": 3,
   "metadata": {
    "collapsed": true,
    "jupyter": {
     "outputs_hidden": true
    }
   },
   "outputs": [
    {
     "data": {
      "text/html": [
       "<div>\n",
       "<style scoped>\n",
       "    .dataframe tbody tr th:only-of-type {\n",
       "        vertical-align: middle;\n",
       "    }\n",
       "\n",
       "    .dataframe tbody tr th {\n",
       "        vertical-align: top;\n",
       "    }\n",
       "\n",
       "    .dataframe thead th {\n",
       "        text-align: right;\n",
       "    }\n",
       "</style>\n",
       "<table border=\"1\" class=\"dataframe\">\n",
       "  <thead>\n",
       "    <tr style=\"text-align: right;\">\n",
       "      <th></th>\n",
       "      <th>fl_date</th>\n",
       "      <th>mkt_unique_carrier</th>\n",
       "      <th>branded_code_share</th>\n",
       "      <th>mkt_carrier</th>\n",
       "      <th>mkt_carrier_fl_num</th>\n",
       "      <th>op_unique_carrier</th>\n",
       "      <th>tail_num</th>\n",
       "      <th>op_carrier_fl_num</th>\n",
       "      <th>origin_airport_id</th>\n",
       "      <th>origin</th>\n",
       "      <th>...</th>\n",
       "      <th>distance</th>\n",
       "      <th>carrier_delay</th>\n",
       "      <th>weather_delay</th>\n",
       "      <th>nas_delay</th>\n",
       "      <th>security_delay</th>\n",
       "      <th>late_aircraft_delay</th>\n",
       "      <th>first_dep_time</th>\n",
       "      <th>total_add_gtime</th>\n",
       "      <th>longest_add_gtime</th>\n",
       "      <th>no_name</th>\n",
       "    </tr>\n",
       "  </thead>\n",
       "  <tbody>\n",
       "    <tr>\n",
       "      <th>0</th>\n",
       "      <td>2019-08-24</td>\n",
       "      <td>UA</td>\n",
       "      <td>UA_CODESHARE</td>\n",
       "      <td>UA</td>\n",
       "      <td>5090</td>\n",
       "      <td>OO</td>\n",
       "      <td>N982SW</td>\n",
       "      <td>5090</td>\n",
       "      <td>11292</td>\n",
       "      <td>DEN</td>\n",
       "      <td>...</td>\n",
       "      <td>283.0</td>\n",
       "      <td>NaN</td>\n",
       "      <td>NaN</td>\n",
       "      <td>NaN</td>\n",
       "      <td>NaN</td>\n",
       "      <td>NaN</td>\n",
       "      <td>None</td>\n",
       "      <td>NaN</td>\n",
       "      <td>NaN</td>\n",
       "      <td>None</td>\n",
       "    </tr>\n",
       "    <tr>\n",
       "      <th>1</th>\n",
       "      <td>2019-01-05</td>\n",
       "      <td>WN</td>\n",
       "      <td>WN</td>\n",
       "      <td>WN</td>\n",
       "      <td>3113</td>\n",
       "      <td>WN</td>\n",
       "      <td>N485WN</td>\n",
       "      <td>3113</td>\n",
       "      <td>12191</td>\n",
       "      <td>HOU</td>\n",
       "      <td>...</td>\n",
       "      <td>1020.0</td>\n",
       "      <td>NaN</td>\n",
       "      <td>NaN</td>\n",
       "      <td>NaN</td>\n",
       "      <td>NaN</td>\n",
       "      <td>NaN</td>\n",
       "      <td>None</td>\n",
       "      <td>NaN</td>\n",
       "      <td>NaN</td>\n",
       "      <td>None</td>\n",
       "    </tr>\n",
       "    <tr>\n",
       "      <th>2</th>\n",
       "      <td>2018-05-18</td>\n",
       "      <td>WN</td>\n",
       "      <td>WN</td>\n",
       "      <td>WN</td>\n",
       "      <td>863</td>\n",
       "      <td>WN</td>\n",
       "      <td>N8613K</td>\n",
       "      <td>863</td>\n",
       "      <td>12191</td>\n",
       "      <td>HOU</td>\n",
       "      <td>...</td>\n",
       "      <td>1020.0</td>\n",
       "      <td>NaN</td>\n",
       "      <td>NaN</td>\n",
       "      <td>NaN</td>\n",
       "      <td>NaN</td>\n",
       "      <td>NaN</td>\n",
       "      <td>None</td>\n",
       "      <td>NaN</td>\n",
       "      <td>NaN</td>\n",
       "      <td>None</td>\n",
       "    </tr>\n",
       "    <tr>\n",
       "      <th>3</th>\n",
       "      <td>2018-08-27</td>\n",
       "      <td>DL</td>\n",
       "      <td>DL_CODESHARE</td>\n",
       "      <td>DL</td>\n",
       "      <td>5355</td>\n",
       "      <td>9E</td>\n",
       "      <td>N137EV</td>\n",
       "      <td>5355</td>\n",
       "      <td>14122</td>\n",
       "      <td>PIT</td>\n",
       "      <td>...</td>\n",
       "      <td>726.0</td>\n",
       "      <td>NaN</td>\n",
       "      <td>NaN</td>\n",
       "      <td>NaN</td>\n",
       "      <td>NaN</td>\n",
       "      <td>NaN</td>\n",
       "      <td>None</td>\n",
       "      <td>NaN</td>\n",
       "      <td>NaN</td>\n",
       "      <td>None</td>\n",
       "    </tr>\n",
       "    <tr>\n",
       "      <th>4</th>\n",
       "      <td>2019-05-29</td>\n",
       "      <td>DL</td>\n",
       "      <td>DL</td>\n",
       "      <td>DL</td>\n",
       "      <td>443</td>\n",
       "      <td>DL</td>\n",
       "      <td>N865DN</td>\n",
       "      <td>443</td>\n",
       "      <td>10140</td>\n",
       "      <td>ABQ</td>\n",
       "      <td>...</td>\n",
       "      <td>1269.0</td>\n",
       "      <td>NaN</td>\n",
       "      <td>NaN</td>\n",
       "      <td>NaN</td>\n",
       "      <td>NaN</td>\n",
       "      <td>NaN</td>\n",
       "      <td>None</td>\n",
       "      <td>NaN</td>\n",
       "      <td>NaN</td>\n",
       "      <td>None</td>\n",
       "    </tr>\n",
       "  </tbody>\n",
       "</table>\n",
       "<p>5 rows × 42 columns</p>\n",
       "</div>"
      ],
      "text/plain": [
       "      fl_date mkt_unique_carrier branded_code_share mkt_carrier  \\\n",
       "0  2019-08-24                 UA       UA_CODESHARE          UA   \n",
       "1  2019-01-05                 WN                 WN          WN   \n",
       "2  2018-05-18                 WN                 WN          WN   \n",
       "3  2018-08-27                 DL       DL_CODESHARE          DL   \n",
       "4  2019-05-29                 DL                 DL          DL   \n",
       "\n",
       "   mkt_carrier_fl_num op_unique_carrier tail_num  op_carrier_fl_num  \\\n",
       "0                5090                OO   N982SW               5090   \n",
       "1                3113                WN   N485WN               3113   \n",
       "2                 863                WN   N8613K                863   \n",
       "3                5355                9E   N137EV               5355   \n",
       "4                 443                DL   N865DN                443   \n",
       "\n",
       "   origin_airport_id origin  ... distance  carrier_delay weather_delay  \\\n",
       "0              11292    DEN  ...    283.0            NaN           NaN   \n",
       "1              12191    HOU  ...   1020.0            NaN           NaN   \n",
       "2              12191    HOU  ...   1020.0            NaN           NaN   \n",
       "3              14122    PIT  ...    726.0            NaN           NaN   \n",
       "4              10140    ABQ  ...   1269.0            NaN           NaN   \n",
       "\n",
       "  nas_delay  security_delay  late_aircraft_delay  first_dep_time  \\\n",
       "0       NaN             NaN                  NaN            None   \n",
       "1       NaN             NaN                  NaN            None   \n",
       "2       NaN             NaN                  NaN            None   \n",
       "3       NaN             NaN                  NaN            None   \n",
       "4       NaN             NaN                  NaN            None   \n",
       "\n",
       "   total_add_gtime  longest_add_gtime  no_name  \n",
       "0              NaN                NaN     None  \n",
       "1              NaN                NaN     None  \n",
       "2              NaN                NaN     None  \n",
       "3              NaN                NaN     None  \n",
       "4              NaN                NaN     None  \n",
       "\n",
       "[5 rows x 42 columns]"
      ]
     },
     "execution_count": 3,
     "metadata": {},
     "output_type": "execute_result"
    }
   ],
   "source": [
    "df_flights = pd.read_sql_query('SELECT * FROM flights ORDER BY RANDOM() LIMIT 50000;', connection)\n",
    "df_flights.head()"
   ]
  },
  {
   "cell_type": "code",
   "execution_count": 4,
   "metadata": {
    "collapsed": true,
    "jupyter": {
     "outputs_hidden": true
    }
   },
   "outputs": [
    {
     "data": {
      "text/plain": [
       "(50000, 42)"
      ]
     },
     "execution_count": 4,
     "metadata": {},
     "output_type": "execute_result"
    }
   ],
   "source": [
    "df_flights.shape"
   ]
  },
  {
   "cell_type": "markdown",
   "metadata": {},
   "source": [
    "#### **Task 1**: Test the hypothesis that the delay is from Normal distribution. and that **mean** of the delay is 0. Be careful about the outliers."
   ]
  },
  {
   "cell_type": "code",
   "execution_count": null,
   "metadata": {},
   "outputs": [],
   "source": []
  },
  {
   "cell_type": "code",
   "execution_count": null,
   "metadata": {},
   "outputs": [],
   "source": []
  },
  {
   "cell_type": "markdown",
   "metadata": {},
   "source": [
    "#### **Task 2**: Is average/median monthly delay different during the year? If yes, which are months with the biggest delays and what could be the reason?"
   ]
  },
  {
   "cell_type": "code",
   "execution_count": null,
   "metadata": {},
   "outputs": [],
   "source": []
  },
  {
   "cell_type": "code",
   "execution_count": null,
   "metadata": {},
   "outputs": [],
   "source": []
  },
  {
   "cell_type": "markdown",
   "metadata": {},
   "source": [
    "#### **Task 3**: Does the weather affect the delay? \n",
    "Use the API to pull the weather information for flights. There is no need to get weather for ALL flights. We can choose the right representative sample. Let's focus on four weather types:\n",
    "- sunny\n",
    "- cloudy\n",
    "- rainy\n",
    "- snow.\n",
    "Test the hypothesis that these 4 delays are from the same distribution. If they are not, which ones are significantly different?"
   ]
  },
  {
   "cell_type": "code",
   "execution_count": null,
   "metadata": {},
   "outputs": [],
   "source": []
  },
  {
   "cell_type": "code",
   "execution_count": null,
   "metadata": {},
   "outputs": [],
   "source": []
  },
  {
   "cell_type": "markdown",
   "metadata": {},
   "source": [
    "#### **Task 4**: How taxi times changing during the day? Does higher traffic lead to bigger taxi times?"
   ]
  },
  {
   "cell_type": "code",
   "execution_count": null,
   "metadata": {},
   "outputs": [],
   "source": []
  },
  {
   "cell_type": "code",
   "execution_count": null,
   "metadata": {},
   "outputs": [],
   "source": []
  },
  {
   "cell_type": "code",
   "execution_count": null,
   "metadata": {},
   "outputs": [],
   "source": []
  },
  {
   "cell_type": "markdown",
   "metadata": {},
   "source": [
    "#### **Task 5**: What is the average percentage of delays that is already created before departure? (aka are arrival delays caused by departure delays?) Are airlines able to lower the delay during the flights?"
   ]
  },
  {
   "cell_type": "code",
   "execution_count": 5,
   "metadata": {
    "collapsed": true,
    "jupyter": {
     "outputs_hidden": true
    }
   },
   "outputs": [
    {
     "data": {
      "text/plain": [
       "Index(['fl_date', 'mkt_unique_carrier', 'branded_code_share', 'mkt_carrier',\n",
       "       'mkt_carrier_fl_num', 'op_unique_carrier', 'tail_num',\n",
       "       'op_carrier_fl_num', 'origin_airport_id', 'origin', 'origin_city_name',\n",
       "       'dest_airport_id', 'dest', 'dest_city_name', 'crs_dep_time', 'dep_time',\n",
       "       'dep_delay', 'taxi_out', 'wheels_off', 'wheels_on', 'taxi_in',\n",
       "       'crs_arr_time', 'arr_time', 'arr_delay', 'cancelled',\n",
       "       'cancellation_code', 'diverted', 'dup', 'crs_elapsed_time',\n",
       "       'actual_elapsed_time', 'air_time', 'flights', 'distance',\n",
       "       'carrier_delay', 'weather_delay', 'nas_delay', 'security_delay',\n",
       "       'late_aircraft_delay', 'first_dep_time', 'total_add_gtime',\n",
       "       'longest_add_gtime', 'no_name'],\n",
       "      dtype='object')"
      ]
     },
     "execution_count": 5,
     "metadata": {},
     "output_type": "execute_result"
    }
   ],
   "source": [
    "df_flights.columns"
   ]
  },
  {
   "cell_type": "markdown",
   "metadata": {},
   "source": [
    "#### **Task 6**: How many states cover 50% of US air traffic? "
   ]
  },
  {
   "cell_type": "code",
   "execution_count": 6,
   "metadata": {},
   "outputs": [],
   "source": [
    "feature_traffic=['fl_date', 'mkt_unique_carrier', 'origin', 'origin_city_name', 'dest', 'dest_city_name', 'flights']\n",
    "# converts to date time format\n",
    "df_flights['fl_date']=pd.to_datetime(df_flights['fl_date'],format='%Y-%m-%d')"
   ]
  },
  {
   "cell_type": "code",
   "execution_count": 7,
   "metadata": {
    "collapsed": true,
    "jupyter": {
     "outputs_hidden": true
    }
   },
   "outputs": [
    {
     "data": {
      "text/html": [
       "<div>\n",
       "<style scoped>\n",
       "    .dataframe tbody tr th:only-of-type {\n",
       "        vertical-align: middle;\n",
       "    }\n",
       "\n",
       "    .dataframe tbody tr th {\n",
       "        vertical-align: top;\n",
       "    }\n",
       "\n",
       "    .dataframe thead th {\n",
       "        text-align: right;\n",
       "    }\n",
       "</style>\n",
       "<table border=\"1\" class=\"dataframe\">\n",
       "  <thead>\n",
       "    <tr style=\"text-align: right;\">\n",
       "      <th></th>\n",
       "      <th>fl_date</th>\n",
       "      <th>mkt_unique_carrier</th>\n",
       "      <th>origin</th>\n",
       "      <th>origin_city_name</th>\n",
       "      <th>dest</th>\n",
       "      <th>dest_city_name</th>\n",
       "      <th>flights</th>\n",
       "    </tr>\n",
       "  </thead>\n",
       "  <tbody>\n",
       "    <tr>\n",
       "      <th>0</th>\n",
       "      <td>2019-08-24</td>\n",
       "      <td>UA</td>\n",
       "      <td>DEN</td>\n",
       "      <td>Denver, CO</td>\n",
       "      <td>CNY</td>\n",
       "      <td>Moab, UT</td>\n",
       "      <td>1.0</td>\n",
       "    </tr>\n",
       "    <tr>\n",
       "      <th>1</th>\n",
       "      <td>2019-01-05</td>\n",
       "      <td>WN</td>\n",
       "      <td>HOU</td>\n",
       "      <td>Houston, TX</td>\n",
       "      <td>PHX</td>\n",
       "      <td>Phoenix, AZ</td>\n",
       "      <td>1.0</td>\n",
       "    </tr>\n",
       "    <tr>\n",
       "      <th>2</th>\n",
       "      <td>2018-05-18</td>\n",
       "      <td>WN</td>\n",
       "      <td>HOU</td>\n",
       "      <td>Houston, TX</td>\n",
       "      <td>PHX</td>\n",
       "      <td>Phoenix, AZ</td>\n",
       "      <td>1.0</td>\n",
       "    </tr>\n",
       "    <tr>\n",
       "      <th>3</th>\n",
       "      <td>2018-08-27</td>\n",
       "      <td>DL</td>\n",
       "      <td>PIT</td>\n",
       "      <td>Pittsburgh, PA</td>\n",
       "      <td>MSP</td>\n",
       "      <td>Minneapolis, MN</td>\n",
       "      <td>1.0</td>\n",
       "    </tr>\n",
       "    <tr>\n",
       "      <th>4</th>\n",
       "      <td>2019-05-29</td>\n",
       "      <td>DL</td>\n",
       "      <td>ABQ</td>\n",
       "      <td>Albuquerque, NM</td>\n",
       "      <td>ATL</td>\n",
       "      <td>Atlanta, GA</td>\n",
       "      <td>1.0</td>\n",
       "    </tr>\n",
       "  </tbody>\n",
       "</table>\n",
       "</div>"
      ],
      "text/plain": [
       "     fl_date mkt_unique_carrier origin origin_city_name dest   dest_city_name  \\\n",
       "0 2019-08-24                 UA    DEN       Denver, CO  CNY         Moab, UT   \n",
       "1 2019-01-05                 WN    HOU      Houston, TX  PHX      Phoenix, AZ   \n",
       "2 2018-05-18                 WN    HOU      Houston, TX  PHX      Phoenix, AZ   \n",
       "3 2018-08-27                 DL    PIT   Pittsburgh, PA  MSP  Minneapolis, MN   \n",
       "4 2019-05-29                 DL    ABQ  Albuquerque, NM  ATL      Atlanta, GA   \n",
       "\n",
       "   flights  \n",
       "0      1.0  \n",
       "1      1.0  \n",
       "2      1.0  \n",
       "3      1.0  \n",
       "4      1.0  "
      ]
     },
     "execution_count": 7,
     "metadata": {},
     "output_type": "execute_result"
    }
   ],
   "source": [
    "df_flights[feature_traffic].head()"
   ]
  },
  {
   "cell_type": "code",
   "execution_count": 8,
   "metadata": {
    "collapsed": true,
    "jupyter": {
     "outputs_hidden": true
    }
   },
   "outputs": [
    {
     "data": {
      "text/html": [
       "<div>\n",
       "<style scoped>\n",
       "    .dataframe tbody tr th:only-of-type {\n",
       "        vertical-align: middle;\n",
       "    }\n",
       "\n",
       "    .dataframe tbody tr th {\n",
       "        vertical-align: top;\n",
       "    }\n",
       "\n",
       "    .dataframe thead th {\n",
       "        text-align: right;\n",
       "    }\n",
       "</style>\n",
       "<table border=\"1\" class=\"dataframe\">\n",
       "  <thead>\n",
       "    <tr style=\"text-align: right;\">\n",
       "      <th></th>\n",
       "      <th>fl_date</th>\n",
       "      <th>mkt_unique_carrier</th>\n",
       "      <th>origin</th>\n",
       "      <th>origin_city_name</th>\n",
       "      <th>dest</th>\n",
       "      <th>dest_city_name</th>\n",
       "      <th>flights</th>\n",
       "      <th>origin_state</th>\n",
       "      <th>dest_state</th>\n",
       "    </tr>\n",
       "  </thead>\n",
       "  <tbody>\n",
       "    <tr>\n",
       "      <th>0</th>\n",
       "      <td>2019-08-24</td>\n",
       "      <td>UA</td>\n",
       "      <td>DEN</td>\n",
       "      <td>Denver, CO</td>\n",
       "      <td>CNY</td>\n",
       "      <td>Moab, UT</td>\n",
       "      <td>1.0</td>\n",
       "      <td>CO</td>\n",
       "      <td>UT</td>\n",
       "    </tr>\n",
       "    <tr>\n",
       "      <th>1</th>\n",
       "      <td>2019-01-05</td>\n",
       "      <td>WN</td>\n",
       "      <td>HOU</td>\n",
       "      <td>Houston, TX</td>\n",
       "      <td>PHX</td>\n",
       "      <td>Phoenix, AZ</td>\n",
       "      <td>1.0</td>\n",
       "      <td>TX</td>\n",
       "      <td>AZ</td>\n",
       "    </tr>\n",
       "    <tr>\n",
       "      <th>2</th>\n",
       "      <td>2018-05-18</td>\n",
       "      <td>WN</td>\n",
       "      <td>HOU</td>\n",
       "      <td>Houston, TX</td>\n",
       "      <td>PHX</td>\n",
       "      <td>Phoenix, AZ</td>\n",
       "      <td>1.0</td>\n",
       "      <td>TX</td>\n",
       "      <td>AZ</td>\n",
       "    </tr>\n",
       "    <tr>\n",
       "      <th>3</th>\n",
       "      <td>2018-08-27</td>\n",
       "      <td>DL</td>\n",
       "      <td>PIT</td>\n",
       "      <td>Pittsburgh, PA</td>\n",
       "      <td>MSP</td>\n",
       "      <td>Minneapolis, MN</td>\n",
       "      <td>1.0</td>\n",
       "      <td>PA</td>\n",
       "      <td>MN</td>\n",
       "    </tr>\n",
       "    <tr>\n",
       "      <th>4</th>\n",
       "      <td>2019-05-29</td>\n",
       "      <td>DL</td>\n",
       "      <td>ABQ</td>\n",
       "      <td>Albuquerque, NM</td>\n",
       "      <td>ATL</td>\n",
       "      <td>Atlanta, GA</td>\n",
       "      <td>1.0</td>\n",
       "      <td>NM</td>\n",
       "      <td>GA</td>\n",
       "    </tr>\n",
       "  </tbody>\n",
       "</table>\n",
       "</div>"
      ],
      "text/plain": [
       "     fl_date mkt_unique_carrier origin origin_city_name dest   dest_city_name  \\\n",
       "0 2019-08-24                 UA    DEN       Denver, CO  CNY         Moab, UT   \n",
       "1 2019-01-05                 WN    HOU      Houston, TX  PHX      Phoenix, AZ   \n",
       "2 2018-05-18                 WN    HOU      Houston, TX  PHX      Phoenix, AZ   \n",
       "3 2018-08-27                 DL    PIT   Pittsburgh, PA  MSP  Minneapolis, MN   \n",
       "4 2019-05-29                 DL    ABQ  Albuquerque, NM  ATL      Atlanta, GA   \n",
       "\n",
       "   flights origin_state dest_state  \n",
       "0      1.0           CO         UT  \n",
       "1      1.0           TX         AZ  \n",
       "2      1.0           TX         AZ  \n",
       "3      1.0           PA         MN  \n",
       "4      1.0           NM         GA  "
      ]
     },
     "execution_count": 8,
     "metadata": {},
     "output_type": "execute_result"
    }
   ],
   "source": [
    "task6=df_flights[feature_traffic].copy()\n",
    "task6['origin_state']=task6['origin_city_name'].str[-3:]\n",
    "task6['dest_state']=task6['dest_city_name'].str[-3:]\n",
    "task6.head()"
   ]
  },
  {
   "cell_type": "code",
   "execution_count": 9,
   "metadata": {
    "collapsed": true,
    "jupyter": {
     "outputs_hidden": true
    }
   },
   "outputs": [
    {
     "data": {
      "text/html": [
       "<div>\n",
       "<style scoped>\n",
       "    .dataframe tbody tr th:only-of-type {\n",
       "        vertical-align: middle;\n",
       "    }\n",
       "\n",
       "    .dataframe tbody tr th {\n",
       "        vertical-align: top;\n",
       "    }\n",
       "\n",
       "    .dataframe thead th {\n",
       "        text-align: right;\n",
       "    }\n",
       "</style>\n",
       "<table border=\"1\" class=\"dataframe\">\n",
       "  <thead>\n",
       "    <tr style=\"text-align: right;\">\n",
       "      <th></th>\n",
       "      <th>flights_count</th>\n",
       "      <th>flights_count_%</th>\n",
       "      <th>flights_count_%_cum</th>\n",
       "    </tr>\n",
       "    <tr>\n",
       "      <th>origin_state</th>\n",
       "      <th></th>\n",
       "      <th></th>\n",
       "      <th></th>\n",
       "    </tr>\n",
       "  </thead>\n",
       "  <tbody>\n",
       "    <tr>\n",
       "      <th>CA</th>\n",
       "      <td>5326.0</td>\n",
       "      <td>10.652</td>\n",
       "      <td>10.652</td>\n",
       "    </tr>\n",
       "    <tr>\n",
       "      <th>TX</th>\n",
       "      <td>4978.0</td>\n",
       "      <td>9.956</td>\n",
       "      <td>20.608</td>\n",
       "    </tr>\n",
       "    <tr>\n",
       "      <th>FL</th>\n",
       "      <td>3756.0</td>\n",
       "      <td>7.512</td>\n",
       "      <td>28.120</td>\n",
       "    </tr>\n",
       "    <tr>\n",
       "      <th>IL</th>\n",
       "      <td>3201.0</td>\n",
       "      <td>6.402</td>\n",
       "      <td>34.522</td>\n",
       "    </tr>\n",
       "    <tr>\n",
       "      <th>NY</th>\n",
       "      <td>2647.0</td>\n",
       "      <td>5.294</td>\n",
       "      <td>39.816</td>\n",
       "    </tr>\n",
       "    <tr>\n",
       "      <th>GA</th>\n",
       "      <td>2636.0</td>\n",
       "      <td>5.272</td>\n",
       "      <td>45.088</td>\n",
       "    </tr>\n",
       "    <tr>\n",
       "      <th>NC</th>\n",
       "      <td>2288.0</td>\n",
       "      <td>4.576</td>\n",
       "      <td>49.664</td>\n",
       "    </tr>\n",
       "    <tr>\n",
       "      <th>CO</th>\n",
       "      <td>1979.0</td>\n",
       "      <td>3.958</td>\n",
       "      <td>53.622</td>\n",
       "    </tr>\n",
       "    <tr>\n",
       "      <th>PA</th>\n",
       "      <td>1478.0</td>\n",
       "      <td>2.956</td>\n",
       "      <td>56.578</td>\n",
       "    </tr>\n",
       "    <tr>\n",
       "      <th>DC</th>\n",
       "      <td>1467.0</td>\n",
       "      <td>2.934</td>\n",
       "      <td>59.512</td>\n",
       "    </tr>\n",
       "  </tbody>\n",
       "</table>\n",
       "</div>"
      ],
      "text/plain": [
       "              flights_count  flights_count_%  flights_count_%_cum\n",
       "origin_state                                                     \n",
       " CA                  5326.0           10.652               10.652\n",
       " TX                  4978.0            9.956               20.608\n",
       " FL                  3756.0            7.512               28.120\n",
       " IL                  3201.0            6.402               34.522\n",
       " NY                  2647.0            5.294               39.816\n",
       " GA                  2636.0            5.272               45.088\n",
       " NC                  2288.0            4.576               49.664\n",
       " CO                  1979.0            3.958               53.622\n",
       " PA                  1478.0            2.956               56.578\n",
       " DC                  1467.0            2.934               59.512"
      ]
     },
     "execution_count": 9,
     "metadata": {},
     "output_type": "execute_result"
    }
   ],
   "source": [
    "task6_res=pd.DataFrame(task6.groupby(by='origin_state')['flights'].sum().sort_values(ascending=False))\n",
    "task6_res.columns=['flights_count']\n",
    "task6_res['flights_count_%']=(task6_res.flights_count/task6_res.flights_count.sum())*100\n",
    "task6_res['flights_count_%_cum']=task6_res['flights_count_%'].cumsum()\n",
    "task6_res.head(10)"
   ]
  },
  {
   "cell_type": "code",
   "execution_count": 11,
   "metadata": {
    "collapsed": true,
    "jupyter": {
     "outputs_hidden": true
    }
   },
   "outputs": [
    {
     "data": {
      "image/png": "[encoded data removed]",
      "text/plain": [
       "<Figure size 432x288 with 1 Axes>"
      ]
     },
     "metadata": {},
     "output_type": "display_data"
    }
   ],
   "source": [
    "axes=task6_res.iloc[:14,1:].plot.bar()"
   ]
  },
  {
   "cell_type": "markdown",
   "metadata": {},
   "source": [
    "#### **Task 7**: Test the hypothesis whether planes fly faster when there is the departure delay? "
   ]
  },
  {
   "cell_type": "code",
   "execution_count": 12,
   "metadata": {},
   "outputs": [],
   "source": [
    "feature_tsk7=['fl_date','crs_elapsed_time','actual_elapsed_time','dep_delay','taxi_in','taxi_out']"
   ]
  },
  {
   "cell_type": "code",
   "execution_count": 13,
   "metadata": {
    "collapsed": true,
    "jupyter": {
     "outputs_hidden": true
    }
   },
   "outputs": [
    {
     "data": {
      "text/html": [
       "<div>\n",
       "<style scoped>\n",
       "    .dataframe tbody tr th:only-of-type {\n",
       "        vertical-align: middle;\n",
       "    }\n",
       "\n",
       "    .dataframe tbody tr th {\n",
       "        vertical-align: top;\n",
       "    }\n",
       "\n",
       "    .dataframe thead th {\n",
       "        text-align: right;\n",
       "    }\n",
       "</style>\n",
       "<table border=\"1\" class=\"dataframe\">\n",
       "  <thead>\n",
       "    <tr style=\"text-align: right;\">\n",
       "      <th></th>\n",
       "      <th>fl_date</th>\n",
       "      <th>crs_elapsed_time</th>\n",
       "      <th>actual_elapsed_time</th>\n",
       "      <th>dep_delay</th>\n",
       "      <th>taxi_in</th>\n",
       "      <th>taxi_out</th>\n",
       "    </tr>\n",
       "  </thead>\n",
       "  <tbody>\n",
       "    <tr>\n",
       "      <th>0</th>\n",
       "      <td>2019-08-24</td>\n",
       "      <td>74.0</td>\n",
       "      <td>65.0</td>\n",
       "      <td>0.0</td>\n",
       "      <td>5.0</td>\n",
       "      <td>16.0</td>\n",
       "    </tr>\n",
       "    <tr>\n",
       "      <th>1</th>\n",
       "      <td>2019-01-05</td>\n",
       "      <td>175.0</td>\n",
       "      <td>165.0</td>\n",
       "      <td>-3.0</td>\n",
       "      <td>5.0</td>\n",
       "      <td>7.0</td>\n",
       "    </tr>\n",
       "    <tr>\n",
       "      <th>2</th>\n",
       "      <td>2018-05-18</td>\n",
       "      <td>170.0</td>\n",
       "      <td>162.0</td>\n",
       "      <td>21.0</td>\n",
       "      <td>4.0</td>\n",
       "      <td>13.0</td>\n",
       "    </tr>\n",
       "    <tr>\n",
       "      <th>3</th>\n",
       "      <td>2018-08-27</td>\n",
       "      <td>132.0</td>\n",
       "      <td>123.0</td>\n",
       "      <td>-7.0</td>\n",
       "      <td>2.0</td>\n",
       "      <td>14.0</td>\n",
       "    </tr>\n",
       "    <tr>\n",
       "      <th>4</th>\n",
       "      <td>2019-05-29</td>\n",
       "      <td>188.0</td>\n",
       "      <td>178.0</td>\n",
       "      <td>21.0</td>\n",
       "      <td>5.0</td>\n",
       "      <td>15.0</td>\n",
       "    </tr>\n",
       "  </tbody>\n",
       "</table>\n",
       "</div>"
      ],
      "text/plain": [
       "     fl_date  crs_elapsed_time  actual_elapsed_time  dep_delay  taxi_in  \\\n",
       "0 2019-08-24              74.0                 65.0        0.0      5.0   \n",
       "1 2019-01-05             175.0                165.0       -3.0      5.0   \n",
       "2 2018-05-18             170.0                162.0       21.0      4.0   \n",
       "3 2018-08-27             132.0                123.0       -7.0      2.0   \n",
       "4 2019-05-29             188.0                178.0       21.0      5.0   \n",
       "\n",
       "   taxi_out  \n",
       "0      16.0  \n",
       "1       7.0  \n",
       "2      13.0  \n",
       "3      14.0  \n",
       "4      15.0  "
      ]
     },
     "execution_count": 13,
     "metadata": {},
     "output_type": "execute_result"
    }
   ],
   "source": [
    "task7=df_flights[feature_tsk7].copy()\n",
    "task7.head()"
   ]
  },
  {
   "cell_type": "code",
   "execution_count": 14,
   "metadata": {
    "collapsed": true,
    "jupyter": {
     "outputs_hidden": true
    }
   },
   "outputs": [
    {
     "data": {
      "text/html": [
       "<div>\n",
       "<style scoped>\n",
       "    .dataframe tbody tr th:only-of-type {\n",
       "        vertical-align: middle;\n",
       "    }\n",
       "\n",
       "    .dataframe tbody tr th {\n",
       "        vertical-align: top;\n",
       "    }\n",
       "\n",
       "    .dataframe thead th {\n",
       "        text-align: right;\n",
       "    }\n",
       "</style>\n",
       "<table border=\"1\" class=\"dataframe\">\n",
       "  <thead>\n",
       "    <tr style=\"text-align: right;\">\n",
       "      <th></th>\n",
       "      <th>crs_elapsed_time</th>\n",
       "      <th>actual_elapsed_time</th>\n",
       "      <th>dep_delay</th>\n",
       "      <th>taxi_in</th>\n",
       "      <th>taxi_out</th>\n",
       "    </tr>\n",
       "  </thead>\n",
       "  <tbody>\n",
       "    <tr>\n",
       "      <th>count</th>\n",
       "      <td>50000.000000</td>\n",
       "      <td>49030.000000</td>\n",
       "      <td>49176.000000</td>\n",
       "      <td>49123.000000</td>\n",
       "      <td>49146.000000</td>\n",
       "    </tr>\n",
       "    <tr>\n",
       "      <th>mean</th>\n",
       "      <td>138.272260</td>\n",
       "      <td>133.674689</td>\n",
       "      <td>11.034854</td>\n",
       "      <td>7.766382</td>\n",
       "      <td>17.555793</td>\n",
       "    </tr>\n",
       "    <tr>\n",
       "      <th>std</th>\n",
       "      <td>71.582831</td>\n",
       "      <td>71.587365</td>\n",
       "      <td>50.748028</td>\n",
       "      <td>6.420474</td>\n",
       "      <td>10.081018</td>\n",
       "    </tr>\n",
       "    <tr>\n",
       "      <th>min</th>\n",
       "      <td>-35.000000</td>\n",
       "      <td>21.000000</td>\n",
       "      <td>-276.000000</td>\n",
       "      <td>0.000000</td>\n",
       "      <td>1.000000</td>\n",
       "    </tr>\n",
       "    <tr>\n",
       "      <th>25%</th>\n",
       "      <td>87.000000</td>\n",
       "      <td>82.000000</td>\n",
       "      <td>-6.000000</td>\n",
       "      <td>4.000000</td>\n",
       "      <td>11.000000</td>\n",
       "    </tr>\n",
       "    <tr>\n",
       "      <th>50%</th>\n",
       "      <td>120.000000</td>\n",
       "      <td>115.000000</td>\n",
       "      <td>-2.000000</td>\n",
       "      <td>6.000000</td>\n",
       "      <td>15.000000</td>\n",
       "    </tr>\n",
       "    <tr>\n",
       "      <th>75%</th>\n",
       "      <td>168.000000</td>\n",
       "      <td>164.000000</td>\n",
       "      <td>7.000000</td>\n",
       "      <td>9.000000</td>\n",
       "      <td>20.000000</td>\n",
       "    </tr>\n",
       "    <tr>\n",
       "      <th>max</th>\n",
       "      <td>690.000000</td>\n",
       "      <td>669.000000</td>\n",
       "      <td>1449.000000</td>\n",
       "      <td>224.000000</td>\n",
       "      <td>169.000000</td>\n",
       "    </tr>\n",
       "  </tbody>\n",
       "</table>\n",
       "</div>"
      ],
      "text/plain": [
       "       crs_elapsed_time  actual_elapsed_time     dep_delay       taxi_in  \\\n",
       "count      50000.000000         49030.000000  49176.000000  49123.000000   \n",
       "mean         138.272260           133.674689     11.034854      7.766382   \n",
       "std           71.582831            71.587365     50.748028      6.420474   \n",
       "min          -35.000000            21.000000   -276.000000      0.000000   \n",
       "25%           87.000000            82.000000     -6.000000      4.000000   \n",
       "50%          120.000000           115.000000     -2.000000      6.000000   \n",
       "75%          168.000000           164.000000      7.000000      9.000000   \n",
       "max          690.000000           669.000000   1449.000000    224.000000   \n",
       "\n",
       "           taxi_out  \n",
       "count  49146.000000  \n",
       "mean      17.555793  \n",
       "std       10.081018  \n",
       "min        1.000000  \n",
       "25%       11.000000  \n",
       "50%       15.000000  \n",
       "75%       20.000000  \n",
       "max      169.000000  "
      ]
     },
     "execution_count": 14,
     "metadata": {},
     "output_type": "execute_result"
    }
   ],
   "source": [
    "task7.describe()"
   ]
  },
  {
   "cell_type": "code",
   "execution_count": 15,
   "metadata": {
    "collapsed": true,
    "jupyter": {
     "outputs_hidden": true
    }
   },
   "outputs": [
    {
     "data": {
      "text/plain": [
       "<matplotlib.axes._subplots.AxesSubplot at 0x23274c12438>"
      ]
     },
     "execution_count": 15,
     "metadata": {},
     "output_type": "execute_result"
    },
    {
     "data": {
      "image/png": "[encoded data removed]",
      "text/plain": [
       "<Figure size 432x288 with 1 Axes>"
      ]
     },
     "metadata": {},
     "output_type": "display_data"
    }
   ],
   "source": [
    "task7.taxi_in.hist(bins=100, range=(0, 50))"
   ]
  },
  {
   "cell_type": "code",
   "execution_count": 16,
   "metadata": {
    "collapsed": true,
    "jupyter": {
     "outputs_hidden": true
    }
   },
   "outputs": [
    {
     "data": {
      "text/plain": [
       "<matplotlib.axes._subplots.AxesSubplot at 0x23275126588>"
      ]
     },
     "execution_count": 16,
     "metadata": {},
     "output_type": "execute_result"
    },
    {
     "data": {
      "image/png": "[encoded data removed]",
      "text/plain": [
       "<Figure size 432x288 with 1 Axes>"
      ]
     },
     "metadata": {},
     "output_type": "display_data"
    }
   ],
   "source": [
    "task7.taxi_out.hist(bins=100, range=(0, 50))"
   ]
  },
  {
   "cell_type": "code",
   "execution_count": 17,
   "metadata": {
    "collapsed": true,
    "jupyter": {
     "outputs_hidden": true
    }
   },
   "outputs": [
    {
     "data": {
      "text/plain": [
       "34588"
      ]
     },
     "execution_count": 17,
     "metadata": {},
     "output_type": "execute_result"
    }
   ],
   "source": [
    "# count how many times actual<crs\n",
    "fast_flight=task7[task7.actual_elapsed_time<task7.crs_elapsed_time].fl_date.count()\n",
    "fast_flight"
   ]
  },
  {
   "cell_type": "code",
   "execution_count": 18,
   "metadata": {
    "collapsed": true,
    "jupyter": {
     "outputs_hidden": true
    }
   },
   "outputs": [
    {
     "data": {
      "text/plain": [
       "11653"
      ]
     },
     "execution_count": 18,
     "metadata": {},
     "output_type": "execute_result"
    }
   ],
   "source": [
    "fast_flight_withdelay=task7[(task7.actual_elapsed_time<task7.crs_elapsed_time) & (task7.dep_delay>0)].fl_date.count()\n",
    "fast_flight_withdelay"
   ]
  },
  {
   "cell_type": "code",
   "execution_count": 19,
   "metadata": {
    "collapsed": true,
    "jupyter": {
     "outputs_hidden": true
    }
   },
   "outputs": [
    {
     "data": {
      "text/plain": [
       "<matplotlib.axes._subplots.AxesSubplot at 0x23274f12400>"
      ]
     },
     "execution_count": 19,
     "metadata": {},
     "output_type": "execute_result"
    },
    {
     "data": {
      "image/png": "[encoded data removed]",
      "text/plain": [
       "<Figure size 432x288 with 1 Axes>"
      ]
     },
     "metadata": {},
     "output_type": "display_data"
    }
   ],
   "source": [
    "index=['Faster_Flights']\n",
    "with_delay=[fast_flight_withdelay]\n",
    "All=[fast_flight]\n",
    "df_tsk7=pd.DataFrame({'All':All, 'with_delay':with_delay}, index=index)\n",
    "df_tsk7.plot.bar(rot=0)"
   ]
  },
  {
   "cell_type": "markdown",
   "metadata": {},
   "source": [
    "### Another approach"
   ]
  },
  {
   "cell_type": "code",
   "execution_count": 20,
   "metadata": {},
   "outputs": [],
   "source": [
    "feature2_tsk7=['fl_date','crs_elapsed_time','actual_elapsed_time','dep_delay','arr_delay','distance','air_time']"
   ]
  },
  {
   "cell_type": "code",
   "execution_count": 21,
   "metadata": {
    "collapsed": true,
    "jupyter": {
     "outputs_hidden": true
    }
   },
   "outputs": [
    {
     "data": {
      "text/html": [
       "<div>\n",
       "<style scoped>\n",
       "    .dataframe tbody tr th:only-of-type {\n",
       "        vertical-align: middle;\n",
       "    }\n",
       "\n",
       "    .dataframe tbody tr th {\n",
       "        vertical-align: top;\n",
       "    }\n",
       "\n",
       "    .dataframe thead th {\n",
       "        text-align: right;\n",
       "    }\n",
       "</style>\n",
       "<table border=\"1\" class=\"dataframe\">\n",
       "  <thead>\n",
       "    <tr style=\"text-align: right;\">\n",
       "      <th></th>\n",
       "      <th>fl_date</th>\n",
       "      <th>crs_elapsed_time</th>\n",
       "      <th>actual_elapsed_time</th>\n",
       "      <th>dep_delay</th>\n",
       "      <th>arr_delay</th>\n",
       "      <th>distance</th>\n",
       "      <th>air_time</th>\n",
       "    </tr>\n",
       "  </thead>\n",
       "  <tbody>\n",
       "    <tr>\n",
       "      <th>0</th>\n",
       "      <td>2019-08-24</td>\n",
       "      <td>74.0</td>\n",
       "      <td>65.0</td>\n",
       "      <td>0.0</td>\n",
       "      <td>-9.0</td>\n",
       "      <td>283.0</td>\n",
       "      <td>44.0</td>\n",
       "    </tr>\n",
       "    <tr>\n",
       "      <th>1</th>\n",
       "      <td>2019-01-05</td>\n",
       "      <td>175.0</td>\n",
       "      <td>165.0</td>\n",
       "      <td>-3.0</td>\n",
       "      <td>-13.0</td>\n",
       "      <td>1020.0</td>\n",
       "      <td>153.0</td>\n",
       "    </tr>\n",
       "    <tr>\n",
       "      <th>2</th>\n",
       "      <td>2018-05-18</td>\n",
       "      <td>170.0</td>\n",
       "      <td>162.0</td>\n",
       "      <td>21.0</td>\n",
       "      <td>13.0</td>\n",
       "      <td>1020.0</td>\n",
       "      <td>145.0</td>\n",
       "    </tr>\n",
       "    <tr>\n",
       "      <th>3</th>\n",
       "      <td>2018-08-27</td>\n",
       "      <td>132.0</td>\n",
       "      <td>123.0</td>\n",
       "      <td>-7.0</td>\n",
       "      <td>-16.0</td>\n",
       "      <td>726.0</td>\n",
       "      <td>107.0</td>\n",
       "    </tr>\n",
       "    <tr>\n",
       "      <th>4</th>\n",
       "      <td>2019-05-29</td>\n",
       "      <td>188.0</td>\n",
       "      <td>178.0</td>\n",
       "      <td>21.0</td>\n",
       "      <td>11.0</td>\n",
       "      <td>1269.0</td>\n",
       "      <td>158.0</td>\n",
       "    </tr>\n",
       "  </tbody>\n",
       "</table>\n",
       "</div>"
      ],
      "text/plain": [
       "     fl_date  crs_elapsed_time  actual_elapsed_time  dep_delay  arr_delay  \\\n",
       "0 2019-08-24              74.0                 65.0        0.0       -9.0   \n",
       "1 2019-01-05             175.0                165.0       -3.0      -13.0   \n",
       "2 2018-05-18             170.0                162.0       21.0       13.0   \n",
       "3 2018-08-27             132.0                123.0       -7.0      -16.0   \n",
       "4 2019-05-29             188.0                178.0       21.0       11.0   \n",
       "\n",
       "   distance  air_time  \n",
       "0     283.0      44.0  \n",
       "1    1020.0     153.0  \n",
       "2    1020.0     145.0  \n",
       "3     726.0     107.0  \n",
       "4    1269.0     158.0  "
      ]
     },
     "execution_count": 21,
     "metadata": {},
     "output_type": "execute_result"
    }
   ],
   "source": [
    "task7_2=df_flights[feature2_tsk7].copy()\n",
    "task7_2.head()"
   ]
  },
  {
   "cell_type": "code",
   "execution_count": 22,
   "metadata": {
    "collapsed": true,
    "jupyter": {
     "outputs_hidden": true
    }
   },
   "outputs": [
    {
     "data": {
      "text/html": [
       "<div>\n",
       "<style scoped>\n",
       "    .dataframe tbody tr th:only-of-type {\n",
       "        vertical-align: middle;\n",
       "    }\n",
       "\n",
       "    .dataframe tbody tr th {\n",
       "        vertical-align: top;\n",
       "    }\n",
       "\n",
       "    .dataframe thead th {\n",
       "        text-align: right;\n",
       "    }\n",
       "</style>\n",
       "<table border=\"1\" class=\"dataframe\">\n",
       "  <thead>\n",
       "    <tr style=\"text-align: right;\">\n",
       "      <th></th>\n",
       "      <th>fl_date</th>\n",
       "      <th>crs_elapsed_time</th>\n",
       "      <th>actual_elapsed_time</th>\n",
       "      <th>dep_delay</th>\n",
       "      <th>arr_delay</th>\n",
       "      <th>distance</th>\n",
       "      <th>air_time</th>\n",
       "      <th>distance_km</th>\n",
       "      <th>air_time_h</th>\n",
       "      <th>speed</th>\n",
       "    </tr>\n",
       "  </thead>\n",
       "  <tbody>\n",
       "    <tr>\n",
       "      <th>0</th>\n",
       "      <td>2019-08-24</td>\n",
       "      <td>74.0</td>\n",
       "      <td>65.0</td>\n",
       "      <td>0.0</td>\n",
       "      <td>-9.0</td>\n",
       "      <td>283.0</td>\n",
       "      <td>44.0</td>\n",
       "      <td>455.444352</td>\n",
       "      <td>0.733333</td>\n",
       "      <td>621.060356</td>\n",
       "    </tr>\n",
       "    <tr>\n",
       "      <th>1</th>\n",
       "      <td>2019-01-05</td>\n",
       "      <td>175.0</td>\n",
       "      <td>165.0</td>\n",
       "      <td>-3.0</td>\n",
       "      <td>-13.0</td>\n",
       "      <td>1020.0</td>\n",
       "      <td>153.0</td>\n",
       "      <td>1641.530880</td>\n",
       "      <td>2.550001</td>\n",
       "      <td>643.737471</td>\n",
       "    </tr>\n",
       "    <tr>\n",
       "      <th>2</th>\n",
       "      <td>2018-05-18</td>\n",
       "      <td>170.0</td>\n",
       "      <td>162.0</td>\n",
       "      <td>21.0</td>\n",
       "      <td>13.0</td>\n",
       "      <td>1020.0</td>\n",
       "      <td>145.0</td>\n",
       "      <td>1641.530880</td>\n",
       "      <td>2.416667</td>\n",
       "      <td>679.254021</td>\n",
       "    </tr>\n",
       "    <tr>\n",
       "      <th>3</th>\n",
       "      <td>2018-08-27</td>\n",
       "      <td>132.0</td>\n",
       "      <td>123.0</td>\n",
       "      <td>-7.0</td>\n",
       "      <td>-16.0</td>\n",
       "      <td>726.0</td>\n",
       "      <td>107.0</td>\n",
       "      <td>1168.383744</td>\n",
       "      <td>1.783334</td>\n",
       "      <td>655.168324</td>\n",
       "    </tr>\n",
       "    <tr>\n",
       "      <th>4</th>\n",
       "      <td>2019-05-29</td>\n",
       "      <td>188.0</td>\n",
       "      <td>178.0</td>\n",
       "      <td>21.0</td>\n",
       "      <td>11.0</td>\n",
       "      <td>1269.0</td>\n",
       "      <td>158.0</td>\n",
       "      <td>2042.257536</td>\n",
       "      <td>2.633334</td>\n",
       "      <td>775.540681</td>\n",
       "    </tr>\n",
       "  </tbody>\n",
       "</table>\n",
       "</div>"
      ],
      "text/plain": [
       "     fl_date  crs_elapsed_time  actual_elapsed_time  dep_delay  arr_delay  \\\n",
       "0 2019-08-24              74.0                 65.0        0.0       -9.0   \n",
       "1 2019-01-05             175.0                165.0       -3.0      -13.0   \n",
       "2 2018-05-18             170.0                162.0       21.0       13.0   \n",
       "3 2018-08-27             132.0                123.0       -7.0      -16.0   \n",
       "4 2019-05-29             188.0                178.0       21.0       11.0   \n",
       "\n",
       "   distance  air_time  distance_km  air_time_h       speed  \n",
       "0     283.0      44.0   455.444352    0.733333  621.060356  \n",
       "1    1020.0     153.0  1641.530880    2.550001  643.737471  \n",
       "2    1020.0     145.0  1641.530880    2.416667  679.254021  \n",
       "3     726.0     107.0  1168.383744    1.783334  655.168324  \n",
       "4    1269.0     158.0  2042.257536    2.633334  775.540681  "
      ]
     },
     "execution_count": 22,
     "metadata": {},
     "output_type": "execute_result"
    }
   ],
   "source": [
    "task7_2['distance_km']=task7_2.distance*1.609344\n",
    "task7_2['air_time_h']=task7_2.air_time*0.01666667\n",
    "task7_2['speed']=task7_2.distance_km/task7_2.air_time_h\n",
    "task7_2.head()"
   ]
  },
  {
   "cell_type": "code",
   "execution_count": 23,
   "metadata": {
    "collapsed": true,
    "jupyter": {
     "outputs_hidden": true
    }
   },
   "outputs": [
    {
     "data": {
      "text/plain": [
       "637.2405679603222"
      ]
     },
     "execution_count": 23,
     "metadata": {},
     "output_type": "execute_result"
    }
   ],
   "source": [
    "task7_2[task7_2.dep_delay<=0].speed.mean()"
   ]
  },
  {
   "cell_type": "code",
   "execution_count": 24,
   "metadata": {
    "collapsed": true,
    "jupyter": {
     "outputs_hidden": true
    }
   },
   "outputs": [
    {
     "data": {
      "text/plain": [
       "652.0680562597877"
      ]
     },
     "execution_count": 24,
     "metadata": {},
     "output_type": "execute_result"
    }
   ],
   "source": [
    "task7_2[task7_2.dep_delay>0].speed.mean()"
   ]
  },
  {
   "cell_type": "code",
   "execution_count": 25,
   "metadata": {
    "collapsed": true,
    "jupyter": {
     "outputs_hidden": true
    }
   },
   "outputs": [
    {
     "data": {
      "text/plain": [
       "650.8190440551599"
      ]
     },
     "execution_count": 25,
     "metadata": {},
     "output_type": "execute_result"
    }
   ],
   "source": [
    "# count how many times actual<crs\n",
    "fast_flight2=task7_2[(task7_2.actual_elapsed_time<task7_2.crs_elapsed_time)& (task7.dep_delay<=0)].speed.mean()\n",
    "fast_flight2"
   ]
  },
  {
   "cell_type": "code",
   "execution_count": 26,
   "metadata": {
    "collapsed": true,
    "jupyter": {
     "outputs_hidden": true
    }
   },
   "outputs": [
    {
     "data": {
      "text/plain": [
       "668.9131792676523"
      ]
     },
     "execution_count": 26,
     "metadata": {},
     "output_type": "execute_result"
    }
   ],
   "source": [
    "fast_flight2=task7_2[(task7.actual_elapsed_time<task7.crs_elapsed_time) & (task7.dep_delay>0)].speed.mean()\n",
    "fast_flight2"
   ]
  },
  {
   "cell_type": "markdown",
   "metadata": {},
   "source": [
    "### Another approach, used as final result"
   ]
  },
  {
   "cell_type": "code",
   "execution_count": 27,
   "metadata": {
    "collapsed": true,
    "jupyter": {
     "outputs_hidden": true
    }
   },
   "outputs": [
    {
     "data": {
      "text/html": [
       "<div>\n",
       "<style scoped>\n",
       "    .dataframe tbody tr th:only-of-type {\n",
       "        vertical-align: middle;\n",
       "    }\n",
       "\n",
       "    .dataframe tbody tr th {\n",
       "        vertical-align: top;\n",
       "    }\n",
       "\n",
       "    .dataframe thead th {\n",
       "        text-align: right;\n",
       "    }\n",
       "</style>\n",
       "<table border=\"1\" class=\"dataframe\">\n",
       "  <thead>\n",
       "    <tr style=\"text-align: right;\">\n",
       "      <th></th>\n",
       "      <th>fl_date</th>\n",
       "      <th>crs_elapsed_time</th>\n",
       "      <th>actual_elapsed_time</th>\n",
       "      <th>dep_delay</th>\n",
       "      <th>arr_delay</th>\n",
       "      <th>distance</th>\n",
       "      <th>air_time</th>\n",
       "    </tr>\n",
       "  </thead>\n",
       "  <tbody>\n",
       "    <tr>\n",
       "      <th>0</th>\n",
       "      <td>2019-08-24</td>\n",
       "      <td>74.0</td>\n",
       "      <td>65.0</td>\n",
       "      <td>0.0</td>\n",
       "      <td>-9.0</td>\n",
       "      <td>283.0</td>\n",
       "      <td>44.0</td>\n",
       "    </tr>\n",
       "    <tr>\n",
       "      <th>1</th>\n",
       "      <td>2019-01-05</td>\n",
       "      <td>175.0</td>\n",
       "      <td>165.0</td>\n",
       "      <td>-3.0</td>\n",
       "      <td>-13.0</td>\n",
       "      <td>1020.0</td>\n",
       "      <td>153.0</td>\n",
       "    </tr>\n",
       "    <tr>\n",
       "      <th>2</th>\n",
       "      <td>2018-05-18</td>\n",
       "      <td>170.0</td>\n",
       "      <td>162.0</td>\n",
       "      <td>21.0</td>\n",
       "      <td>13.0</td>\n",
       "      <td>1020.0</td>\n",
       "      <td>145.0</td>\n",
       "    </tr>\n",
       "    <tr>\n",
       "      <th>3</th>\n",
       "      <td>2018-08-27</td>\n",
       "      <td>132.0</td>\n",
       "      <td>123.0</td>\n",
       "      <td>-7.0</td>\n",
       "      <td>-16.0</td>\n",
       "      <td>726.0</td>\n",
       "      <td>107.0</td>\n",
       "    </tr>\n",
       "    <tr>\n",
       "      <th>4</th>\n",
       "      <td>2019-05-29</td>\n",
       "      <td>188.0</td>\n",
       "      <td>178.0</td>\n",
       "      <td>21.0</td>\n",
       "      <td>11.0</td>\n",
       "      <td>1269.0</td>\n",
       "      <td>158.0</td>\n",
       "    </tr>\n",
       "    <tr>\n",
       "      <th>...</th>\n",
       "      <td>...</td>\n",
       "      <td>...</td>\n",
       "      <td>...</td>\n",
       "      <td>...</td>\n",
       "      <td>...</td>\n",
       "      <td>...</td>\n",
       "      <td>...</td>\n",
       "    </tr>\n",
       "    <tr>\n",
       "      <th>49995</th>\n",
       "      <td>2018-03-08</td>\n",
       "      <td>138.0</td>\n",
       "      <td>120.0</td>\n",
       "      <td>-9.0</td>\n",
       "      <td>-27.0</td>\n",
       "      <td>872.0</td>\n",
       "      <td>102.0</td>\n",
       "    </tr>\n",
       "    <tr>\n",
       "      <th>49996</th>\n",
       "      <td>2018-01-28</td>\n",
       "      <td>180.0</td>\n",
       "      <td>186.0</td>\n",
       "      <td>2.0</td>\n",
       "      <td>8.0</td>\n",
       "      <td>1246.0</td>\n",
       "      <td>164.0</td>\n",
       "    </tr>\n",
       "    <tr>\n",
       "      <th>49997</th>\n",
       "      <td>2018-04-27</td>\n",
       "      <td>121.0</td>\n",
       "      <td>108.0</td>\n",
       "      <td>-8.0</td>\n",
       "      <td>-21.0</td>\n",
       "      <td>601.0</td>\n",
       "      <td>86.0</td>\n",
       "    </tr>\n",
       "    <tr>\n",
       "      <th>49998</th>\n",
       "      <td>2019-08-28</td>\n",
       "      <td>81.0</td>\n",
       "      <td>71.0</td>\n",
       "      <td>-7.0</td>\n",
       "      <td>-17.0</td>\n",
       "      <td>184.0</td>\n",
       "      <td>32.0</td>\n",
       "    </tr>\n",
       "    <tr>\n",
       "      <th>49999</th>\n",
       "      <td>2018-06-06</td>\n",
       "      <td>185.0</td>\n",
       "      <td>159.0</td>\n",
       "      <td>-9.0</td>\n",
       "      <td>-35.0</td>\n",
       "      <td>1034.0</td>\n",
       "      <td>139.0</td>\n",
       "    </tr>\n",
       "  </tbody>\n",
       "</table>\n",
       "<p>50000 rows × 7 columns</p>\n",
       "</div>"
      ],
      "text/plain": [
       "         fl_date  crs_elapsed_time  actual_elapsed_time  dep_delay  arr_delay  \\\n",
       "0     2019-08-24              74.0                 65.0        0.0       -9.0   \n",
       "1     2019-01-05             175.0                165.0       -3.0      -13.0   \n",
       "2     2018-05-18             170.0                162.0       21.0       13.0   \n",
       "3     2018-08-27             132.0                123.0       -7.0      -16.0   \n",
       "4     2019-05-29             188.0                178.0       21.0       11.0   \n",
       "...          ...               ...                  ...        ...        ...   \n",
       "49995 2018-03-08             138.0                120.0       -9.0      -27.0   \n",
       "49996 2018-01-28             180.0                186.0        2.0        8.0   \n",
       "49997 2018-04-27             121.0                108.0       -8.0      -21.0   \n",
       "49998 2019-08-28              81.0                 71.0       -7.0      -17.0   \n",
       "49999 2018-06-06             185.0                159.0       -9.0      -35.0   \n",
       "\n",
       "       distance  air_time  \n",
       "0         283.0      44.0  \n",
       "1        1020.0     153.0  \n",
       "2        1020.0     145.0  \n",
       "3         726.0     107.0  \n",
       "4        1269.0     158.0  \n",
       "...         ...       ...  \n",
       "49995     872.0     102.0  \n",
       "49996    1246.0     164.0  \n",
       "49997     601.0      86.0  \n",
       "49998     184.0      32.0  \n",
       "49999    1034.0     139.0  \n",
       "\n",
       "[50000 rows x 7 columns]"
      ]
     },
     "execution_count": 27,
     "metadata": {},
     "output_type": "execute_result"
    }
   ],
   "source": [
    "task7_3=df_flights[feature2_tsk7].copy()\n",
    "task7_3"
   ]
  },
  {
   "cell_type": "code",
   "execution_count": 28,
   "metadata": {
    "collapsed": true,
    "jupyter": {
     "outputs_hidden": true
    }
   },
   "outputs": [
    {
     "data": {
      "text/plain": [
       "16732"
      ]
     },
     "execution_count": 28,
     "metadata": {},
     "output_type": "execute_result"
    }
   ],
   "source": [
    "flights_dep_delayed=task7_3[task7_3.dep_delay>0].fl_date.count()\n",
    "flights_dep_delayed"
   ]
  },
  {
   "cell_type": "code",
   "execution_count": 30,
   "metadata": {
    "collapsed": true,
    "jupyter": {
     "outputs_hidden": true
    }
   },
   "outputs": [
    {
     "data": {
      "text/plain": [
       "11650"
      ]
     },
     "execution_count": 30,
     "metadata": {},
     "output_type": "execute_result"
    }
   ],
   "source": [
    "# flights with arr_delay smaller than the dep_delay\n",
    "flights_reduce_delay=task7_3[(task7_3.dep_delay>0)&(task7_3.arr_delay<task7_3.dep_delay)].fl_date.count()\n",
    "flights_reduce_delay"
   ]
  },
  {
   "cell_type": "code",
   "execution_count": 31,
   "metadata": {
    "collapsed": true,
    "jupyter": {
     "outputs_hidden": true
    }
   },
   "outputs": [
    {
     "data": {
      "text/plain": [
       "<matplotlib.axes._subplots.AxesSubplot at 0x2327574f5f8>"
      ]
     },
     "execution_count": 31,
     "metadata": {},
     "output_type": "execute_result"
    },
    {
     "data": {
      "image/png": "[encoded data removed]",
      "text/plain": [
       "<Figure size 432x288 with 1 Axes>"
      ]
     },
     "metadata": {},
     "output_type": "display_data"
    }
   ],
   "source": [
    "index=['Fast_Flights']\n",
    "with_delay=[flights_dep_delayed]\n",
    "reduced_delay=[flights_reduce_delay]\n",
    "df_tsk7_3=pd.DataFrame({'Flights_dep_delay':with_delay, 'Reduced_delay':reduced_delay}, index=index)\n",
    "df_tsk7_3.plot.bar(rot=0)"
   ]
  },
  {
   "cell_type": "code",
   "execution_count": 32,
   "metadata": {
    "collapsed": true,
    "jupyter": {
     "outputs_hidden": true
    }
   },
   "outputs": [
    {
     "data": {
      "text/html": [
       "<div>\n",
       "<style scoped>\n",
       "    .dataframe tbody tr th:only-of-type {\n",
       "        vertical-align: middle;\n",
       "    }\n",
       "\n",
       "    .dataframe tbody tr th {\n",
       "        vertical-align: top;\n",
       "    }\n",
       "\n",
       "    .dataframe thead th {\n",
       "        text-align: right;\n",
       "    }\n",
       "</style>\n",
       "<table border=\"1\" class=\"dataframe\">\n",
       "  <thead>\n",
       "    <tr style=\"text-align: right;\">\n",
       "      <th></th>\n",
       "      <th>fl_date</th>\n",
       "      <th>crs_elapsed_time</th>\n",
       "      <th>actual_elapsed_time</th>\n",
       "      <th>dep_delay</th>\n",
       "      <th>arr_delay</th>\n",
       "      <th>distance</th>\n",
       "      <th>air_time</th>\n",
       "      <th>distance_km</th>\n",
       "      <th>air_time_h</th>\n",
       "      <th>speed</th>\n",
       "    </tr>\n",
       "  </thead>\n",
       "  <tbody>\n",
       "    <tr>\n",
       "      <th>0</th>\n",
       "      <td>2019-08-24</td>\n",
       "      <td>74.0</td>\n",
       "      <td>65.0</td>\n",
       "      <td>0.0</td>\n",
       "      <td>-9.0</td>\n",
       "      <td>283.0</td>\n",
       "      <td>44.0</td>\n",
       "      <td>455.444352</td>\n",
       "      <td>0.733333</td>\n",
       "      <td>621.060356</td>\n",
       "    </tr>\n",
       "    <tr>\n",
       "      <th>1</th>\n",
       "      <td>2019-01-05</td>\n",
       "      <td>175.0</td>\n",
       "      <td>165.0</td>\n",
       "      <td>-3.0</td>\n",
       "      <td>-13.0</td>\n",
       "      <td>1020.0</td>\n",
       "      <td>153.0</td>\n",
       "      <td>1641.530880</td>\n",
       "      <td>2.550001</td>\n",
       "      <td>643.737471</td>\n",
       "    </tr>\n",
       "    <tr>\n",
       "      <th>2</th>\n",
       "      <td>2018-05-18</td>\n",
       "      <td>170.0</td>\n",
       "      <td>162.0</td>\n",
       "      <td>21.0</td>\n",
       "      <td>13.0</td>\n",
       "      <td>1020.0</td>\n",
       "      <td>145.0</td>\n",
       "      <td>1641.530880</td>\n",
       "      <td>2.416667</td>\n",
       "      <td>679.254021</td>\n",
       "    </tr>\n",
       "    <tr>\n",
       "      <th>3</th>\n",
       "      <td>2018-08-27</td>\n",
       "      <td>132.0</td>\n",
       "      <td>123.0</td>\n",
       "      <td>-7.0</td>\n",
       "      <td>-16.0</td>\n",
       "      <td>726.0</td>\n",
       "      <td>107.0</td>\n",
       "      <td>1168.383744</td>\n",
       "      <td>1.783334</td>\n",
       "      <td>655.168324</td>\n",
       "    </tr>\n",
       "    <tr>\n",
       "      <th>4</th>\n",
       "      <td>2019-05-29</td>\n",
       "      <td>188.0</td>\n",
       "      <td>178.0</td>\n",
       "      <td>21.0</td>\n",
       "      <td>11.0</td>\n",
       "      <td>1269.0</td>\n",
       "      <td>158.0</td>\n",
       "      <td>2042.257536</td>\n",
       "      <td>2.633334</td>\n",
       "      <td>775.540681</td>\n",
       "    </tr>\n",
       "  </tbody>\n",
       "</table>\n",
       "</div>"
      ],
      "text/plain": [
       "     fl_date  crs_elapsed_time  actual_elapsed_time  dep_delay  arr_delay  \\\n",
       "0 2019-08-24              74.0                 65.0        0.0       -9.0   \n",
       "1 2019-01-05             175.0                165.0       -3.0      -13.0   \n",
       "2 2018-05-18             170.0                162.0       21.0       13.0   \n",
       "3 2018-08-27             132.0                123.0       -7.0      -16.0   \n",
       "4 2019-05-29             188.0                178.0       21.0       11.0   \n",
       "\n",
       "   distance  air_time  distance_km  air_time_h       speed  \n",
       "0     283.0      44.0   455.444352    0.733333  621.060356  \n",
       "1    1020.0     153.0  1641.530880    2.550001  643.737471  \n",
       "2    1020.0     145.0  1641.530880    2.416667  679.254021  \n",
       "3     726.0     107.0  1168.383744    1.783334  655.168324  \n",
       "4    1269.0     158.0  2042.257536    2.633334  775.540681  "
      ]
     },
     "execution_count": 32,
     "metadata": {},
     "output_type": "execute_result"
    }
   ],
   "source": [
    "task7_3['distance_km']=task7_3.distance*1.609344\n",
    "task7_3['air_time_h']=task7_3.air_time*0.01666667\n",
    "task7_3['speed']=task7_3.distance_km/task7_3.air_time_h\n",
    "task7_3.head()"
   ]
  },
  {
   "cell_type": "code",
   "execution_count": 33,
   "metadata": {
    "collapsed": true,
    "jupyter": {
     "outputs_hidden": true
    }
   },
   "outputs": [
    {
     "data": {
      "text/plain": [
       "637.2405679603222"
      ]
     },
     "execution_count": 33,
     "metadata": {},
     "output_type": "execute_result"
    }
   ],
   "source": [
    "task7_3[task7_3.dep_delay<=0].speed.mean()"
   ]
  },
  {
   "cell_type": "code",
   "execution_count": 34,
   "metadata": {
    "collapsed": true,
    "jupyter": {
     "outputs_hidden": true
    }
   },
   "outputs": [
    {
     "data": {
      "text/plain": [
       "652.0680562597877"
      ]
     },
     "execution_count": 34,
     "metadata": {},
     "output_type": "execute_result"
    }
   ],
   "source": [
    "task7_3[task7_3.dep_delay>0].speed.mean()"
   ]
  },
  {
   "cell_type": "markdown",
   "metadata": {},
   "source": [
    "#### **Task 8**: When (which hour) do most 'LONG', 'SHORT', 'MEDIUM' haul flights take off?"
   ]
  },
  {
   "cell_type": "code",
   "execution_count": 36,
   "metadata": {
    "collapsed": true,
    "jupyter": {
     "outputs_hidden": true
    }
   },
   "outputs": [
    {
     "data": {
      "text/html": [
       "<div>\n",
       "<style scoped>\n",
       "    .dataframe tbody tr th:only-of-type {\n",
       "        vertical-align: middle;\n",
       "    }\n",
       "\n",
       "    .dataframe tbody tr th {\n",
       "        vertical-align: top;\n",
       "    }\n",
       "\n",
       "    .dataframe thead th {\n",
       "        text-align: right;\n",
       "    }\n",
       "</style>\n",
       "<table border=\"1\" class=\"dataframe\">\n",
       "  <thead>\n",
       "    <tr style=\"text-align: right;\">\n",
       "      <th></th>\n",
       "      <th>crs_elapsed_time</th>\n",
       "      <th>crs_dep_time</th>\n",
       "      <th>crs_dep_time_h</th>\n",
       "    </tr>\n",
       "  </thead>\n",
       "  <tbody>\n",
       "    <tr>\n",
       "      <th>0</th>\n",
       "      <td>74.0</td>\n",
       "      <td>1600</td>\n",
       "      <td>16</td>\n",
       "    </tr>\n",
       "    <tr>\n",
       "      <th>1</th>\n",
       "      <td>175.0</td>\n",
       "      <td>645</td>\n",
       "      <td>6</td>\n",
       "    </tr>\n",
       "    <tr>\n",
       "      <th>2</th>\n",
       "      <td>170.0</td>\n",
       "      <td>2230</td>\n",
       "      <td>22</td>\n",
       "    </tr>\n",
       "    <tr>\n",
       "      <th>3</th>\n",
       "      <td>132.0</td>\n",
       "      <td>1236</td>\n",
       "      <td>12</td>\n",
       "    </tr>\n",
       "    <tr>\n",
       "      <th>4</th>\n",
       "      <td>188.0</td>\n",
       "      <td>1400</td>\n",
       "      <td>14</td>\n",
       "    </tr>\n",
       "  </tbody>\n",
       "</table>\n",
       "</div>"
      ],
      "text/plain": [
       "   crs_elapsed_time  crs_dep_time  crs_dep_time_h\n",
       "0              74.0          1600              16\n",
       "1             175.0           645               6\n",
       "2             170.0          2230              22\n",
       "3             132.0          1236              12\n",
       "4             188.0          1400              14"
      ]
     },
     "execution_count": 36,
     "metadata": {},
     "output_type": "execute_result"
    }
   ],
   "source": [
    "#  CRS Elapsed Time of Flight, in Minutes\n",
    "#  CRS Departure Time (local time\n",
    "task8=df_flights[['crs_elapsed_time', 'crs_dep_time']].copy()\n",
    "task8['crs_dep_time_h']=task8.crs_dep_time//100\n",
    "task8.head()"
   ]
  },
  {
   "cell_type": "code",
   "execution_count": 37,
   "metadata": {
    "collapsed": true,
    "jupyter": {
     "outputs_hidden": true
    }
   },
   "outputs": [
    {
     "data": {
      "text/plain": [
       "<matplotlib.axes._subplots.AxesSubplot at 0x23275a20278>"
      ]
     },
     "execution_count": 37,
     "metadata": {},
     "output_type": "execute_result"
    },
    {
     "data": {
      "image/png": "[encoded data removed]",
      "text/plain": [
       "<Figure size 432x288 with 1 Axes>"
      ]
     },
     "metadata": {},
     "output_type": "display_data"
    }
   ],
   "source": [
    "task8.crs_elapsed_time.hist(bins=100) #, range=(0, 500))"
   ]
  },
  {
   "cell_type": "code",
   "execution_count": 38,
   "metadata": {},
   "outputs": [],
   "source": [
    "def get_flight_length(x):\n",
    "    if x < 180:\n",
    "        return 'short'\n",
    "    elif x > 360:\n",
    "        return 'long'\n",
    "    else:\n",
    "        return 'medium'"
   ]
  },
  {
   "cell_type": "code",
   "execution_count": 39,
   "metadata": {
    "collapsed": true,
    "jupyter": {
     "outputs_hidden": true
    }
   },
   "outputs": [
    {
     "data": {
      "text/html": [
       "<div>\n",
       "<style scoped>\n",
       "    .dataframe tbody tr th:only-of-type {\n",
       "        vertical-align: middle;\n",
       "    }\n",
       "\n",
       "    .dataframe tbody tr th {\n",
       "        vertical-align: top;\n",
       "    }\n",
       "\n",
       "    .dataframe thead th {\n",
       "        text-align: right;\n",
       "    }\n",
       "</style>\n",
       "<table border=\"1\" class=\"dataframe\">\n",
       "  <thead>\n",
       "    <tr style=\"text-align: right;\">\n",
       "      <th></th>\n",
       "      <th>crs_elapsed_time</th>\n",
       "      <th>crs_dep_time</th>\n",
       "      <th>crs_dep_time_h</th>\n",
       "      <th>haul</th>\n",
       "    </tr>\n",
       "  </thead>\n",
       "  <tbody>\n",
       "    <tr>\n",
       "      <th>0</th>\n",
       "      <td>74.0</td>\n",
       "      <td>1600</td>\n",
       "      <td>16</td>\n",
       "      <td>short</td>\n",
       "    </tr>\n",
       "    <tr>\n",
       "      <th>1</th>\n",
       "      <td>175.0</td>\n",
       "      <td>645</td>\n",
       "      <td>6</td>\n",
       "      <td>short</td>\n",
       "    </tr>\n",
       "    <tr>\n",
       "      <th>2</th>\n",
       "      <td>170.0</td>\n",
       "      <td>2230</td>\n",
       "      <td>22</td>\n",
       "      <td>short</td>\n",
       "    </tr>\n",
       "    <tr>\n",
       "      <th>3</th>\n",
       "      <td>132.0</td>\n",
       "      <td>1236</td>\n",
       "      <td>12</td>\n",
       "      <td>short</td>\n",
       "    </tr>\n",
       "    <tr>\n",
       "      <th>4</th>\n",
       "      <td>188.0</td>\n",
       "      <td>1400</td>\n",
       "      <td>14</td>\n",
       "      <td>medium</td>\n",
       "    </tr>\n",
       "  </tbody>\n",
       "</table>\n",
       "</div>"
      ],
      "text/plain": [
       "   crs_elapsed_time  crs_dep_time  crs_dep_time_h    haul\n",
       "0              74.0          1600              16   short\n",
       "1             175.0           645               6   short\n",
       "2             170.0          2230              22   short\n",
       "3             132.0          1236              12   short\n",
       "4             188.0          1400              14  medium"
      ]
     },
     "execution_count": 39,
     "metadata": {},
     "output_type": "execute_result"
    }
   ],
   "source": [
    "### ADD FEATURE ###\n",
    "task8['haul'] = task8['crs_elapsed_time'].apply(get_flight_length)\n",
    "task8.head()"
   ]
  },
  {
   "cell_type": "code",
   "execution_count": 40,
   "metadata": {
    "collapsed": true,
    "jupyter": {
     "outputs_hidden": true
    }
   },
   "outputs": [
    {
     "data": {
      "text/html": [
       "<div>\n",
       "<style scoped>\n",
       "    .dataframe tbody tr th:only-of-type {\n",
       "        vertical-align: middle;\n",
       "    }\n",
       "\n",
       "    .dataframe tbody tr th {\n",
       "        vertical-align: top;\n",
       "    }\n",
       "\n",
       "    .dataframe thead th {\n",
       "        text-align: right;\n",
       "    }\n",
       "</style>\n",
       "<table border=\"1\" class=\"dataframe\">\n",
       "  <thead>\n",
       "    <tr style=\"text-align: right;\">\n",
       "      <th></th>\n",
       "      <th>crs_dep_time_h</th>\n",
       "      <th>haul</th>\n",
       "      <th>count</th>\n",
       "    </tr>\n",
       "  </thead>\n",
       "  <tbody>\n",
       "    <tr>\n",
       "      <th>0</th>\n",
       "      <td>0</td>\n",
       "      <td>medium</td>\n",
       "      <td>72</td>\n",
       "    </tr>\n",
       "    <tr>\n",
       "      <th>1</th>\n",
       "      <td>0</td>\n",
       "      <td>short</td>\n",
       "      <td>18</td>\n",
       "    </tr>\n",
       "    <tr>\n",
       "      <th>2</th>\n",
       "      <td>1</td>\n",
       "      <td>medium</td>\n",
       "      <td>30</td>\n",
       "    </tr>\n",
       "    <tr>\n",
       "      <th>3</th>\n",
       "      <td>1</td>\n",
       "      <td>short</td>\n",
       "      <td>12</td>\n",
       "    </tr>\n",
       "    <tr>\n",
       "      <th>4</th>\n",
       "      <td>2</td>\n",
       "      <td>medium</td>\n",
       "      <td>9</td>\n",
       "    </tr>\n",
       "    <tr>\n",
       "      <th>...</th>\n",
       "      <td>...</td>\n",
       "      <td>...</td>\n",
       "      <td>...</td>\n",
       "    </tr>\n",
       "    <tr>\n",
       "      <th>62</th>\n",
       "      <td>22</td>\n",
       "      <td>medium</td>\n",
       "      <td>244</td>\n",
       "    </tr>\n",
       "    <tr>\n",
       "      <th>63</th>\n",
       "      <td>22</td>\n",
       "      <td>short</td>\n",
       "      <td>1076</td>\n",
       "    </tr>\n",
       "    <tr>\n",
       "      <th>64</th>\n",
       "      <td>23</td>\n",
       "      <td>long</td>\n",
       "      <td>2</td>\n",
       "    </tr>\n",
       "    <tr>\n",
       "      <th>65</th>\n",
       "      <td>23</td>\n",
       "      <td>medium</td>\n",
       "      <td>241</td>\n",
       "    </tr>\n",
       "    <tr>\n",
       "      <th>66</th>\n",
       "      <td>23</td>\n",
       "      <td>short</td>\n",
       "      <td>84</td>\n",
       "    </tr>\n",
       "  </tbody>\n",
       "</table>\n",
       "<p>67 rows × 3 columns</p>\n",
       "</div>"
      ],
      "text/plain": [
       "    crs_dep_time_h    haul  count\n",
       "0                0  medium     72\n",
       "1                0   short     18\n",
       "2                1  medium     30\n",
       "3                1   short     12\n",
       "4                2  medium      9\n",
       "..             ...     ...    ...\n",
       "62              22  medium    244\n",
       "63              22   short   1076\n",
       "64              23    long      2\n",
       "65              23  medium    241\n",
       "66              23   short     84\n",
       "\n",
       "[67 rows x 3 columns]"
      ]
     },
     "execution_count": 40,
     "metadata": {},
     "output_type": "execute_result"
    }
   ],
   "source": [
    "haul=pd.DataFrame(task8.groupby(['crs_dep_time_h','haul']).size()).reset_index()\n",
    "haul.columns=['crs_dep_time_h','haul','count']\n",
    "haul"
   ]
  },
  {
   "cell_type": "code",
   "execution_count": 41,
   "metadata": {
    "collapsed": true,
    "jupyter": {
     "outputs_hidden": true
    }
   },
   "outputs": [
    {
     "data": {
      "text/html": [
       "<div>\n",
       "<style scoped>\n",
       "    .dataframe tbody tr th:only-of-type {\n",
       "        vertical-align: middle;\n",
       "    }\n",
       "\n",
       "    .dataframe tbody tr th {\n",
       "        vertical-align: top;\n",
       "    }\n",
       "\n",
       "    .dataframe thead th {\n",
       "        text-align: right;\n",
       "    }\n",
       "</style>\n",
       "<table border=\"1\" class=\"dataframe\">\n",
       "  <thead>\n",
       "    <tr style=\"text-align: right;\">\n",
       "      <th>haul</th>\n",
       "      <th>long</th>\n",
       "      <th>medium</th>\n",
       "      <th>short</th>\n",
       "    </tr>\n",
       "    <tr>\n",
       "      <th>crs_dep_time_h</th>\n",
       "      <th></th>\n",
       "      <th></th>\n",
       "      <th></th>\n",
       "    </tr>\n",
       "  </thead>\n",
       "  <tbody>\n",
       "    <tr>\n",
       "      <th>0</th>\n",
       "      <td>NaN</td>\n",
       "      <td>72.0</td>\n",
       "      <td>18.0</td>\n",
       "    </tr>\n",
       "    <tr>\n",
       "      <th>1</th>\n",
       "      <td>NaN</td>\n",
       "      <td>30.0</td>\n",
       "      <td>12.0</td>\n",
       "    </tr>\n",
       "    <tr>\n",
       "      <th>2</th>\n",
       "      <td>NaN</td>\n",
       "      <td>9.0</td>\n",
       "      <td>5.0</td>\n",
       "    </tr>\n",
       "    <tr>\n",
       "      <th>3</th>\n",
       "      <td>NaN</td>\n",
       "      <td>4.0</td>\n",
       "      <td>4.0</td>\n",
       "    </tr>\n",
       "    <tr>\n",
       "      <th>4</th>\n",
       "      <td>NaN</td>\n",
       "      <td>2.0</td>\n",
       "      <td>1.0</td>\n",
       "    </tr>\n",
       "    <tr>\n",
       "      <th>5</th>\n",
       "      <td>5.0</td>\n",
       "      <td>143.0</td>\n",
       "      <td>1038.0</td>\n",
       "    </tr>\n",
       "    <tr>\n",
       "      <th>6</th>\n",
       "      <td>27.0</td>\n",
       "      <td>672.0</td>\n",
       "      <td>2873.0</td>\n",
       "    </tr>\n",
       "    <tr>\n",
       "      <th>7</th>\n",
       "      <td>69.0</td>\n",
       "      <td>796.0</td>\n",
       "      <td>2617.0</td>\n",
       "    </tr>\n",
       "    <tr>\n",
       "      <th>8</th>\n",
       "      <td>62.0</td>\n",
       "      <td>705.0</td>\n",
       "      <td>2496.0</td>\n",
       "    </tr>\n",
       "    <tr>\n",
       "      <th>9</th>\n",
       "      <td>50.0</td>\n",
       "      <td>540.0</td>\n",
       "      <td>2292.0</td>\n",
       "    </tr>\n",
       "    <tr>\n",
       "      <th>10</th>\n",
       "      <td>41.0</td>\n",
       "      <td>555.0</td>\n",
       "      <td>2486.0</td>\n",
       "    </tr>\n",
       "    <tr>\n",
       "      <th>11</th>\n",
       "      <td>43.0</td>\n",
       "      <td>651.0</td>\n",
       "      <td>2507.0</td>\n",
       "    </tr>\n",
       "    <tr>\n",
       "      <th>12</th>\n",
       "      <td>12.0</td>\n",
       "      <td>551.0</td>\n",
       "      <td>2637.0</td>\n",
       "    </tr>\n",
       "    <tr>\n",
       "      <th>13</th>\n",
       "      <td>11.0</td>\n",
       "      <td>557.0</td>\n",
       "      <td>2279.0</td>\n",
       "    </tr>\n",
       "    <tr>\n",
       "      <th>14</th>\n",
       "      <td>21.0</td>\n",
       "      <td>507.0</td>\n",
       "      <td>2347.0</td>\n",
       "    </tr>\n",
       "    <tr>\n",
       "      <th>15</th>\n",
       "      <td>43.0</td>\n",
       "      <td>529.0</td>\n",
       "      <td>2464.0</td>\n",
       "    </tr>\n",
       "    <tr>\n",
       "      <th>16</th>\n",
       "      <td>44.0</td>\n",
       "      <td>544.0</td>\n",
       "      <td>2228.0</td>\n",
       "    </tr>\n",
       "    <tr>\n",
       "      <th>17</th>\n",
       "      <td>75.0</td>\n",
       "      <td>563.0</td>\n",
       "      <td>2682.0</td>\n",
       "    </tr>\n",
       "    <tr>\n",
       "      <th>18</th>\n",
       "      <td>79.0</td>\n",
       "      <td>492.0</td>\n",
       "      <td>2306.0</td>\n",
       "    </tr>\n",
       "    <tr>\n",
       "      <th>19</th>\n",
       "      <td>46.0</td>\n",
       "      <td>448.0</td>\n",
       "      <td>2193.0</td>\n",
       "    </tr>\n",
       "    <tr>\n",
       "      <th>20</th>\n",
       "      <td>32.0</td>\n",
       "      <td>346.0</td>\n",
       "      <td>1968.0</td>\n",
       "    </tr>\n",
       "    <tr>\n",
       "      <th>21</th>\n",
       "      <td>20.0</td>\n",
       "      <td>329.0</td>\n",
       "      <td>1169.0</td>\n",
       "    </tr>\n",
       "    <tr>\n",
       "      <th>22</th>\n",
       "      <td>6.0</td>\n",
       "      <td>244.0</td>\n",
       "      <td>1076.0</td>\n",
       "    </tr>\n",
       "    <tr>\n",
       "      <th>23</th>\n",
       "      <td>2.0</td>\n",
       "      <td>241.0</td>\n",
       "      <td>84.0</td>\n",
       "    </tr>\n",
       "  </tbody>\n",
       "</table>\n",
       "</div>"
      ],
      "text/plain": [
       "haul            long  medium   short\n",
       "crs_dep_time_h                      \n",
       "0                NaN    72.0    18.0\n",
       "1                NaN    30.0    12.0\n",
       "2                NaN     9.0     5.0\n",
       "3                NaN     4.0     4.0\n",
       "4                NaN     2.0     1.0\n",
       "5                5.0   143.0  1038.0\n",
       "6               27.0   672.0  2873.0\n",
       "7               69.0   796.0  2617.0\n",
       "8               62.0   705.0  2496.0\n",
       "9               50.0   540.0  2292.0\n",
       "10              41.0   555.0  2486.0\n",
       "11              43.0   651.0  2507.0\n",
       "12              12.0   551.0  2637.0\n",
       "13              11.0   557.0  2279.0\n",
       "14              21.0   507.0  2347.0\n",
       "15              43.0   529.0  2464.0\n",
       "16              44.0   544.0  2228.0\n",
       "17              75.0   563.0  2682.0\n",
       "18              79.0   492.0  2306.0\n",
       "19              46.0   448.0  2193.0\n",
       "20              32.0   346.0  1968.0\n",
       "21              20.0   329.0  1169.0\n",
       "22               6.0   244.0  1076.0\n",
       "23               2.0   241.0    84.0"
      ]
     },
     "execution_count": 41,
     "metadata": {},
     "output_type": "execute_result"
    }
   ],
   "source": [
    "haul=haul.set_index('crs_dep_time_h')\n",
    "haul=haul.pivot(index=haul.index, columns='haul')['count']\n",
    "haul"
   ]
  },
  {
   "cell_type": "code",
   "execution_count": 42,
   "metadata": {
    "collapsed": true,
    "jupyter": {
     "outputs_hidden": true
    }
   },
   "outputs": [
    {
     "data": {
      "text/html": [
       "<div>\n",
       "<style scoped>\n",
       "    .dataframe tbody tr th:only-of-type {\n",
       "        vertical-align: middle;\n",
       "    }\n",
       "\n",
       "    .dataframe tbody tr th {\n",
       "        vertical-align: top;\n",
       "    }\n",
       "\n",
       "    .dataframe thead th {\n",
       "        text-align: right;\n",
       "    }\n",
       "</style>\n",
       "<table border=\"1\" class=\"dataframe\">\n",
       "  <thead>\n",
       "    <tr style=\"text-align: right;\">\n",
       "      <th>haul</th>\n",
       "      <th>short</th>\n",
       "      <th>medium</th>\n",
       "      <th>long</th>\n",
       "    </tr>\n",
       "    <tr>\n",
       "      <th>crs_dep_time_h</th>\n",
       "      <th></th>\n",
       "      <th></th>\n",
       "      <th></th>\n",
       "    </tr>\n",
       "  </thead>\n",
       "  <tbody>\n",
       "    <tr>\n",
       "      <th>0</th>\n",
       "      <td>18.0</td>\n",
       "      <td>72.0</td>\n",
       "      <td>NaN</td>\n",
       "    </tr>\n",
       "    <tr>\n",
       "      <th>1</th>\n",
       "      <td>12.0</td>\n",
       "      <td>30.0</td>\n",
       "      <td>NaN</td>\n",
       "    </tr>\n",
       "    <tr>\n",
       "      <th>2</th>\n",
       "      <td>5.0</td>\n",
       "      <td>9.0</td>\n",
       "      <td>NaN</td>\n",
       "    </tr>\n",
       "    <tr>\n",
       "      <th>3</th>\n",
       "      <td>4.0</td>\n",
       "      <td>4.0</td>\n",
       "      <td>NaN</td>\n",
       "    </tr>\n",
       "    <tr>\n",
       "      <th>4</th>\n",
       "      <td>1.0</td>\n",
       "      <td>2.0</td>\n",
       "      <td>NaN</td>\n",
       "    </tr>\n",
       "    <tr>\n",
       "      <th>5</th>\n",
       "      <td>1038.0</td>\n",
       "      <td>143.0</td>\n",
       "      <td>5.0</td>\n",
       "    </tr>\n",
       "    <tr>\n",
       "      <th>6</th>\n",
       "      <td>2873.0</td>\n",
       "      <td>672.0</td>\n",
       "      <td>27.0</td>\n",
       "    </tr>\n",
       "    <tr>\n",
       "      <th>7</th>\n",
       "      <td>2617.0</td>\n",
       "      <td>796.0</td>\n",
       "      <td>69.0</td>\n",
       "    </tr>\n",
       "    <tr>\n",
       "      <th>8</th>\n",
       "      <td>2496.0</td>\n",
       "      <td>705.0</td>\n",
       "      <td>62.0</td>\n",
       "    </tr>\n",
       "    <tr>\n",
       "      <th>9</th>\n",
       "      <td>2292.0</td>\n",
       "      <td>540.0</td>\n",
       "      <td>50.0</td>\n",
       "    </tr>\n",
       "    <tr>\n",
       "      <th>10</th>\n",
       "      <td>2486.0</td>\n",
       "      <td>555.0</td>\n",
       "      <td>41.0</td>\n",
       "    </tr>\n",
       "    <tr>\n",
       "      <th>11</th>\n",
       "      <td>2507.0</td>\n",
       "      <td>651.0</td>\n",
       "      <td>43.0</td>\n",
       "    </tr>\n",
       "    <tr>\n",
       "      <th>12</th>\n",
       "      <td>2637.0</td>\n",
       "      <td>551.0</td>\n",
       "      <td>12.0</td>\n",
       "    </tr>\n",
       "    <tr>\n",
       "      <th>13</th>\n",
       "      <td>2279.0</td>\n",
       "      <td>557.0</td>\n",
       "      <td>11.0</td>\n",
       "    </tr>\n",
       "    <tr>\n",
       "      <th>14</th>\n",
       "      <td>2347.0</td>\n",
       "      <td>507.0</td>\n",
       "      <td>21.0</td>\n",
       "    </tr>\n",
       "    <tr>\n",
       "      <th>15</th>\n",
       "      <td>2464.0</td>\n",
       "      <td>529.0</td>\n",
       "      <td>43.0</td>\n",
       "    </tr>\n",
       "    <tr>\n",
       "      <th>16</th>\n",
       "      <td>2228.0</td>\n",
       "      <td>544.0</td>\n",
       "      <td>44.0</td>\n",
       "    </tr>\n",
       "    <tr>\n",
       "      <th>17</th>\n",
       "      <td>2682.0</td>\n",
       "      <td>563.0</td>\n",
       "      <td>75.0</td>\n",
       "    </tr>\n",
       "    <tr>\n",
       "      <th>18</th>\n",
       "      <td>2306.0</td>\n",
       "      <td>492.0</td>\n",
       "      <td>79.0</td>\n",
       "    </tr>\n",
       "    <tr>\n",
       "      <th>19</th>\n",
       "      <td>2193.0</td>\n",
       "      <td>448.0</td>\n",
       "      <td>46.0</td>\n",
       "    </tr>\n",
       "    <tr>\n",
       "      <th>20</th>\n",
       "      <td>1968.0</td>\n",
       "      <td>346.0</td>\n",
       "      <td>32.0</td>\n",
       "    </tr>\n",
       "    <tr>\n",
       "      <th>21</th>\n",
       "      <td>1169.0</td>\n",
       "      <td>329.0</td>\n",
       "      <td>20.0</td>\n",
       "    </tr>\n",
       "    <tr>\n",
       "      <th>22</th>\n",
       "      <td>1076.0</td>\n",
       "      <td>244.0</td>\n",
       "      <td>6.0</td>\n",
       "    </tr>\n",
       "    <tr>\n",
       "      <th>23</th>\n",
       "      <td>84.0</td>\n",
       "      <td>241.0</td>\n",
       "      <td>2.0</td>\n",
       "    </tr>\n",
       "  </tbody>\n",
       "</table>\n",
       "</div>"
      ],
      "text/plain": [
       "haul             short  medium  long\n",
       "crs_dep_time_h                      \n",
       "0                 18.0    72.0   NaN\n",
       "1                 12.0    30.0   NaN\n",
       "2                  5.0     9.0   NaN\n",
       "3                  4.0     4.0   NaN\n",
       "4                  1.0     2.0   NaN\n",
       "5               1038.0   143.0   5.0\n",
       "6               2873.0   672.0  27.0\n",
       "7               2617.0   796.0  69.0\n",
       "8               2496.0   705.0  62.0\n",
       "9               2292.0   540.0  50.0\n",
       "10              2486.0   555.0  41.0\n",
       "11              2507.0   651.0  43.0\n",
       "12              2637.0   551.0  12.0\n",
       "13              2279.0   557.0  11.0\n",
       "14              2347.0   507.0  21.0\n",
       "15              2464.0   529.0  43.0\n",
       "16              2228.0   544.0  44.0\n",
       "17              2682.0   563.0  75.0\n",
       "18              2306.0   492.0  79.0\n",
       "19              2193.0   448.0  46.0\n",
       "20              1968.0   346.0  32.0\n",
       "21              1169.0   329.0  20.0\n",
       "22              1076.0   244.0   6.0\n",
       "23                84.0   241.0   2.0"
      ]
     },
     "execution_count": 42,
     "metadata": {},
     "output_type": "execute_result"
    }
   ],
   "source": [
    "# change the order of the columns\n",
    "haul=haul.reindex(columns=['short','medium','long'])\n",
    "haul"
   ]
  },
  {
   "cell_type": "code",
   "execution_count": 47,
   "metadata": {
    "collapsed": true,
    "jupyter": {
     "outputs_hidden": true
    }
   },
   "outputs": [
    {
     "data": {
      "image/png": "[encoded data removed]",
      "text/plain": [
       "<Figure size 432x288 with 1 Axes>"
      ]
     },
     "metadata": {},
     "output_type": "display_data"
    }
   ],
   "source": [
    "\n",
    "ax=haul.plot(kind='bar',stacked=True)\n",
    "pl.title('Haul & Time[Hours]')\n",
    "#plt.legend()\n",
    "handles,labels = ax.get_legend_handles_labels()\n",
    "handles=[handles[2],handles[1],handles[0]]\n",
    "labels=[labels[2],labels[1],labels[0]]\n",
    "ax.legend(handles,labels,loc=2)\n",
    "pl.show()"
   ]
  },
  {
   "cell_type": "markdown",
   "metadata": {},
   "source": [
    "#### **Task 9**: Find the top 10 the bussiest airports. Does the biggest number of flights mean that the biggest number of passengers went through the particular airport? How much traffic do these 10 airports cover?"
   ]
  },
  {
   "cell_type": "code",
   "execution_count": 48,
   "metadata": {
    "collapsed": true,
    "jupyter": {
     "outputs_hidden": true
    }
   },
   "outputs": [
    {
     "data": {
      "text/html": [
       "<div>\n",
       "<style scoped>\n",
       "    .dataframe tbody tr th:only-of-type {\n",
       "        vertical-align: middle;\n",
       "    }\n",
       "\n",
       "    .dataframe tbody tr th {\n",
       "        vertical-align: top;\n",
       "    }\n",
       "\n",
       "    .dataframe thead th {\n",
       "        text-align: right;\n",
       "    }\n",
       "</style>\n",
       "<table border=\"1\" class=\"dataframe\">\n",
       "  <thead>\n",
       "    <tr style=\"text-align: right;\">\n",
       "      <th></th>\n",
       "      <th>origin</th>\n",
       "      <th>origin_airport_id</th>\n",
       "      <th>origin_city_name</th>\n",
       "      <th>dest</th>\n",
       "      <th>dest_airport_id</th>\n",
       "      <th>dest_city_name</th>\n",
       "      <th>passengers</th>\n",
       "    </tr>\n",
       "  </thead>\n",
       "  <tbody>\n",
       "    <tr>\n",
       "      <th>0</th>\n",
       "      <td>FAI</td>\n",
       "      <td>11630</td>\n",
       "      <td>Fairbanks, AK</td>\n",
       "      <td>TAL</td>\n",
       "      <td>15124</td>\n",
       "      <td>Tanana, AK</td>\n",
       "      <td>10.0</td>\n",
       "    </tr>\n",
       "    <tr>\n",
       "      <th>1</th>\n",
       "      <td>BRO</td>\n",
       "      <td>10747</td>\n",
       "      <td>Brownsville, TX</td>\n",
       "      <td>PTK</td>\n",
       "      <td>14275</td>\n",
       "      <td>Pontiac, MI</td>\n",
       "      <td>0.0</td>\n",
       "    </tr>\n",
       "    <tr>\n",
       "      <th>2</th>\n",
       "      <td>CAE</td>\n",
       "      <td>10868</td>\n",
       "      <td>Columbia, SC</td>\n",
       "      <td>IAD</td>\n",
       "      <td>12264</td>\n",
       "      <td>Washington, DC</td>\n",
       "      <td>2270.0</td>\n",
       "    </tr>\n",
       "    <tr>\n",
       "      <th>3</th>\n",
       "      <td>SFO</td>\n",
       "      <td>14771</td>\n",
       "      <td>San Francisco, CA</td>\n",
       "      <td>MSY</td>\n",
       "      <td>13495</td>\n",
       "      <td>New Orleans, LA</td>\n",
       "      <td>1772.0</td>\n",
       "    </tr>\n",
       "    <tr>\n",
       "      <th>4</th>\n",
       "      <td>JFK</td>\n",
       "      <td>12478</td>\n",
       "      <td>New York, NY</td>\n",
       "      <td>ORD</td>\n",
       "      <td>13930</td>\n",
       "      <td>Chicago, IL</td>\n",
       "      <td>0.0</td>\n",
       "    </tr>\n",
       "  </tbody>\n",
       "</table>\n",
       "</div>"
      ],
      "text/plain": [
       "  origin  origin_airport_id   origin_city_name dest  dest_airport_id  \\\n",
       "0    FAI              11630      Fairbanks, AK  TAL            15124   \n",
       "1    BRO              10747    Brownsville, TX  PTK            14275   \n",
       "2    CAE              10868       Columbia, SC  IAD            12264   \n",
       "3    SFO              14771  San Francisco, CA  MSY            13495   \n",
       "4    JFK              12478       New York, NY  ORD            13930   \n",
       "\n",
       "    dest_city_name  passengers  \n",
       "0       Tanana, AK        10.0  \n",
       "1      Pontiac, MI         0.0  \n",
       "2   Washington, DC      2270.0  \n",
       "3  New Orleans, LA      1772.0  \n",
       "4      Chicago, IL         0.0  "
      ]
     },
     "execution_count": 48,
     "metadata": {},
     "output_type": "execute_result"
    }
   ],
   "source": [
    "df_airport_passengers = pd.read_sql_query('SELECT origin, origin_airport_id, origin_city_name, dest, dest_airport_id,dest_city_name, passengers FROM passengers ORDER BY RANDOM() LIMIT 50000;', connection)\n",
    "df_airport_passengers.head()"
   ]
  },
  {
   "cell_type": "markdown",
   "metadata": {},
   "source": [
    "Traffic by airport id"
   ]
  },
  {
   "cell_type": "code",
   "execution_count": 56,
   "metadata": {
    "collapsed": true,
    "jupyter": {
     "outputs_hidden": true
    }
   },
   "outputs": [
    {
     "data": {
      "text/plain": [
       "<bound method NDFrame.head of          fl_date origin_city_name  origin_airport_id  dest_airport_id  flights\n",
       "0     2019-08-24       Denver, CO              11292            11092      1.0\n",
       "1     2019-01-05      Houston, TX              12191            14107      1.0\n",
       "2     2018-05-18      Houston, TX              12191            14107      1.0\n",
       "3     2018-08-27   Pittsburgh, PA              14122            13487      1.0\n",
       "4     2019-05-29  Albuquerque, NM              10140            10397      1.0\n",
       "...          ...              ...                ...              ...      ...\n",
       "49995 2018-03-08      Phoenix, AZ              14107            10423      1.0\n",
       "49996 2018-01-28  Los Angeles, CA              12892            11259      1.0\n",
       "49997 2018-04-27       Tucson, AZ              15376            14869      1.0\n",
       "49998 2019-08-28     New York, NY              12953            10721      1.0\n",
       "49999 2018-06-06  Minneapolis, MN              13487            12266      1.0\n",
       "\n",
       "[50000 rows x 5 columns]>"
      ]
     },
     "execution_count": 56,
     "metadata": {},
     "output_type": "execute_result"
    }
   ],
   "source": [
    "task9=df_flights[['fl_date', 'origin_city_name','origin_airport_id', 'dest_airport_id', 'flights']].copy()\n",
    "task9.head"
   ]
  },
  {
   "cell_type": "code",
   "execution_count": 50,
   "metadata": {
    "collapsed": true,
    "jupyter": {
     "outputs_hidden": true
    }
   },
   "outputs": [
    {
     "data": {
      "text/plain": [
       "365"
      ]
     },
     "execution_count": 50,
     "metadata": {},
     "output_type": "execute_result"
    }
   ],
   "source": [
    "airport_id_o=pd.DataFrame(task9.groupby(['origin_airport_id','origin_city_name']).flights.count().sort_values(ascending=False))\n",
    "airport_id_o.columns=['flights_o']\n",
    "airport_id_o.reset_index(level=1,inplace=True)\n",
    "len(airport_id_o)"
   ]
  },
  {
   "cell_type": "code",
   "execution_count": 55,
   "metadata": {
    "collapsed": true,
    "jupyter": {
     "outputs_hidden": true
    }
   },
   "outputs": [
    {
     "data": {
      "text/html": [
       "<div>\n",
       "<style scoped>\n",
       "    .dataframe tbody tr th:only-of-type {\n",
       "        vertical-align: middle;\n",
       "    }\n",
       "\n",
       "    .dataframe tbody tr th {\n",
       "        vertical-align: top;\n",
       "    }\n",
       "\n",
       "    .dataframe thead th {\n",
       "        text-align: right;\n",
       "    }\n",
       "</style>\n",
       "<table border=\"1\" class=\"dataframe\">\n",
       "  <thead>\n",
       "    <tr style=\"text-align: right;\">\n",
       "      <th></th>\n",
       "      <th>origin_city_name</th>\n",
       "      <th>flights_o</th>\n",
       "    </tr>\n",
       "    <tr>\n",
       "      <th>origin_airport_id</th>\n",
       "      <th></th>\n",
       "      <th></th>\n",
       "    </tr>\n",
       "  </thead>\n",
       "  <tbody>\n",
       "    <tr>\n",
       "      <th>13930</th>\n",
       "      <td>Chicago, IL</td>\n",
       "      <td>2504</td>\n",
       "    </tr>\n",
       "    <tr>\n",
       "      <th>10397</th>\n",
       "      <td>Atlanta, GA</td>\n",
       "      <td>2485</td>\n",
       "    </tr>\n",
       "    <tr>\n",
       "      <th>11298</th>\n",
       "      <td>Dallas/Fort Worth, TX</td>\n",
       "      <td>1812</td>\n",
       "    </tr>\n",
       "    <tr>\n",
       "      <th>11292</th>\n",
       "      <td>Denver, CO</td>\n",
       "      <td>1768</td>\n",
       "    </tr>\n",
       "    <tr>\n",
       "      <th>11057</th>\n",
       "      <td>Charlotte, NC</td>\n",
       "      <td>1557</td>\n",
       "    </tr>\n",
       "    <tr>\n",
       "      <th>...</th>\n",
       "      <td>...</td>\n",
       "      <td>...</td>\n",
       "    </tr>\n",
       "    <tr>\n",
       "      <th>14222</th>\n",
       "      <td>Pago Pago, TT</td>\n",
       "      <td>1</td>\n",
       "    </tr>\n",
       "    <tr>\n",
       "      <th>14905</th>\n",
       "      <td>Santa Maria, CA</td>\n",
       "      <td>1</td>\n",
       "    </tr>\n",
       "    <tr>\n",
       "      <th>11997</th>\n",
       "      <td>Gustavus, AK</td>\n",
       "      <td>1</td>\n",
       "    </tr>\n",
       "    <tr>\n",
       "      <th>14582</th>\n",
       "      <td>Rota, TT</td>\n",
       "      <td>1</td>\n",
       "    </tr>\n",
       "    <tr>\n",
       "      <th>11092</th>\n",
       "      <td>Moab, UT</td>\n",
       "      <td>1</td>\n",
       "    </tr>\n",
       "  </tbody>\n",
       "</table>\n",
       "<p>365 rows × 2 columns</p>\n",
       "</div>"
      ],
      "text/plain": [
       "                        origin_city_name  flights_o\n",
       "origin_airport_id                                  \n",
       "13930                        Chicago, IL       2504\n",
       "10397                        Atlanta, GA       2485\n",
       "11298              Dallas/Fort Worth, TX       1812\n",
       "11292                         Denver, CO       1768\n",
       "11057                      Charlotte, NC       1557\n",
       "...                                  ...        ...\n",
       "14222                      Pago Pago, TT          1\n",
       "14905                    Santa Maria, CA          1\n",
       "11997                       Gustavus, AK          1\n",
       "14582                           Rota, TT          1\n",
       "11092                           Moab, UT          1\n",
       "\n",
       "[365 rows x 2 columns]"
      ]
     },
     "execution_count": 55,
     "metadata": {},
     "output_type": "execute_result"
    }
   ],
   "source": [
    "airport_id_o"
   ]
  },
  {
   "cell_type": "code",
   "execution_count": 57,
   "metadata": {
    "collapsed": true,
    "jupyter": {
     "outputs_hidden": true
    }
   },
   "outputs": [
    {
     "data": {
      "text/plain": [
       "362"
      ]
     },
     "execution_count": 57,
     "metadata": {},
     "output_type": "execute_result"
    }
   ],
   "source": [
    "airport_id_d=pd.DataFrame(task9.groupby('dest_airport_id').flights.count().sort_values(ascending=False))\n",
    "airport_id_d.columns=['flights_d']\n",
    "len(airport_id_d)"
   ]
  },
  {
   "cell_type": "code",
   "execution_count": 58,
   "metadata": {
    "collapsed": true,
    "jupyter": {
     "outputs_hidden": true
    }
   },
   "outputs": [
    {
     "data": {
      "text/html": [
       "<div>\n",
       "<style scoped>\n",
       "    .dataframe tbody tr th:only-of-type {\n",
       "        vertical-align: middle;\n",
       "    }\n",
       "\n",
       "    .dataframe tbody tr th {\n",
       "        vertical-align: top;\n",
       "    }\n",
       "\n",
       "    .dataframe thead th {\n",
       "        text-align: right;\n",
       "    }\n",
       "</style>\n",
       "<table border=\"1\" class=\"dataframe\">\n",
       "  <thead>\n",
       "    <tr style=\"text-align: right;\">\n",
       "      <th></th>\n",
       "      <th>flights_d</th>\n",
       "    </tr>\n",
       "    <tr>\n",
       "      <th>dest_airport_id</th>\n",
       "      <th></th>\n",
       "    </tr>\n",
       "  </thead>\n",
       "  <tbody>\n",
       "    <tr>\n",
       "      <th>13930</th>\n",
       "      <td>2485</td>\n",
       "    </tr>\n",
       "    <tr>\n",
       "      <th>10397</th>\n",
       "      <td>2450</td>\n",
       "    </tr>\n",
       "    <tr>\n",
       "      <th>11298</th>\n",
       "      <td>1832</td>\n",
       "    </tr>\n",
       "    <tr>\n",
       "      <th>11292</th>\n",
       "      <td>1712</td>\n",
       "    </tr>\n",
       "    <tr>\n",
       "      <th>12892</th>\n",
       "      <td>1631</td>\n",
       "    </tr>\n",
       "    <tr>\n",
       "      <th>...</th>\n",
       "      <td>...</td>\n",
       "    </tr>\n",
       "    <tr>\n",
       "      <th>11867</th>\n",
       "      <td>1</td>\n",
       "    </tr>\n",
       "    <tr>\n",
       "      <th>14259</th>\n",
       "      <td>1</td>\n",
       "    </tr>\n",
       "    <tr>\n",
       "      <th>12250</th>\n",
       "      <td>1</td>\n",
       "    </tr>\n",
       "    <tr>\n",
       "      <th>10409</th>\n",
       "      <td>1</td>\n",
       "    </tr>\n",
       "    <tr>\n",
       "      <th>13832</th>\n",
       "      <td>1</td>\n",
       "    </tr>\n",
       "  </tbody>\n",
       "</table>\n",
       "<p>362 rows × 1 columns</p>\n",
       "</div>"
      ],
      "text/plain": [
       "                 flights_d\n",
       "dest_airport_id           \n",
       "13930                 2485\n",
       "10397                 2450\n",
       "11298                 1832\n",
       "11292                 1712\n",
       "12892                 1631\n",
       "...                    ...\n",
       "11867                    1\n",
       "14259                    1\n",
       "12250                    1\n",
       "10409                    1\n",
       "13832                    1\n",
       "\n",
       "[362 rows x 1 columns]"
      ]
     },
     "execution_count": 58,
     "metadata": {},
     "output_type": "execute_result"
    }
   ],
   "source": [
    "airport_id_d"
   ]
  },
  {
   "cell_type": "code",
   "execution_count": 53,
   "metadata": {
    "collapsed": true,
    "jupyter": {
     "outputs_hidden": true
    }
   },
   "outputs": [
    {
     "data": {
      "text/html": [
       "<div>\n",
       "<style scoped>\n",
       "    .dataframe tbody tr th:only-of-type {\n",
       "        vertical-align: middle;\n",
       "    }\n",
       "\n",
       "    .dataframe tbody tr th {\n",
       "        vertical-align: top;\n",
       "    }\n",
       "\n",
       "    .dataframe thead th {\n",
       "        text-align: right;\n",
       "    }\n",
       "</style>\n",
       "<table border=\"1\" class=\"dataframe\">\n",
       "  <thead>\n",
       "    <tr style=\"text-align: right;\">\n",
       "      <th></th>\n",
       "      <th>origin_city_name</th>\n",
       "      <th>passengers</th>\n",
       "    </tr>\n",
       "    <tr>\n",
       "      <th>origin_airport_id</th>\n",
       "      <th></th>\n",
       "      <th></th>\n",
       "    </tr>\n",
       "  </thead>\n",
       "  <tbody>\n",
       "    <tr>\n",
       "      <th>10397</th>\n",
       "      <td>Atlanta, GA</td>\n",
       "      <td>5314523.0</td>\n",
       "    </tr>\n",
       "    <tr>\n",
       "      <th>12892</th>\n",
       "      <td>Los Angeles, CA</td>\n",
       "      <td>4376757.0</td>\n",
       "    </tr>\n",
       "    <tr>\n",
       "      <th>13930</th>\n",
       "      <td>Chicago, IL</td>\n",
       "      <td>4186308.0</td>\n",
       "    </tr>\n",
       "    <tr>\n",
       "      <th>11298</th>\n",
       "      <td>Dallas/Fort Worth, TX</td>\n",
       "      <td>3577327.0</td>\n",
       "    </tr>\n",
       "    <tr>\n",
       "      <th>14771</th>\n",
       "      <td>San Francisco, CA</td>\n",
       "      <td>3118530.0</td>\n",
       "    </tr>\n",
       "    <tr>\n",
       "      <th>...</th>\n",
       "      <td>...</td>\n",
       "      <td>...</td>\n",
       "    </tr>\n",
       "    <tr>\n",
       "      <th>14533</th>\n",
       "      <td>Riverside, CA</td>\n",
       "      <td>0.0</td>\n",
       "    </tr>\n",
       "    <tr>\n",
       "      <th>14467</th>\n",
       "      <td>Roseburg, OR</td>\n",
       "      <td>0.0</td>\n",
       "    </tr>\n",
       "    <tr>\n",
       "      <th>14431</th>\n",
       "      <td>Window Rock, AZ</td>\n",
       "      <td>0.0</td>\n",
       "    </tr>\n",
       "    <tr>\n",
       "      <th>14397</th>\n",
       "      <td>Kennesaw, GA</td>\n",
       "      <td>0.0</td>\n",
       "    </tr>\n",
       "    <tr>\n",
       "      <th>10005</th>\n",
       "      <td>Little Squaw, AK</td>\n",
       "      <td>0.0</td>\n",
       "    </tr>\n",
       "  </tbody>\n",
       "</table>\n",
       "<p>1247 rows × 2 columns</p>\n",
       "</div>"
      ],
      "text/plain": [
       "                        origin_city_name  passengers\n",
       "origin_airport_id                                   \n",
       "10397                        Atlanta, GA   5314523.0\n",
       "12892                    Los Angeles, CA   4376757.0\n",
       "13930                        Chicago, IL   4186308.0\n",
       "11298              Dallas/Fort Worth, TX   3577327.0\n",
       "14771                  San Francisco, CA   3118530.0\n",
       "...                                  ...         ...\n",
       "14533                      Riverside, CA         0.0\n",
       "14467                       Roseburg, OR         0.0\n",
       "14431                    Window Rock, AZ         0.0\n",
       "14397                       Kennesaw, GA         0.0\n",
       "10005                   Little Squaw, AK         0.0\n",
       "\n",
       "[1247 rows x 2 columns]"
      ]
     },
     "execution_count": 53,
     "metadata": {},
     "output_type": "execute_result"
    }
   ],
   "source": [
    "df_passenger=pd.DataFrame(df_airport_passengers.groupby(['origin_airport_id','origin_city_name']).passengers.sum().sort_values(ascending=False))\n",
    "df_passenger.reset_index(level=1,inplace=True)\n",
    "df_passenger"
   ]
  },
  {
   "cell_type": "code",
   "execution_count": 71,
   "metadata": {
    "collapsed": true,
    "jupyter": {
     "outputs_hidden": true
    }
   },
   "outputs": [
    {
     "data": {
      "text/html": [
       "<div>\n",
       "<style scoped>\n",
       "    .dataframe tbody tr th:only-of-type {\n",
       "        vertical-align: middle;\n",
       "    }\n",
       "\n",
       "    .dataframe tbody tr th {\n",
       "        vertical-align: top;\n",
       "    }\n",
       "\n",
       "    .dataframe thead th {\n",
       "        text-align: right;\n",
       "    }\n",
       "</style>\n",
       "<table border=\"1\" class=\"dataframe\">\n",
       "  <thead>\n",
       "    <tr style=\"text-align: right;\">\n",
       "      <th></th>\n",
       "      <th>origin_city_name</th>\n",
       "      <th>flights_o</th>\n",
       "      <th>flights_d</th>\n",
       "      <th>flights</th>\n",
       "      <th>flights_perc</th>\n",
       "      <th>flights_perc_cum</th>\n",
       "      <th>passengers</th>\n",
       "      <th>passengers_perc</th>\n",
       "    </tr>\n",
       "  </thead>\n",
       "  <tbody>\n",
       "    <tr>\n",
       "      <th>13930</th>\n",
       "      <td>Chicago, IL</td>\n",
       "      <td>2504</td>\n",
       "      <td>2485</td>\n",
       "      <td>4989</td>\n",
       "      <td>4.989998</td>\n",
       "      <td>4.989998</td>\n",
       "      <td>4186308.0</td>\n",
       "      <td>4.502745</td>\n",
       "    </tr>\n",
       "    <tr>\n",
       "      <th>10397</th>\n",
       "      <td>Atlanta, GA</td>\n",
       "      <td>2485</td>\n",
       "      <td>2450</td>\n",
       "      <td>4935</td>\n",
       "      <td>4.935987</td>\n",
       "      <td>9.925985</td>\n",
       "      <td>5314523.0</td>\n",
       "      <td>5.716240</td>\n",
       "    </tr>\n",
       "    <tr>\n",
       "      <th>11298</th>\n",
       "      <td>Dallas/Fort Worth, TX</td>\n",
       "      <td>1812</td>\n",
       "      <td>1832</td>\n",
       "      <td>3644</td>\n",
       "      <td>3.644729</td>\n",
       "      <td>13.570714</td>\n",
       "      <td>3577327.0</td>\n",
       "      <td>3.847732</td>\n",
       "    </tr>\n",
       "    <tr>\n",
       "      <th>11292</th>\n",
       "      <td>Denver, CO</td>\n",
       "      <td>1768</td>\n",
       "      <td>1712</td>\n",
       "      <td>3480</td>\n",
       "      <td>3.480696</td>\n",
       "      <td>17.051410</td>\n",
       "      <td>3113973.0</td>\n",
       "      <td>3.349354</td>\n",
       "    </tr>\n",
       "    <tr>\n",
       "      <th>11057</th>\n",
       "      <td>Charlotte, NC</td>\n",
       "      <td>1557</td>\n",
       "      <td>1615</td>\n",
       "      <td>3172</td>\n",
       "      <td>3.172635</td>\n",
       "      <td>20.224045</td>\n",
       "      <td>2328294.0</td>\n",
       "      <td>2.504286</td>\n",
       "    </tr>\n",
       "    <tr>\n",
       "      <th>...</th>\n",
       "      <td>...</td>\n",
       "      <td>...</td>\n",
       "      <td>...</td>\n",
       "      <td>...</td>\n",
       "      <td>...</td>\n",
       "      <td>...</td>\n",
       "      <td>...</td>\n",
       "      <td>...</td>\n",
       "    </tr>\n",
       "    <tr>\n",
       "      <th>11468</th>\n",
       "      <td>Kearney, NE</td>\n",
       "      <td>1</td>\n",
       "      <td>1</td>\n",
       "      <td>2</td>\n",
       "      <td>0.002000</td>\n",
       "      <td>99.984997</td>\n",
       "      <td>1353.0</td>\n",
       "      <td>0.001455</td>\n",
       "    </tr>\n",
       "    <tr>\n",
       "      <th>13832</th>\n",
       "      <td>Ogdensburg, NY</td>\n",
       "      <td>1</td>\n",
       "      <td>1</td>\n",
       "      <td>2</td>\n",
       "      <td>0.002000</td>\n",
       "      <td>99.986997</td>\n",
       "      <td>1729.0</td>\n",
       "      <td>0.001860</td>\n",
       "    </tr>\n",
       "    <tr>\n",
       "      <th>13873</th>\n",
       "      <td>Nome, AK</td>\n",
       "      <td>1</td>\n",
       "      <td>5</td>\n",
       "      <td>6</td>\n",
       "      <td>0.006001</td>\n",
       "      <td>99.992999</td>\n",
       "      <td>10636.0</td>\n",
       "      <td>0.011440</td>\n",
       "    </tr>\n",
       "    <tr>\n",
       "      <th>14905</th>\n",
       "      <td>Santa Maria, CA</td>\n",
       "      <td>1</td>\n",
       "      <td>1</td>\n",
       "      <td>2</td>\n",
       "      <td>0.002000</td>\n",
       "      <td>99.994999</td>\n",
       "      <td>6825.0</td>\n",
       "      <td>0.007341</td>\n",
       "    </tr>\n",
       "    <tr>\n",
       "      <th>11092</th>\n",
       "      <td>Moab, UT</td>\n",
       "      <td>1</td>\n",
       "      <td>4</td>\n",
       "      <td>5</td>\n",
       "      <td>0.005001</td>\n",
       "      <td>100.000000</td>\n",
       "      <td>25.0</td>\n",
       "      <td>0.000027</td>\n",
       "    </tr>\n",
       "  </tbody>\n",
       "</table>\n",
       "<p>357 rows × 8 columns</p>\n",
       "</div>"
      ],
      "text/plain": [
       "            origin_city_name  flights_o  flights_d  flights  flights_perc  \\\n",
       "13930            Chicago, IL       2504       2485     4989      4.989998   \n",
       "10397            Atlanta, GA       2485       2450     4935      4.935987   \n",
       "11298  Dallas/Fort Worth, TX       1812       1832     3644      3.644729   \n",
       "11292             Denver, CO       1768       1712     3480      3.480696   \n",
       "11057          Charlotte, NC       1557       1615     3172      3.172635   \n",
       "...                      ...        ...        ...      ...           ...   \n",
       "11468            Kearney, NE          1          1        2      0.002000   \n",
       "13832         Ogdensburg, NY          1          1        2      0.002000   \n",
       "13873               Nome, AK          1          5        6      0.006001   \n",
       "14905        Santa Maria, CA          1          1        2      0.002000   \n",
       "11092               Moab, UT          1          4        5      0.005001   \n",
       "\n",
       "       flights_perc_cum  passengers  passengers_perc  \n",
       "13930          4.989998   4186308.0         4.502745  \n",
       "10397          9.925985   5314523.0         5.716240  \n",
       "11298         13.570714   3577327.0         3.847732  \n",
       "11292         17.051410   3113973.0         3.349354  \n",
       "11057         20.224045   2328294.0         2.504286  \n",
       "...                 ...         ...              ...  \n",
       "11468         99.984997      1353.0         0.001455  \n",
       "13832         99.986997      1729.0         0.001860  \n",
       "13873         99.992999     10636.0         0.011440  \n",
       "14905         99.994999      6825.0         0.007341  \n",
       "11092        100.000000        25.0         0.000027  \n",
       "\n",
       "[357 rows x 8 columns]"
      ]
     },
     "execution_count": 71,
     "metadata": {},
     "output_type": "execute_result"
    }
   ],
   "source": [
    "df_airport_id=pd.merge(airport_id_o,airport_id_d,right_index=True, left_index=True)\n",
    "df_airport_id['flights']=df_airport_id['flights_o']+df_airport_id['flights_d']\n",
    "df_airport_id['flights_perc']=(df_airport_id['flights']/df_airport_id['flights'].sum())*100\n",
    "df_airport_id['flights_perc_cum']=df_airport_id['flights_perc'].cumsum()\n",
    "df_airport_id=pd.merge(df_airport_id,df_passenger.passengers,right_index=True, left_index=True)\n",
    "df_airport_id['passengers_perc']=(df_airport_id['passengers']/df_airport_id['passengers'].sum())*100\n",
    "df_airport_id"
   ]
  },
  {
   "cell_type": "code",
   "execution_count": 68,
   "metadata": {
    "collapsed": true,
    "jupyter": {
     "outputs_hidden": true
    }
   },
   "outputs": [
    {
     "data": {
      "text/html": [
       "<div>\n",
       "<style scoped>\n",
       "    .dataframe tbody tr th:only-of-type {\n",
       "        vertical-align: middle;\n",
       "    }\n",
       "\n",
       "    .dataframe tbody tr th {\n",
       "        vertical-align: top;\n",
       "    }\n",
       "\n",
       "    .dataframe thead th {\n",
       "        text-align: right;\n",
       "    }\n",
       "</style>\n",
       "<table border=\"1\" class=\"dataframe\">\n",
       "  <thead>\n",
       "    <tr style=\"text-align: right;\">\n",
       "      <th></th>\n",
       "      <th>origin_city_name</th>\n",
       "      <th>flights_o</th>\n",
       "      <th>flights_d</th>\n",
       "      <th>flights</th>\n",
       "      <th>flights_perc</th>\n",
       "      <th>passengers</th>\n",
       "      <th>passengers_perc</th>\n",
       "    </tr>\n",
       "  </thead>\n",
       "  <tbody>\n",
       "    <tr>\n",
       "      <th>10397</th>\n",
       "      <td>Atlanta, GA</td>\n",
       "      <td>2485</td>\n",
       "      <td>2450</td>\n",
       "      <td>4935</td>\n",
       "      <td>4.935987</td>\n",
       "      <td>5314523.0</td>\n",
       "      <td>5.716240</td>\n",
       "    </tr>\n",
       "    <tr>\n",
       "      <th>12892</th>\n",
       "      <td>Los Angeles, CA</td>\n",
       "      <td>1533</td>\n",
       "      <td>1631</td>\n",
       "      <td>3164</td>\n",
       "      <td>3.164633</td>\n",
       "      <td>4376757.0</td>\n",
       "      <td>4.707589</td>\n",
       "    </tr>\n",
       "    <tr>\n",
       "      <th>13930</th>\n",
       "      <td>Chicago, IL</td>\n",
       "      <td>2504</td>\n",
       "      <td>2485</td>\n",
       "      <td>4989</td>\n",
       "      <td>4.989998</td>\n",
       "      <td>4186308.0</td>\n",
       "      <td>4.502745</td>\n",
       "    </tr>\n",
       "    <tr>\n",
       "      <th>11298</th>\n",
       "      <td>Dallas/Fort Worth, TX</td>\n",
       "      <td>1812</td>\n",
       "      <td>1832</td>\n",
       "      <td>3644</td>\n",
       "      <td>3.644729</td>\n",
       "      <td>3577327.0</td>\n",
       "      <td>3.847732</td>\n",
       "    </tr>\n",
       "    <tr>\n",
       "      <th>14771</th>\n",
       "      <td>San Francisco, CA</td>\n",
       "      <td>1102</td>\n",
       "      <td>1111</td>\n",
       "      <td>2213</td>\n",
       "      <td>2.213443</td>\n",
       "      <td>3118530.0</td>\n",
       "      <td>3.354255</td>\n",
       "    </tr>\n",
       "    <tr>\n",
       "      <th>...</th>\n",
       "      <td>...</td>\n",
       "      <td>...</td>\n",
       "      <td>...</td>\n",
       "      <td>...</td>\n",
       "      <td>...</td>\n",
       "      <td>...</td>\n",
       "      <td>...</td>\n",
       "    </tr>\n",
       "    <tr>\n",
       "      <th>14520</th>\n",
       "      <td>Rhinelander, WI</td>\n",
       "      <td>5</td>\n",
       "      <td>6</td>\n",
       "      <td>11</td>\n",
       "      <td>0.011002</td>\n",
       "      <td>13.0</td>\n",
       "      <td>0.000014</td>\n",
       "    </tr>\n",
       "    <tr>\n",
       "      <th>14150</th>\n",
       "      <td>Pellston, MI</td>\n",
       "      <td>7</td>\n",
       "      <td>7</td>\n",
       "      <td>14</td>\n",
       "      <td>0.014003</td>\n",
       "      <td>11.0</td>\n",
       "      <td>0.000012</td>\n",
       "    </tr>\n",
       "    <tr>\n",
       "      <th>11470</th>\n",
       "      <td>Wenatchee, WA</td>\n",
       "      <td>12</td>\n",
       "      <td>3</td>\n",
       "      <td>15</td>\n",
       "      <td>0.015003</td>\n",
       "      <td>4.0</td>\n",
       "      <td>0.000004</td>\n",
       "    </tr>\n",
       "    <tr>\n",
       "      <th>10268</th>\n",
       "      <td>Waterloo, IA</td>\n",
       "      <td>3</td>\n",
       "      <td>1</td>\n",
       "      <td>4</td>\n",
       "      <td>0.004001</td>\n",
       "      <td>0.0</td>\n",
       "      <td>0.000000</td>\n",
       "    </tr>\n",
       "    <tr>\n",
       "      <th>14231</th>\n",
       "      <td>Presque Isle/Houlton, ME</td>\n",
       "      <td>4</td>\n",
       "      <td>1</td>\n",
       "      <td>5</td>\n",
       "      <td>0.005001</td>\n",
       "      <td>0.0</td>\n",
       "      <td>0.000000</td>\n",
       "    </tr>\n",
       "  </tbody>\n",
       "</table>\n",
       "<p>357 rows × 7 columns</p>\n",
       "</div>"
      ],
      "text/plain": [
       "               origin_city_name  flights_o  flights_d  flights  flights_perc  \\\n",
       "10397               Atlanta, GA       2485       2450     4935      4.935987   \n",
       "12892           Los Angeles, CA       1533       1631     3164      3.164633   \n",
       "13930               Chicago, IL       2504       2485     4989      4.989998   \n",
       "11298     Dallas/Fort Worth, TX       1812       1832     3644      3.644729   \n",
       "14771         San Francisco, CA       1102       1111     2213      2.213443   \n",
       "...                         ...        ...        ...      ...           ...   \n",
       "14520           Rhinelander, WI          5          6       11      0.011002   \n",
       "14150              Pellston, MI          7          7       14      0.014003   \n",
       "11470             Wenatchee, WA         12          3       15      0.015003   \n",
       "10268              Waterloo, IA          3          1        4      0.004001   \n",
       "14231  Presque Isle/Houlton, ME          4          1        5      0.005001   \n",
       "\n",
       "       passengers  passengers_perc  \n",
       "10397   5314523.0         5.716240  \n",
       "12892   4376757.0         4.707589  \n",
       "13930   4186308.0         4.502745  \n",
       "11298   3577327.0         3.847732  \n",
       "14771   3118530.0         3.354255  \n",
       "...           ...              ...  \n",
       "14520        13.0         0.000014  \n",
       "14150        11.0         0.000012  \n",
       "11470         4.0         0.000004  \n",
       "10268         0.0         0.000000  \n",
       "14231         0.0         0.000000  \n",
       "\n",
       "[357 rows x 7 columns]"
      ]
     },
     "execution_count": 68,
     "metadata": {},
     "output_type": "execute_result"
    }
   ],
   "source": [
    "df_airport_id.sort_values(by='passengers',ascending=False)"
   ]
  },
  {
   "cell_type": "code",
   "execution_count": 72,
   "metadata": {
    "collapsed": true,
    "jupyter": {
     "outputs_hidden": true
    }
   },
   "outputs": [
    {
     "data": {
      "text/plain": [
       "Text(0.5,1,'Flight Traffic & Passanger Traffic')"
      ]
     },
     "execution_count": 72,
     "metadata": {},
     "output_type": "execute_result"
    },
    {
     "data": {
      "image/png": "[encoded data removed]",
      "text/plain": [
       "<Figure size 432x288 with 1 Axes>"
      ]
     },
     "metadata": {},
     "output_type": "display_data"
    }
   ],
   "source": [
    "nvar=15\n",
    "xlabel_list=df_airport_id.origin_city_name.values.tolist()[:nvar]\n",
    "#xlabel_list\n",
    "axes=df_airport_id[['flights_perc','passengers_perc','flights_perc_cum']].iloc[:nvar,:].plot.bar()\n",
    "axes.set_xticklabels((xlabel_list))\n",
    "axes.set_title('Flight Traffic & Passanger Traffic')"
   ]
  },
  {
   "cell_type": "code",
   "execution_count": 70,
   "metadata": {
    "collapsed": true,
    "jupyter": {
     "outputs_hidden": true
    }
   },
   "outputs": [
    {
     "data": {
      "text/plain": [
       "Text(0.5,1,'Flight Traffic & Passanger Traffic')"
      ]
     },
     "execution_count": 70,
     "metadata": {},
     "output_type": "execute_result"
    },
    {
     "data": {
      "image/png": "[encoded data removed]",
      "text/plain": [
       "<Figure size 432x288 with 1 Axes>"
      ]
     },
     "metadata": {},
     "output_type": "display_data"
    }
   ],
   "source": [
    "nvar=25\n",
    "xlabel_list=df_airport_id.origin_city_name.values.tolist()[:nvar]\n",
    "axes=df_airport_id[['flights_perc','passengers_perc']].iloc[:nvar,:].plot.bar()\n",
    "axes.set_xticklabels((xlabel_list))\n",
    "axes.set_title('Flight Traffic & Passanger Traffic')"
   ]
  },
  {
   "cell_type": "markdown",
   "metadata": {},
   "source": [
    "#### **Task 10**: Do bigger delays lead to bigger fuel comsumption per passenger? \n",
    "We need to do four things to answer this as accurate as possible:\n",
    "- Find out average monthly delay per air carrier (monthly delay is sum of all delays in 1 month)\n",
    "- Find out distance covered monthly by different air carriers\n",
    "- Find out number of passengers that were carried by different air carriers\n",
    "- Find out total fuel comsumption per air carrier.\n",
    "\n",
    "Use this information to get the average fuel comsumption per passenger per km. Is this higher for the airlines with bigger average delays?"
   ]
  },
  {
   "cell_type": "code",
   "execution_count": 73,
   "metadata": {
    "collapsed": true,
    "jupyter": {
     "outputs_hidden": true
    }
   },
   "outputs": [
    {
     "data": {
      "text/plain": [
       "Index(['fl_date', 'mkt_unique_carrier', 'branded_code_share', 'mkt_carrier',\n",
       "       'mkt_carrier_fl_num', 'op_unique_carrier', 'tail_num',\n",
       "       'op_carrier_fl_num', 'origin_airport_id', 'origin', 'origin_city_name',\n",
       "       'dest_airport_id', 'dest', 'dest_city_name', 'crs_dep_time', 'dep_time',\n",
       "       'dep_delay', 'taxi_out', 'wheels_off', 'wheels_on', 'taxi_in',\n",
       "       'crs_arr_time', 'arr_time', 'arr_delay', 'cancelled',\n",
       "       'cancellation_code', 'diverted', 'dup', 'crs_elapsed_time',\n",
       "       'actual_elapsed_time', 'air_time', 'flights', 'distance',\n",
       "       'carrier_delay', 'weather_delay', 'nas_delay', 'security_delay',\n",
       "       'late_aircraft_delay', 'first_dep_time', 'total_add_gtime',\n",
       "       'longest_add_gtime', 'no_name'],\n",
       "      dtype='object')"
      ]
     },
     "execution_count": 73,
     "metadata": {},
     "output_type": "execute_result"
    }
   ],
   "source": [
    "df_flights.columns "
   ]
  },
  {
   "cell_type": "code",
   "execution_count": 74,
   "metadata": {},
   "outputs": [],
   "source": [
    "features_task10=['fl_date', 'mkt_unique_carrier', 'op_unique_carrier', \n",
    "       'dep_delay', 'arr_delay', 'flights', 'distance', 'carrier_delay', 'weather_delay', 'nas_delay', 'security_delay',\n",
    "       'late_aircraft_delay']"
   ]
  },
  {
   "cell_type": "code",
   "execution_count": 75,
   "metadata": {},
   "outputs": [],
   "source": [
    "task10=df_flights[features_task10].copy()"
   ]
  },
  {
   "cell_type": "code",
   "execution_count": 77,
   "metadata": {
    "collapsed": true,
    "jupyter": {
     "outputs_hidden": true
    }
   },
   "outputs": [
    {
     "data": {
      "text/plain": [
       "fl_date                datetime64[ns]\n",
       "mkt_unique_carrier             object\n",
       "op_unique_carrier              object\n",
       "dep_delay                     float64\n",
       "arr_delay                     float64\n",
       "flights                       float64\n",
       "distance                      float64\n",
       "carrier_delay                 float64\n",
       "weather_delay                 float64\n",
       "nas_delay                     float64\n",
       "security_delay                float64\n",
       "late_aircraft_delay           float64\n",
       "dtype: object"
      ]
     },
     "execution_count": 77,
     "metadata": {},
     "output_type": "execute_result"
    }
   ],
   "source": [
    "task10.dtypes"
   ]
  },
  {
   "cell_type": "code",
   "execution_count": 109,
   "metadata": {
    "collapsed": true,
    "jupyter": {
     "outputs_hidden": true
    }
   },
   "outputs": [
    {
     "data": {
      "text/html": [
       "<div>\n",
       "<style scoped>\n",
       "    .dataframe tbody tr th:only-of-type {\n",
       "        vertical-align: middle;\n",
       "    }\n",
       "\n",
       "    .dataframe tbody tr th {\n",
       "        vertical-align: top;\n",
       "    }\n",
       "\n",
       "    .dataframe thead th {\n",
       "        text-align: right;\n",
       "    }\n",
       "</style>\n",
       "<table border=\"1\" class=\"dataframe\">\n",
       "  <thead>\n",
       "    <tr style=\"text-align: right;\">\n",
       "      <th></th>\n",
       "      <th>fl_date</th>\n",
       "      <th>mkt_unique_carrier</th>\n",
       "      <th>op_unique_carrier</th>\n",
       "      <th>dep_delay</th>\n",
       "      <th>arr_delay</th>\n",
       "      <th>flights</th>\n",
       "      <th>distance</th>\n",
       "      <th>carrier_delay</th>\n",
       "      <th>weather_delay</th>\n",
       "      <th>nas_delay</th>\n",
       "      <th>security_delay</th>\n",
       "      <th>late_aircraft_delay</th>\n",
       "      <th>month</th>\n",
       "      <th>total_delay</th>\n",
       "    </tr>\n",
       "  </thead>\n",
       "  <tbody>\n",
       "    <tr>\n",
       "      <th>0</th>\n",
       "      <td>2019-08-24</td>\n",
       "      <td>UA</td>\n",
       "      <td>OO</td>\n",
       "      <td>0.0</td>\n",
       "      <td>-9.0</td>\n",
       "      <td>1.0</td>\n",
       "      <td>283.0</td>\n",
       "      <td>0.0</td>\n",
       "      <td>0.0</td>\n",
       "      <td>0.0</td>\n",
       "      <td>0.0</td>\n",
       "      <td>0.0</td>\n",
       "      <td>08</td>\n",
       "      <td>-9.0</td>\n",
       "    </tr>\n",
       "    <tr>\n",
       "      <th>1</th>\n",
       "      <td>2019-01-05</td>\n",
       "      <td>WN</td>\n",
       "      <td>WN</td>\n",
       "      <td>-3.0</td>\n",
       "      <td>-13.0</td>\n",
       "      <td>1.0</td>\n",
       "      <td>1020.0</td>\n",
       "      <td>0.0</td>\n",
       "      <td>0.0</td>\n",
       "      <td>0.0</td>\n",
       "      <td>0.0</td>\n",
       "      <td>0.0</td>\n",
       "      <td>01</td>\n",
       "      <td>-16.0</td>\n",
       "    </tr>\n",
       "    <tr>\n",
       "      <th>2</th>\n",
       "      <td>2018-05-18</td>\n",
       "      <td>WN</td>\n",
       "      <td>WN</td>\n",
       "      <td>21.0</td>\n",
       "      <td>13.0</td>\n",
       "      <td>1.0</td>\n",
       "      <td>1020.0</td>\n",
       "      <td>0.0</td>\n",
       "      <td>0.0</td>\n",
       "      <td>0.0</td>\n",
       "      <td>0.0</td>\n",
       "      <td>0.0</td>\n",
       "      <td>05</td>\n",
       "      <td>34.0</td>\n",
       "    </tr>\n",
       "    <tr>\n",
       "      <th>3</th>\n",
       "      <td>2018-08-27</td>\n",
       "      <td>DL</td>\n",
       "      <td>9E</td>\n",
       "      <td>-7.0</td>\n",
       "      <td>-16.0</td>\n",
       "      <td>1.0</td>\n",
       "      <td>726.0</td>\n",
       "      <td>0.0</td>\n",
       "      <td>0.0</td>\n",
       "      <td>0.0</td>\n",
       "      <td>0.0</td>\n",
       "      <td>0.0</td>\n",
       "      <td>08</td>\n",
       "      <td>-23.0</td>\n",
       "    </tr>\n",
       "    <tr>\n",
       "      <th>4</th>\n",
       "      <td>2019-05-29</td>\n",
       "      <td>DL</td>\n",
       "      <td>DL</td>\n",
       "      <td>21.0</td>\n",
       "      <td>11.0</td>\n",
       "      <td>1.0</td>\n",
       "      <td>1269.0</td>\n",
       "      <td>0.0</td>\n",
       "      <td>0.0</td>\n",
       "      <td>0.0</td>\n",
       "      <td>0.0</td>\n",
       "      <td>0.0</td>\n",
       "      <td>05</td>\n",
       "      <td>32.0</td>\n",
       "    </tr>\n",
       "  </tbody>\n",
       "</table>\n",
       "</div>"
      ],
      "text/plain": [
       "     fl_date mkt_unique_carrier op_unique_carrier  dep_delay  arr_delay  \\\n",
       "0 2019-08-24                 UA                OO        0.0       -9.0   \n",
       "1 2019-01-05                 WN                WN       -3.0      -13.0   \n",
       "2 2018-05-18                 WN                WN       21.0       13.0   \n",
       "3 2018-08-27                 DL                9E       -7.0      -16.0   \n",
       "4 2019-05-29                 DL                DL       21.0       11.0   \n",
       "\n",
       "   flights  distance  carrier_delay  weather_delay  nas_delay  security_delay  \\\n",
       "0      1.0     283.0            0.0            0.0        0.0             0.0   \n",
       "1      1.0    1020.0            0.0            0.0        0.0             0.0   \n",
       "2      1.0    1020.0            0.0            0.0        0.0             0.0   \n",
       "3      1.0     726.0            0.0            0.0        0.0             0.0   \n",
       "4      1.0    1269.0            0.0            0.0        0.0             0.0   \n",
       "\n",
       "   late_aircraft_delay month  total_delay  \n",
       "0                  0.0    08         -9.0  \n",
       "1                  0.0    01        -16.0  \n",
       "2                  0.0    05         34.0  \n",
       "3                  0.0    08        -23.0  \n",
       "4                  0.0    05         32.0  "
      ]
     },
     "execution_count": 109,
     "metadata": {},
     "output_type": "execute_result"
    }
   ],
   "source": [
    "task10[features_task10]=task10[features_task10].fillna(0,axis=1)\n",
    "task10['month']=task10.fl_date.dt.month.astype(str).str.rjust(2,\"0\")\n",
    "task10['total_delay']=task10[['dep_delay',\"arr_delay\",\"carrier_delay\",\"weather_delay\",\"nas_delay\",\"security_delay\",\"late_aircraft_delay\"]].sum(axis=1)\n",
    "task10.head()"
   ]
  },
  {
   "cell_type": "markdown",
   "metadata": {},
   "source": [
    "### #Find out average monthly delay per air carrier (monthly delay is sum of all delays in 1 month)\n"
   ]
  },
  {
   "cell_type": "code",
   "execution_count": 110,
   "metadata": {
    "collapsed": true,
    "jupyter": {
     "outputs_hidden": true
    }
   },
   "outputs": [
    {
     "data": {
      "text/html": [
       "<div>\n",
       "<style scoped>\n",
       "    .dataframe tbody tr th:only-of-type {\n",
       "        vertical-align: middle;\n",
       "    }\n",
       "\n",
       "    .dataframe tbody tr th {\n",
       "        vertical-align: top;\n",
       "    }\n",
       "\n",
       "    .dataframe thead th {\n",
       "        text-align: right;\n",
       "    }\n",
       "</style>\n",
       "<table border=\"1\" class=\"dataframe\">\n",
       "  <thead>\n",
       "    <tr style=\"text-align: right;\">\n",
       "      <th></th>\n",
       "      <th></th>\n",
       "      <th>total_delay</th>\n",
       "    </tr>\n",
       "    <tr>\n",
       "      <th>op_unique_carrier</th>\n",
       "      <th>month</th>\n",
       "      <th></th>\n",
       "    </tr>\n",
       "  </thead>\n",
       "  <tbody>\n",
       "    <tr>\n",
       "      <th rowspan=\"5\" valign=\"top\">9E</th>\n",
       "      <th>01</th>\n",
       "      <td>17.847826</td>\n",
       "    </tr>\n",
       "    <tr>\n",
       "      <th>02</th>\n",
       "      <td>64.974138</td>\n",
       "    </tr>\n",
       "    <tr>\n",
       "      <th>03</th>\n",
       "      <td>13.427586</td>\n",
       "    </tr>\n",
       "    <tr>\n",
       "      <th>04</th>\n",
       "      <td>102.161972</td>\n",
       "    </tr>\n",
       "    <tr>\n",
       "      <th>05</th>\n",
       "      <td>9.364964</td>\n",
       "    </tr>\n",
       "    <tr>\n",
       "      <th>...</th>\n",
       "      <th>...</th>\n",
       "      <td>...</td>\n",
       "    </tr>\n",
       "    <tr>\n",
       "      <th rowspan=\"5\" valign=\"top\">ZW</th>\n",
       "      <th>08</th>\n",
       "      <td>70.472222</td>\n",
       "    </tr>\n",
       "    <tr>\n",
       "      <th>09</th>\n",
       "      <td>18.461538</td>\n",
       "    </tr>\n",
       "    <tr>\n",
       "      <th>10</th>\n",
       "      <td>2.274510</td>\n",
       "    </tr>\n",
       "    <tr>\n",
       "      <th>11</th>\n",
       "      <td>21.907407</td>\n",
       "    </tr>\n",
       "    <tr>\n",
       "      <th>12</th>\n",
       "      <td>2.687500</td>\n",
       "    </tr>\n",
       "  </tbody>\n",
       "</table>\n",
       "<p>314 rows × 1 columns</p>\n",
       "</div>"
      ],
      "text/plain": [
       "                         total_delay\n",
       "op_unique_carrier month             \n",
       "9E                01       17.847826\n",
       "                  02       64.974138\n",
       "                  03       13.427586\n",
       "                  04      102.161972\n",
       "                  05        9.364964\n",
       "...                              ...\n",
       "ZW                08       70.472222\n",
       "                  09       18.461538\n",
       "                  10        2.274510\n",
       "                  11       21.907407\n",
       "                  12        2.687500\n",
       "\n",
       "[314 rows x 1 columns]"
      ]
     },
     "execution_count": 110,
     "metadata": {},
     "output_type": "execute_result"
    }
   ],
   "source": [
    "month_delay=pd.DataFrame(task10.groupby(['op_unique_carrier','month'])['total_delay'].mean())\n",
    "month_delay"
   ]
  },
  {
   "cell_type": "markdown",
   "metadata": {},
   "source": [
    "### Find out distance covered monthly by different air carriers"
   ]
  },
  {
   "cell_type": "code",
   "execution_count": 127,
   "metadata": {
    "collapsed": true,
    "jupyter": {
     "outputs_hidden": true
    }
   },
   "outputs": [
    {
     "data": {
      "text/html": [
       "<div>\n",
       "<style scoped>\n",
       "    .dataframe tbody tr th:only-of-type {\n",
       "        vertical-align: middle;\n",
       "    }\n",
       "\n",
       "    .dataframe tbody tr th {\n",
       "        vertical-align: top;\n",
       "    }\n",
       "\n",
       "    .dataframe thead th {\n",
       "        text-align: right;\n",
       "    }\n",
       "</style>\n",
       "<table border=\"1\" class=\"dataframe\">\n",
       "  <thead>\n",
       "    <tr style=\"text-align: right;\">\n",
       "      <th></th>\n",
       "      <th></th>\n",
       "      <th>distance</th>\n",
       "    </tr>\n",
       "    <tr>\n",
       "      <th>carrier</th>\n",
       "      <th>month</th>\n",
       "      <th></th>\n",
       "    </tr>\n",
       "  </thead>\n",
       "  <tbody>\n",
       "    <tr>\n",
       "      <th rowspan=\"5\" valign=\"top\">9E</th>\n",
       "      <th>01</th>\n",
       "      <td>44675.0</td>\n",
       "    </tr>\n",
       "    <tr>\n",
       "      <th>02</th>\n",
       "      <td>61300.0</td>\n",
       "    </tr>\n",
       "    <tr>\n",
       "      <th>03</th>\n",
       "      <td>61918.0</td>\n",
       "    </tr>\n",
       "    <tr>\n",
       "      <th>04</th>\n",
       "      <td>66217.0</td>\n",
       "    </tr>\n",
       "    <tr>\n",
       "      <th>05</th>\n",
       "      <td>63810.0</td>\n",
       "    </tr>\n",
       "    <tr>\n",
       "      <th>...</th>\n",
       "      <th>...</th>\n",
       "      <td>...</td>\n",
       "    </tr>\n",
       "    <tr>\n",
       "      <th rowspan=\"5\" valign=\"top\">ZW</th>\n",
       "      <th>08</th>\n",
       "      <td>26143.0</td>\n",
       "    </tr>\n",
       "    <tr>\n",
       "      <th>09</th>\n",
       "      <td>14600.0</td>\n",
       "    </tr>\n",
       "    <tr>\n",
       "      <th>10</th>\n",
       "      <td>19456.0</td>\n",
       "    </tr>\n",
       "    <tr>\n",
       "      <th>11</th>\n",
       "      <td>19060.0</td>\n",
       "    </tr>\n",
       "    <tr>\n",
       "      <th>12</th>\n",
       "      <td>17987.0</td>\n",
       "    </tr>\n",
       "  </tbody>\n",
       "</table>\n",
       "<p>314 rows × 1 columns</p>\n",
       "</div>"
      ],
      "text/plain": [
       "               distance\n",
       "carrier month          \n",
       "9E      01      44675.0\n",
       "        02      61300.0\n",
       "        03      61918.0\n",
       "        04      66217.0\n",
       "        05      63810.0\n",
       "...                 ...\n",
       "ZW      08      26143.0\n",
       "        09      14600.0\n",
       "        10      19456.0\n",
       "        11      19060.0\n",
       "        12      17987.0\n",
       "\n",
       "[314 rows x 1 columns]"
      ]
     },
     "execution_count": 127,
     "metadata": {},
     "output_type": "execute_result"
    }
   ],
   "source": [
    "month_distance=pd.DataFrame(task10.groupby(['op_unique_carrier','month'])['distance'].sum())\n",
    "month_distance.index.names=['carrier','month']\n",
    "month_distance"
   ]
  },
  {
   "cell_type": "markdown",
   "metadata": {},
   "source": [
    "### Find out number of passengers that were carried by different air carriers"
   ]
  },
  {
   "cell_type": "code",
   "execution_count": 128,
   "metadata": {
    "collapsed": true,
    "jupyter": {
     "outputs_hidden": true
    }
   },
   "outputs": [
    {
     "data": {
      "text/html": [
       "<div>\n",
       "<style scoped>\n",
       "    .dataframe tbody tr th:only-of-type {\n",
       "        vertical-align: middle;\n",
       "    }\n",
       "\n",
       "    .dataframe tbody tr th {\n",
       "        vertical-align: top;\n",
       "    }\n",
       "\n",
       "    .dataframe thead th {\n",
       "        text-align: right;\n",
       "    }\n",
       "</style>\n",
       "<table border=\"1\" class=\"dataframe\">\n",
       "  <thead>\n",
       "    <tr style=\"text-align: right;\">\n",
       "      <th></th>\n",
       "      <th>carrier</th>\n",
       "      <th>unique_carrier_name</th>\n",
       "      <th>unique_carrier_name</th>\n",
       "      <th>month</th>\n",
       "      <th>passengers</th>\n",
       "    </tr>\n",
       "  </thead>\n",
       "  <tbody>\n",
       "    <tr>\n",
       "      <th>0</th>\n",
       "      <td>4B</td>\n",
       "      <td>Boutique Air</td>\n",
       "      <td>Boutique Air</td>\n",
       "      <td>11</td>\n",
       "      <td>8.0</td>\n",
       "    </tr>\n",
       "    <tr>\n",
       "      <th>1</th>\n",
       "      <td>G4</td>\n",
       "      <td>Allegiant Air</td>\n",
       "      <td>Allegiant Air</td>\n",
       "      <td>4</td>\n",
       "      <td>1200.0</td>\n",
       "    </tr>\n",
       "    <tr>\n",
       "      <th>2</th>\n",
       "      <td>DL</td>\n",
       "      <td>Delta Air Lines Inc.</td>\n",
       "      <td>Delta Air Lines Inc.</td>\n",
       "      <td>4</td>\n",
       "      <td>575.0</td>\n",
       "    </tr>\n",
       "    <tr>\n",
       "      <th>3</th>\n",
       "      <td>7S</td>\n",
       "      <td>Ryan Air f/k/a Arctic Transportation</td>\n",
       "      <td>Ryan Air f/k/a Arctic Transportation</td>\n",
       "      <td>8</td>\n",
       "      <td>0.0</td>\n",
       "    </tr>\n",
       "    <tr>\n",
       "      <th>4</th>\n",
       "      <td>1YQ</td>\n",
       "      <td>Air Charter, Inc d/b/a Air Flamenco</td>\n",
       "      <td>Air Charter, Inc d/b/a Air Flamenco</td>\n",
       "      <td>2</td>\n",
       "      <td>0.0</td>\n",
       "    </tr>\n",
       "    <tr>\n",
       "      <th>...</th>\n",
       "      <td>...</td>\n",
       "      <td>...</td>\n",
       "      <td>...</td>\n",
       "      <td>...</td>\n",
       "      <td>...</td>\n",
       "    </tr>\n",
       "    <tr>\n",
       "      <th>49995</th>\n",
       "      <td>UA</td>\n",
       "      <td>United Air Lines Inc.</td>\n",
       "      <td>United Air Lines Inc.</td>\n",
       "      <td>10</td>\n",
       "      <td>9387.0</td>\n",
       "    </tr>\n",
       "    <tr>\n",
       "      <th>49996</th>\n",
       "      <td>FI</td>\n",
       "      <td>Icelandair</td>\n",
       "      <td>Icelandair</td>\n",
       "      <td>1</td>\n",
       "      <td>2172.0</td>\n",
       "    </tr>\n",
       "    <tr>\n",
       "      <th>49997</th>\n",
       "      <td>DL</td>\n",
       "      <td>Delta Air Lines Inc.</td>\n",
       "      <td>Delta Air Lines Inc.</td>\n",
       "      <td>4</td>\n",
       "      <td>5207.0</td>\n",
       "    </tr>\n",
       "    <tr>\n",
       "      <th>49998</th>\n",
       "      <td>AA</td>\n",
       "      <td>American Airlines Inc.</td>\n",
       "      <td>American Airlines Inc.</td>\n",
       "      <td>4</td>\n",
       "      <td>110.0</td>\n",
       "    </tr>\n",
       "    <tr>\n",
       "      <th>49999</th>\n",
       "      <td>FX</td>\n",
       "      <td>Federal Express Corporation</td>\n",
       "      <td>Federal Express Corporation</td>\n",
       "      <td>10</td>\n",
       "      <td>0.0</td>\n",
       "    </tr>\n",
       "  </tbody>\n",
       "</table>\n",
       "<p>50000 rows × 5 columns</p>\n",
       "</div>"
      ],
      "text/plain": [
       "      carrier                   unique_carrier_name  \\\n",
       "0          4B                          Boutique Air   \n",
       "1          G4                         Allegiant Air   \n",
       "2          DL                  Delta Air Lines Inc.   \n",
       "3          7S  Ryan Air f/k/a Arctic Transportation   \n",
       "4         1YQ   Air Charter, Inc d/b/a Air Flamenco   \n",
       "...       ...                                   ...   \n",
       "49995      UA                 United Air Lines Inc.   \n",
       "49996      FI                            Icelandair   \n",
       "49997      DL                  Delta Air Lines Inc.   \n",
       "49998      AA                American Airlines Inc.   \n",
       "49999      FX           Federal Express Corporation   \n",
       "\n",
       "                        unique_carrier_name  month  passengers  \n",
       "0                              Boutique Air     11         8.0  \n",
       "1                             Allegiant Air      4      1200.0  \n",
       "2                      Delta Air Lines Inc.      4       575.0  \n",
       "3      Ryan Air f/k/a Arctic Transportation      8         0.0  \n",
       "4       Air Charter, Inc d/b/a Air Flamenco      2         0.0  \n",
       "...                                     ...    ...         ...  \n",
       "49995                 United Air Lines Inc.     10      9387.0  \n",
       "49996                            Icelandair      1      2172.0  \n",
       "49997                  Delta Air Lines Inc.      4      5207.0  \n",
       "49998                American Airlines Inc.      4       110.0  \n",
       "49999           Federal Express Corporation     10         0.0  \n",
       "\n",
       "[50000 rows x 5 columns]"
      ]
     },
     "execution_count": 128,
     "metadata": {},
     "output_type": "execute_result"
    }
   ],
   "source": [
    "task10_passengers = pd.read_sql_query('SELECT carrier, unique_carrier_name, unique_carrier_name, month, passengers FROM passengers ORDER BY RANDOM() LIMIT 50000;', connection)\n",
    "task10_passengers"
   ]
  },
  {
   "cell_type": "code",
   "execution_count": 129,
   "metadata": {
    "collapsed": true,
    "jupyter": {
     "outputs_hidden": true
    }
   },
   "outputs": [
    {
     "data": {
      "text/html": [
       "<div>\n",
       "<style scoped>\n",
       "    .dataframe tbody tr th:only-of-type {\n",
       "        vertical-align: middle;\n",
       "    }\n",
       "\n",
       "    .dataframe tbody tr th {\n",
       "        vertical-align: top;\n",
       "    }\n",
       "\n",
       "    .dataframe thead th {\n",
       "        text-align: right;\n",
       "    }\n",
       "</style>\n",
       "<table border=\"1\" class=\"dataframe\">\n",
       "  <thead>\n",
       "    <tr style=\"text-align: right;\">\n",
       "      <th></th>\n",
       "      <th>carrier</th>\n",
       "      <th>unique_carrier_name</th>\n",
       "      <th>unique_carrier_name</th>\n",
       "      <th>month</th>\n",
       "      <th>passengers</th>\n",
       "    </tr>\n",
       "  </thead>\n",
       "  <tbody>\n",
       "    <tr>\n",
       "      <th>0</th>\n",
       "      <td>4B</td>\n",
       "      <td>Boutique Air</td>\n",
       "      <td>Boutique Air</td>\n",
       "      <td>11</td>\n",
       "      <td>8.0</td>\n",
       "    </tr>\n",
       "    <tr>\n",
       "      <th>1</th>\n",
       "      <td>G4</td>\n",
       "      <td>Allegiant Air</td>\n",
       "      <td>Allegiant Air</td>\n",
       "      <td>04</td>\n",
       "      <td>1200.0</td>\n",
       "    </tr>\n",
       "    <tr>\n",
       "      <th>2</th>\n",
       "      <td>DL</td>\n",
       "      <td>Delta Air Lines Inc.</td>\n",
       "      <td>Delta Air Lines Inc.</td>\n",
       "      <td>04</td>\n",
       "      <td>575.0</td>\n",
       "    </tr>\n",
       "    <tr>\n",
       "      <th>3</th>\n",
       "      <td>7S</td>\n",
       "      <td>Ryan Air f/k/a Arctic Transportation</td>\n",
       "      <td>Ryan Air f/k/a Arctic Transportation</td>\n",
       "      <td>08</td>\n",
       "      <td>0.0</td>\n",
       "    </tr>\n",
       "    <tr>\n",
       "      <th>4</th>\n",
       "      <td>1YQ</td>\n",
       "      <td>Air Charter, Inc d/b/a Air Flamenco</td>\n",
       "      <td>Air Charter, Inc d/b/a Air Flamenco</td>\n",
       "      <td>02</td>\n",
       "      <td>0.0</td>\n",
       "    </tr>\n",
       "    <tr>\n",
       "      <th>...</th>\n",
       "      <td>...</td>\n",
       "      <td>...</td>\n",
       "      <td>...</td>\n",
       "      <td>...</td>\n",
       "      <td>...</td>\n",
       "    </tr>\n",
       "    <tr>\n",
       "      <th>49995</th>\n",
       "      <td>UA</td>\n",
       "      <td>United Air Lines Inc.</td>\n",
       "      <td>United Air Lines Inc.</td>\n",
       "      <td>10</td>\n",
       "      <td>9387.0</td>\n",
       "    </tr>\n",
       "    <tr>\n",
       "      <th>49996</th>\n",
       "      <td>FI</td>\n",
       "      <td>Icelandair</td>\n",
       "      <td>Icelandair</td>\n",
       "      <td>01</td>\n",
       "      <td>2172.0</td>\n",
       "    </tr>\n",
       "    <tr>\n",
       "      <th>49997</th>\n",
       "      <td>DL</td>\n",
       "      <td>Delta Air Lines Inc.</td>\n",
       "      <td>Delta Air Lines Inc.</td>\n",
       "      <td>04</td>\n",
       "      <td>5207.0</td>\n",
       "    </tr>\n",
       "    <tr>\n",
       "      <th>49998</th>\n",
       "      <td>AA</td>\n",
       "      <td>American Airlines Inc.</td>\n",
       "      <td>American Airlines Inc.</td>\n",
       "      <td>04</td>\n",
       "      <td>110.0</td>\n",
       "    </tr>\n",
       "    <tr>\n",
       "      <th>49999</th>\n",
       "      <td>FX</td>\n",
       "      <td>Federal Express Corporation</td>\n",
       "      <td>Federal Express Corporation</td>\n",
       "      <td>10</td>\n",
       "      <td>0.0</td>\n",
       "    </tr>\n",
       "  </tbody>\n",
       "</table>\n",
       "<p>50000 rows × 5 columns</p>\n",
       "</div>"
      ],
      "text/plain": [
       "      carrier                   unique_carrier_name  \\\n",
       "0          4B                          Boutique Air   \n",
       "1          G4                         Allegiant Air   \n",
       "2          DL                  Delta Air Lines Inc.   \n",
       "3          7S  Ryan Air f/k/a Arctic Transportation   \n",
       "4         1YQ   Air Charter, Inc d/b/a Air Flamenco   \n",
       "...       ...                                   ...   \n",
       "49995      UA                 United Air Lines Inc.   \n",
       "49996      FI                            Icelandair   \n",
       "49997      DL                  Delta Air Lines Inc.   \n",
       "49998      AA                American Airlines Inc.   \n",
       "49999      FX           Federal Express Corporation   \n",
       "\n",
       "                        unique_carrier_name month  passengers  \n",
       "0                              Boutique Air    11         8.0  \n",
       "1                             Allegiant Air    04      1200.0  \n",
       "2                      Delta Air Lines Inc.    04       575.0  \n",
       "3      Ryan Air f/k/a Arctic Transportation    08         0.0  \n",
       "4       Air Charter, Inc d/b/a Air Flamenco    02         0.0  \n",
       "...                                     ...   ...         ...  \n",
       "49995                 United Air Lines Inc.    10      9387.0  \n",
       "49996                            Icelandair    01      2172.0  \n",
       "49997                  Delta Air Lines Inc.    04      5207.0  \n",
       "49998                American Airlines Inc.    04       110.0  \n",
       "49999           Federal Express Corporation    10         0.0  \n",
       "\n",
       "[50000 rows x 5 columns]"
      ]
     },
     "execution_count": 129,
     "metadata": {},
     "output_type": "execute_result"
    }
   ],
   "source": [
    "task10_passengers['month']=task10_passengers['month'].astype(str)\n",
    "task10_passengers['month']=task10_passengers['month'].str.rjust(2,\"0\")\n",
    "task10_passengers"
   ]
  },
  {
   "cell_type": "code",
   "execution_count": 130,
   "metadata": {
    "collapsed": true,
    "jupyter": {
     "outputs_hidden": true
    }
   },
   "outputs": [
    {
     "data": {
      "text/html": [
       "<div>\n",
       "<style scoped>\n",
       "    .dataframe tbody tr th:only-of-type {\n",
       "        vertical-align: middle;\n",
       "    }\n",
       "\n",
       "    .dataframe tbody tr th {\n",
       "        vertical-align: top;\n",
       "    }\n",
       "\n",
       "    .dataframe thead th {\n",
       "        text-align: right;\n",
       "    }\n",
       "</style>\n",
       "<table border=\"1\" class=\"dataframe\">\n",
       "  <thead>\n",
       "    <tr style=\"text-align: right;\">\n",
       "      <th></th>\n",
       "      <th></th>\n",
       "      <th>passengers</th>\n",
       "    </tr>\n",
       "    <tr>\n",
       "      <th>carrier</th>\n",
       "      <th>month</th>\n",
       "      <th></th>\n",
       "    </tr>\n",
       "  </thead>\n",
       "  <tbody>\n",
       "    <tr>\n",
       "      <th rowspan=\"2\" valign=\"top\">02Q</th>\n",
       "      <th>01</th>\n",
       "      <td>52.0</td>\n",
       "    </tr>\n",
       "    <tr>\n",
       "      <th>11</th>\n",
       "      <td>19.0</td>\n",
       "    </tr>\n",
       "    <tr>\n",
       "      <th rowspan=\"3\" valign=\"top\">04Q</th>\n",
       "      <th>01</th>\n",
       "      <td>197.0</td>\n",
       "    </tr>\n",
       "    <tr>\n",
       "      <th>02</th>\n",
       "      <td>1034.0</td>\n",
       "    </tr>\n",
       "    <tr>\n",
       "      <th>03</th>\n",
       "      <td>1228.0</td>\n",
       "    </tr>\n",
       "    <tr>\n",
       "      <th>...</th>\n",
       "      <th>...</th>\n",
       "      <td>...</td>\n",
       "    </tr>\n",
       "    <tr>\n",
       "      <th rowspan=\"5\" valign=\"top\">ZX</th>\n",
       "      <th>07</th>\n",
       "      <td>11739.0</td>\n",
       "    </tr>\n",
       "    <tr>\n",
       "      <th>08</th>\n",
       "      <td>10678.0</td>\n",
       "    </tr>\n",
       "    <tr>\n",
       "      <th>09</th>\n",
       "      <td>10759.0</td>\n",
       "    </tr>\n",
       "    <tr>\n",
       "      <th>10</th>\n",
       "      <td>16772.0</td>\n",
       "    </tr>\n",
       "    <tr>\n",
       "      <th>12</th>\n",
       "      <td>3714.0</td>\n",
       "    </tr>\n",
       "  </tbody>\n",
       "</table>\n",
       "<p>2707 rows × 1 columns</p>\n",
       "</div>"
      ],
      "text/plain": [
       "               passengers\n",
       "carrier month            \n",
       "02Q     01           52.0\n",
       "        11           19.0\n",
       "04Q     01          197.0\n",
       "        02         1034.0\n",
       "        03         1228.0\n",
       "...                   ...\n",
       "ZX      07        11739.0\n",
       "        08        10678.0\n",
       "        09        10759.0\n",
       "        10        16772.0\n",
       "        12         3714.0\n",
       "\n",
       "[2707 rows x 1 columns]"
      ]
     },
     "execution_count": 130,
     "metadata": {},
     "output_type": "execute_result"
    }
   ],
   "source": [
    "month_passanger=pd.DataFrame(task10_passengers.groupby(['carrier',\"month\"])['passengers'].sum())\n",
    "month_passanger"
   ]
  },
  {
   "cell_type": "markdown",
   "metadata": {},
   "source": [
    "### Find out total fuel comsumption per air carrier"
   ]
  },
  {
   "cell_type": "code",
   "execution_count": 131,
   "metadata": {
    "collapsed": true,
    "jupyter": {
     "outputs_hidden": true
    }
   },
   "outputs": [
    {
     "data": {
      "text/html": [
       "<div>\n",
       "<style scoped>\n",
       "    .dataframe tbody tr th:only-of-type {\n",
       "        vertical-align: middle;\n",
       "    }\n",
       "\n",
       "    .dataframe tbody tr th {\n",
       "        vertical-align: top;\n",
       "    }\n",
       "\n",
       "    .dataframe thead th {\n",
       "        text-align: right;\n",
       "    }\n",
       "</style>\n",
       "<table border=\"1\" class=\"dataframe\">\n",
       "  <thead>\n",
       "    <tr style=\"text-align: right;\">\n",
       "      <th></th>\n",
       "      <th>carrier</th>\n",
       "      <th>carrier_name</th>\n",
       "      <th>month</th>\n",
       "      <th>total_gallons</th>\n",
       "    </tr>\n",
       "  </thead>\n",
       "  <tbody>\n",
       "    <tr>\n",
       "      <th>0</th>\n",
       "      <td>OH</td>\n",
       "      <td>PSA Airlines Inc.</td>\n",
       "      <td>10</td>\n",
       "      <td>0.0</td>\n",
       "    </tr>\n",
       "    <tr>\n",
       "      <th>1</th>\n",
       "      <td>ZW</td>\n",
       "      <td>Air Wisconsin Airlines Corp</td>\n",
       "      <td>1</td>\n",
       "      <td>6016332.0</td>\n",
       "    </tr>\n",
       "    <tr>\n",
       "      <th>2</th>\n",
       "      <td>MQ</td>\n",
       "      <td>Envoy Air</td>\n",
       "      <td>8</td>\n",
       "      <td>0.0</td>\n",
       "    </tr>\n",
       "    <tr>\n",
       "      <th>3</th>\n",
       "      <td>F9</td>\n",
       "      <td>Frontier Airlines Inc.</td>\n",
       "      <td>5</td>\n",
       "      <td>24591649.0</td>\n",
       "    </tr>\n",
       "    <tr>\n",
       "      <th>4</th>\n",
       "      <td>PRQ</td>\n",
       "      <td>Florida West Airlines Inc.</td>\n",
       "      <td>2</td>\n",
       "      <td>0.0</td>\n",
       "    </tr>\n",
       "  </tbody>\n",
       "</table>\n",
       "</div>"
      ],
      "text/plain": [
       "  carrier                 carrier_name  month  total_gallons\n",
       "0      OH            PSA Airlines Inc.     10            0.0\n",
       "1      ZW  Air Wisconsin Airlines Corp      1      6016332.0\n",
       "2      MQ                    Envoy Air      8            0.0\n",
       "3      F9       Frontier Airlines Inc.      5     24591649.0\n",
       "4     PRQ   Florida West Airlines Inc.      2            0.0"
      ]
     },
     "execution_count": 131,
     "metadata": {},
     "output_type": "execute_result"
    }
   ],
   "source": [
    "#total fuel comsumption per air carrier\n",
    "df_fuel = pd.read_sql_query('SELECT carrier, carrier_name,  month, total_gallons FROM fuel_comsumption ORDER BY RANDOM() LIMIT 50000;', connection)\n",
    "df_fuel.head()"
   ]
  },
  {
   "cell_type": "code",
   "execution_count": 161,
   "metadata": {
    "collapsed": true,
    "jupyter": {
     "outputs_hidden": true
    }
   },
   "outputs": [
    {
     "data": {
      "text/plain": [
       "array(['OH', 'ZW', 'MQ', 'F9', 'PRQ', 'NK', 'KD', 'PO', 'KAQ', 'X9', 'B6',\n",
       "       'WI', 'GFQ', 'WN', 'L2', 'XP', '3EQ', '8C', 'EE', '1BQ', 'WP',\n",
       "       'VX', 'SY', 'YV', '9E', '5V', '23Q', 'U7', 'DL', 'N8', '5Y', 'ABX',\n",
       "       'EV', '5X', 'HA', 'M6', 'YX', 'AS', 'KLQ', '27Q', '9S', '0WQ',\n",
       "       'CP', '2HQ', '09Q', 'PFQ', 'NC', 'G7', 'GL', 'G4', '0JQ', 'UA',\n",
       "       'QX', 'OO', 'AA', 'MRQ', 'FX', 'K8', 'WE', 'WL', 'KH', 'S5', '16',\n",
       "       'US', 'FCQ'], dtype=object)"
      ]
     },
     "execution_count": 161,
     "metadata": {},
     "output_type": "execute_result"
    }
   ],
   "source": [
    "df_fuel.carrier.unique()"
   ]
  },
  {
   "cell_type": "code",
   "execution_count": 132,
   "metadata": {
    "collapsed": true,
    "jupyter": {
     "outputs_hidden": true
    }
   },
   "outputs": [
    {
     "data": {
      "text/html": [
       "<div>\n",
       "<style scoped>\n",
       "    .dataframe tbody tr th:only-of-type {\n",
       "        vertical-align: middle;\n",
       "    }\n",
       "\n",
       "    .dataframe tbody tr th {\n",
       "        vertical-align: top;\n",
       "    }\n",
       "\n",
       "    .dataframe thead th {\n",
       "        text-align: right;\n",
       "    }\n",
       "</style>\n",
       "<table border=\"1\" class=\"dataframe\">\n",
       "  <thead>\n",
       "    <tr style=\"text-align: right;\">\n",
       "      <th></th>\n",
       "      <th>carrier</th>\n",
       "      <th>carrier_name</th>\n",
       "      <th>month</th>\n",
       "      <th>total_gallons</th>\n",
       "    </tr>\n",
       "  </thead>\n",
       "  <tbody>\n",
       "    <tr>\n",
       "      <th>0</th>\n",
       "      <td>OH</td>\n",
       "      <td>PSA Airlines Inc.</td>\n",
       "      <td>10</td>\n",
       "      <td>0.0</td>\n",
       "    </tr>\n",
       "    <tr>\n",
       "      <th>1</th>\n",
       "      <td>ZW</td>\n",
       "      <td>Air Wisconsin Airlines Corp</td>\n",
       "      <td>01</td>\n",
       "      <td>6016332.0</td>\n",
       "    </tr>\n",
       "    <tr>\n",
       "      <th>2</th>\n",
       "      <td>MQ</td>\n",
       "      <td>Envoy Air</td>\n",
       "      <td>08</td>\n",
       "      <td>0.0</td>\n",
       "    </tr>\n",
       "    <tr>\n",
       "      <th>3</th>\n",
       "      <td>F9</td>\n",
       "      <td>Frontier Airlines Inc.</td>\n",
       "      <td>05</td>\n",
       "      <td>24591649.0</td>\n",
       "    </tr>\n",
       "    <tr>\n",
       "      <th>4</th>\n",
       "      <td>PRQ</td>\n",
       "      <td>Florida West Airlines Inc.</td>\n",
       "      <td>02</td>\n",
       "      <td>0.0</td>\n",
       "    </tr>\n",
       "    <tr>\n",
       "      <th>...</th>\n",
       "      <td>...</td>\n",
       "      <td>...</td>\n",
       "      <td>...</td>\n",
       "      <td>...</td>\n",
       "    </tr>\n",
       "    <tr>\n",
       "      <th>3030</th>\n",
       "      <td>YX</td>\n",
       "      <td>Republic Airlines</td>\n",
       "      <td>05</td>\n",
       "      <td>14720553.0</td>\n",
       "    </tr>\n",
       "    <tr>\n",
       "      <th>3031</th>\n",
       "      <td>0WQ</td>\n",
       "      <td>Avjet Corporation</td>\n",
       "      <td>02</td>\n",
       "      <td>0.0</td>\n",
       "    </tr>\n",
       "    <tr>\n",
       "      <th>3032</th>\n",
       "      <td>9S</td>\n",
       "      <td>Southern Air Inc.</td>\n",
       "      <td>09</td>\n",
       "      <td>5223428.0</td>\n",
       "    </tr>\n",
       "    <tr>\n",
       "      <th>3033</th>\n",
       "      <td>DL</td>\n",
       "      <td>Delta Air Lines Inc.</td>\n",
       "      <td>06</td>\n",
       "      <td>336183657.0</td>\n",
       "    </tr>\n",
       "    <tr>\n",
       "      <th>3034</th>\n",
       "      <td>F9</td>\n",
       "      <td>Frontier Airlines Inc.</td>\n",
       "      <td>04</td>\n",
       "      <td>21622508.0</td>\n",
       "    </tr>\n",
       "  </tbody>\n",
       "</table>\n",
       "<p>3035 rows × 4 columns</p>\n",
       "</div>"
      ],
      "text/plain": [
       "     carrier                 carrier_name month  total_gallons\n",
       "0         OH            PSA Airlines Inc.    10            0.0\n",
       "1         ZW  Air Wisconsin Airlines Corp    01      6016332.0\n",
       "2         MQ                    Envoy Air    08            0.0\n",
       "3         F9       Frontier Airlines Inc.    05     24591649.0\n",
       "4        PRQ   Florida West Airlines Inc.    02            0.0\n",
       "...      ...                          ...   ...            ...\n",
       "3030      YX            Republic Airlines    05     14720553.0\n",
       "3031     0WQ            Avjet Corporation    02            0.0\n",
       "3032      9S            Southern Air Inc.    09      5223428.0\n",
       "3033      DL         Delta Air Lines Inc.    06    336183657.0\n",
       "3034      F9       Frontier Airlines Inc.    04     21622508.0\n",
       "\n",
       "[3035 rows x 4 columns]"
      ]
     },
     "execution_count": 132,
     "metadata": {},
     "output_type": "execute_result"
    }
   ],
   "source": [
    "df_fuel['month']=df_fuel['month'].astype(str)\n",
    "df_fuel['month']=df_fuel['month'].str.rjust(2,\"0\")\n",
    "df_fuel"
   ]
  },
  {
   "cell_type": "code",
   "execution_count": 133,
   "metadata": {
    "collapsed": true,
    "jupyter": {
     "outputs_hidden": true
    }
   },
   "outputs": [
    {
     "data": {
      "text/html": [
       "<div>\n",
       "<style scoped>\n",
       "    .dataframe tbody tr th:only-of-type {\n",
       "        vertical-align: middle;\n",
       "    }\n",
       "\n",
       "    .dataframe tbody tr th {\n",
       "        vertical-align: top;\n",
       "    }\n",
       "\n",
       "    .dataframe thead th {\n",
       "        text-align: right;\n",
       "    }\n",
       "</style>\n",
       "<table border=\"1\" class=\"dataframe\">\n",
       "  <thead>\n",
       "    <tr style=\"text-align: right;\">\n",
       "      <th></th>\n",
       "      <th></th>\n",
       "      <th>total_gallons</th>\n",
       "    </tr>\n",
       "    <tr>\n",
       "      <th>carrier</th>\n",
       "      <th>month</th>\n",
       "      <th></th>\n",
       "    </tr>\n",
       "  </thead>\n",
       "  <tbody>\n",
       "    <tr>\n",
       "      <th rowspan=\"5\" valign=\"top\">09Q</th>\n",
       "      <th>01</th>\n",
       "      <td>3055241.0</td>\n",
       "    </tr>\n",
       "    <tr>\n",
       "      <th>02</th>\n",
       "      <td>3504322.0</td>\n",
       "    </tr>\n",
       "    <tr>\n",
       "      <th>03</th>\n",
       "      <td>5150056.0</td>\n",
       "    </tr>\n",
       "    <tr>\n",
       "      <th>04</th>\n",
       "      <td>2950101.0</td>\n",
       "    </tr>\n",
       "    <tr>\n",
       "      <th>05</th>\n",
       "      <td>3072049.0</td>\n",
       "    </tr>\n",
       "    <tr>\n",
       "      <th>...</th>\n",
       "      <th>...</th>\n",
       "      <td>...</td>\n",
       "    </tr>\n",
       "    <tr>\n",
       "      <th rowspan=\"5\" valign=\"top\">ZW</th>\n",
       "      <th>08</th>\n",
       "      <td>13492766.0</td>\n",
       "    </tr>\n",
       "    <tr>\n",
       "      <th>09</th>\n",
       "      <td>6661501.0</td>\n",
       "    </tr>\n",
       "    <tr>\n",
       "      <th>10</th>\n",
       "      <td>6824293.0</td>\n",
       "    </tr>\n",
       "    <tr>\n",
       "      <th>11</th>\n",
       "      <td>6396823.0</td>\n",
       "    </tr>\n",
       "    <tr>\n",
       "      <th>12</th>\n",
       "      <td>6624974.0</td>\n",
       "    </tr>\n",
       "  </tbody>\n",
       "</table>\n",
       "<p>756 rows × 1 columns</p>\n",
       "</div>"
      ],
      "text/plain": [
       "               total_gallons\n",
       "carrier month               \n",
       "09Q     01         3055241.0\n",
       "        02         3504322.0\n",
       "        03         5150056.0\n",
       "        04         2950101.0\n",
       "        05         3072049.0\n",
       "...                      ...\n",
       "ZW      08        13492766.0\n",
       "        09         6661501.0\n",
       "        10         6824293.0\n",
       "        11         6396823.0\n",
       "        12         6624974.0\n",
       "\n",
       "[756 rows x 1 columns]"
      ]
     },
     "execution_count": 133,
     "metadata": {},
     "output_type": "execute_result"
    }
   ],
   "source": [
    "month_consuption=pd.DataFrame(df_fuel.groupby(['carrier',\"month\"])['total_gallons'].sum())\n",
    "month_consuption"
   ]
  },
  {
   "cell_type": "markdown",
   "metadata": {},
   "source": [
    "### Use this information to get the average fuel comsumption per passenger per km. Is this higher for the airlines with bigger average delays?"
   ]
  },
  {
   "cell_type": "code",
   "execution_count": 134,
   "metadata": {
    "collapsed": true,
    "jupyter": {
     "outputs_hidden": true
    }
   },
   "outputs": [
    {
     "name": "stdout",
     "output_type": "stream",
     "text": [
      "(314, 1)\n",
      "(314, 1)\n",
      "(2707, 1)\n",
      "(756, 1)\n"
     ]
    }
   ],
   "source": [
    "print(month_delay.shape)\n",
    "print(month_distance.shape)\n",
    "print(month_passanger.shape)\n",
    "print(month_consuption.shape)"
   ]
  },
  {
   "cell_type": "code",
   "execution_count": null,
   "metadata": {},
   "outputs": [],
   "source": []
  },
  {
   "cell_type": "code",
   "execution_count": 137,
   "metadata": {
    "collapsed": true,
    "jupyter": {
     "outputs_hidden": true
    }
   },
   "outputs": [
    {
     "data": {
      "text/html": [
       "<div>\n",
       "<style scoped>\n",
       "    .dataframe tbody tr th:only-of-type {\n",
       "        vertical-align: middle;\n",
       "    }\n",
       "\n",
       "    .dataframe tbody tr th {\n",
       "        vertical-align: top;\n",
       "    }\n",
       "\n",
       "    .dataframe thead th {\n",
       "        text-align: right;\n",
       "    }\n",
       "</style>\n",
       "<table border=\"1\" class=\"dataframe\">\n",
       "  <thead>\n",
       "    <tr style=\"text-align: right;\">\n",
       "      <th></th>\n",
       "      <th></th>\n",
       "      <th>total_delay</th>\n",
       "      <th>distance</th>\n",
       "    </tr>\n",
       "    <tr>\n",
       "      <th>carrier</th>\n",
       "      <th>month</th>\n",
       "      <th></th>\n",
       "      <th></th>\n",
       "    </tr>\n",
       "  </thead>\n",
       "  <tbody>\n",
       "    <tr>\n",
       "      <th rowspan=\"12\" valign=\"top\">9E</th>\n",
       "      <th>01</th>\n",
       "      <td>17.847826</td>\n",
       "      <td>44675.0</td>\n",
       "    </tr>\n",
       "    <tr>\n",
       "      <th>02</th>\n",
       "      <td>64.974138</td>\n",
       "      <td>61300.0</td>\n",
       "    </tr>\n",
       "    <tr>\n",
       "      <th>03</th>\n",
       "      <td>13.427586</td>\n",
       "      <td>61918.0</td>\n",
       "    </tr>\n",
       "    <tr>\n",
       "      <th>04</th>\n",
       "      <td>102.161972</td>\n",
       "      <td>66217.0</td>\n",
       "    </tr>\n",
       "    <tr>\n",
       "      <th>05</th>\n",
       "      <td>9.364964</td>\n",
       "      <td>63810.0</td>\n",
       "    </tr>\n",
       "    <tr>\n",
       "      <th>06</th>\n",
       "      <td>51.598726</td>\n",
       "      <td>71134.0</td>\n",
       "    </tr>\n",
       "    <tr>\n",
       "      <th>07</th>\n",
       "      <td>25.174242</td>\n",
       "      <td>61562.0</td>\n",
       "    </tr>\n",
       "    <tr>\n",
       "      <th>08</th>\n",
       "      <td>38.242424</td>\n",
       "      <td>60574.0</td>\n",
       "    </tr>\n",
       "    <tr>\n",
       "      <th>09</th>\n",
       "      <td>17.926829</td>\n",
       "      <td>55920.0</td>\n",
       "    </tr>\n",
       "    <tr>\n",
       "      <th>10</th>\n",
       "      <td>13.133333</td>\n",
       "      <td>53918.0</td>\n",
       "    </tr>\n",
       "    <tr>\n",
       "      <th>11</th>\n",
       "      <td>19.658120</td>\n",
       "      <td>53122.0</td>\n",
       "    </tr>\n",
       "    <tr>\n",
       "      <th>12</th>\n",
       "      <td>21.755556</td>\n",
       "      <td>63554.0</td>\n",
       "    </tr>\n",
       "    <tr>\n",
       "      <th rowspan=\"2\" valign=\"top\">9K</th>\n",
       "      <th>02</th>\n",
       "      <td>2.500000</td>\n",
       "      <td>185.0</td>\n",
       "    </tr>\n",
       "    <tr>\n",
       "      <th>05</th>\n",
       "      <td>-19.000000</td>\n",
       "      <td>258.0</td>\n",
       "    </tr>\n",
       "    <tr>\n",
       "      <th rowspan=\"6\" valign=\"top\">AA</th>\n",
       "      <th>01</th>\n",
       "      <td>21.042316</td>\n",
       "      <td>449004.0</td>\n",
       "    </tr>\n",
       "    <tr>\n",
       "      <th>02</th>\n",
       "      <td>37.764967</td>\n",
       "      <td>466586.0</td>\n",
       "    </tr>\n",
       "    <tr>\n",
       "      <th>03</th>\n",
       "      <td>23.197034</td>\n",
       "      <td>459524.0</td>\n",
       "    </tr>\n",
       "    <tr>\n",
       "      <th>04</th>\n",
       "      <td>25.456967</td>\n",
       "      <td>483184.0</td>\n",
       "    </tr>\n",
       "    <tr>\n",
       "      <th>05</th>\n",
       "      <td>41.438114</td>\n",
       "      <td>500568.0</td>\n",
       "    </tr>\n",
       "    <tr>\n",
       "      <th>06</th>\n",
       "      <td>56.436293</td>\n",
       "      <td>535831.0</td>\n",
       "    </tr>\n",
       "  </tbody>\n",
       "</table>\n",
       "</div>"
      ],
      "text/plain": [
       "               total_delay  distance\n",
       "carrier month                       \n",
       "9E      01       17.847826   44675.0\n",
       "        02       64.974138   61300.0\n",
       "        03       13.427586   61918.0\n",
       "        04      102.161972   66217.0\n",
       "        05        9.364964   63810.0\n",
       "        06       51.598726   71134.0\n",
       "        07       25.174242   61562.0\n",
       "        08       38.242424   60574.0\n",
       "        09       17.926829   55920.0\n",
       "        10       13.133333   53918.0\n",
       "        11       19.658120   53122.0\n",
       "        12       21.755556   63554.0\n",
       "9K      02        2.500000     185.0\n",
       "        05      -19.000000     258.0\n",
       "AA      01       21.042316  449004.0\n",
       "        02       37.764967  466586.0\n",
       "        03       23.197034  459524.0\n",
       "        04       25.456967  483184.0\n",
       "        05       41.438114  500568.0\n",
       "        06       56.436293  535831.0"
      ]
     },
     "execution_count": 137,
     "metadata": {},
     "output_type": "execute_result"
    }
   ],
   "source": [
    "df_merged=pd.merge(month_delay,month_distance,right_index=True, left_index=True)\n",
    "df_merged.head(20)"
   ]
  },
  {
   "cell_type": "code",
   "execution_count": 138,
   "metadata": {
    "collapsed": true,
    "jupyter": {
     "outputs_hidden": true
    }
   },
   "outputs": [
    {
     "data": {
      "text/html": [
       "<div>\n",
       "<style scoped>\n",
       "    .dataframe tbody tr th:only-of-type {\n",
       "        vertical-align: middle;\n",
       "    }\n",
       "\n",
       "    .dataframe tbody tr th {\n",
       "        vertical-align: top;\n",
       "    }\n",
       "\n",
       "    .dataframe thead th {\n",
       "        text-align: right;\n",
       "    }\n",
       "</style>\n",
       "<table border=\"1\" class=\"dataframe\">\n",
       "  <thead>\n",
       "    <tr style=\"text-align: right;\">\n",
       "      <th></th>\n",
       "      <th></th>\n",
       "      <th>total_delay</th>\n",
       "      <th>distance</th>\n",
       "      <th>passengers</th>\n",
       "    </tr>\n",
       "    <tr>\n",
       "      <th>carrier</th>\n",
       "      <th>month</th>\n",
       "      <th></th>\n",
       "      <th></th>\n",
       "      <th></th>\n",
       "    </tr>\n",
       "  </thead>\n",
       "  <tbody>\n",
       "    <tr>\n",
       "      <th rowspan=\"12\" valign=\"top\">9E</th>\n",
       "      <th>01</th>\n",
       "      <td>17.847826</td>\n",
       "      <td>44675.0</td>\n",
       "      <td>91145.0</td>\n",
       "    </tr>\n",
       "    <tr>\n",
       "      <th>02</th>\n",
       "      <td>64.974138</td>\n",
       "      <td>61300.0</td>\n",
       "      <td>80263.0</td>\n",
       "    </tr>\n",
       "    <tr>\n",
       "      <th>03</th>\n",
       "      <td>13.427586</td>\n",
       "      <td>61918.0</td>\n",
       "      <td>143789.0</td>\n",
       "    </tr>\n",
       "    <tr>\n",
       "      <th>04</th>\n",
       "      <td>102.161972</td>\n",
       "      <td>66217.0</td>\n",
       "      <td>124107.0</td>\n",
       "    </tr>\n",
       "    <tr>\n",
       "      <th>05</th>\n",
       "      <td>9.364964</td>\n",
       "      <td>63810.0</td>\n",
       "      <td>103730.0</td>\n",
       "    </tr>\n",
       "    <tr>\n",
       "      <th>06</th>\n",
       "      <td>51.598726</td>\n",
       "      <td>71134.0</td>\n",
       "      <td>109940.0</td>\n",
       "    </tr>\n",
       "    <tr>\n",
       "      <th>07</th>\n",
       "      <td>25.174242</td>\n",
       "      <td>61562.0</td>\n",
       "      <td>159737.0</td>\n",
       "    </tr>\n",
       "    <tr>\n",
       "      <th>08</th>\n",
       "      <td>38.242424</td>\n",
       "      <td>60574.0</td>\n",
       "      <td>121782.0</td>\n",
       "    </tr>\n",
       "    <tr>\n",
       "      <th>09</th>\n",
       "      <td>17.926829</td>\n",
       "      <td>55920.0</td>\n",
       "      <td>128609.0</td>\n",
       "    </tr>\n",
       "    <tr>\n",
       "      <th>10</th>\n",
       "      <td>13.133333</td>\n",
       "      <td>53918.0</td>\n",
       "      <td>133338.0</td>\n",
       "    </tr>\n",
       "    <tr>\n",
       "      <th>11</th>\n",
       "      <td>19.658120</td>\n",
       "      <td>53122.0</td>\n",
       "      <td>148192.0</td>\n",
       "    </tr>\n",
       "    <tr>\n",
       "      <th>12</th>\n",
       "      <td>21.755556</td>\n",
       "      <td>63554.0</td>\n",
       "      <td>119164.0</td>\n",
       "    </tr>\n",
       "    <tr>\n",
       "      <th rowspan=\"2\" valign=\"top\">9K</th>\n",
       "      <th>02</th>\n",
       "      <td>2.500000</td>\n",
       "      <td>185.0</td>\n",
       "      <td>6082.0</td>\n",
       "    </tr>\n",
       "    <tr>\n",
       "      <th>05</th>\n",
       "      <td>-19.000000</td>\n",
       "      <td>258.0</td>\n",
       "      <td>4163.0</td>\n",
       "    </tr>\n",
       "    <tr>\n",
       "      <th rowspan=\"6\" valign=\"top\">AA</th>\n",
       "      <th>01</th>\n",
       "      <td>21.042316</td>\n",
       "      <td>449004.0</td>\n",
       "      <td>999294.0</td>\n",
       "    </tr>\n",
       "    <tr>\n",
       "      <th>02</th>\n",
       "      <td>37.764967</td>\n",
       "      <td>466586.0</td>\n",
       "      <td>1021163.0</td>\n",
       "    </tr>\n",
       "    <tr>\n",
       "      <th>03</th>\n",
       "      <td>23.197034</td>\n",
       "      <td>459524.0</td>\n",
       "      <td>1342641.0</td>\n",
       "    </tr>\n",
       "    <tr>\n",
       "      <th>04</th>\n",
       "      <td>25.456967</td>\n",
       "      <td>483184.0</td>\n",
       "      <td>1305431.0</td>\n",
       "    </tr>\n",
       "    <tr>\n",
       "      <th>05</th>\n",
       "      <td>41.438114</td>\n",
       "      <td>500568.0</td>\n",
       "      <td>1240369.0</td>\n",
       "    </tr>\n",
       "    <tr>\n",
       "      <th>06</th>\n",
       "      <td>56.436293</td>\n",
       "      <td>535831.0</td>\n",
       "      <td>1355708.0</td>\n",
       "    </tr>\n",
       "  </tbody>\n",
       "</table>\n",
       "</div>"
      ],
      "text/plain": [
       "               total_delay  distance  passengers\n",
       "carrier month                                   \n",
       "9E      01       17.847826   44675.0     91145.0\n",
       "        02       64.974138   61300.0     80263.0\n",
       "        03       13.427586   61918.0    143789.0\n",
       "        04      102.161972   66217.0    124107.0\n",
       "        05        9.364964   63810.0    103730.0\n",
       "        06       51.598726   71134.0    109940.0\n",
       "        07       25.174242   61562.0    159737.0\n",
       "        08       38.242424   60574.0    121782.0\n",
       "        09       17.926829   55920.0    128609.0\n",
       "        10       13.133333   53918.0    133338.0\n",
       "        11       19.658120   53122.0    148192.0\n",
       "        12       21.755556   63554.0    119164.0\n",
       "9K      02        2.500000     185.0      6082.0\n",
       "        05      -19.000000     258.0      4163.0\n",
       "AA      01       21.042316  449004.0    999294.0\n",
       "        02       37.764967  466586.0   1021163.0\n",
       "        03       23.197034  459524.0   1342641.0\n",
       "        04       25.456967  483184.0   1305431.0\n",
       "        05       41.438114  500568.0   1240369.0\n",
       "        06       56.436293  535831.0   1355708.0"
      ]
     },
     "execution_count": 138,
     "metadata": {},
     "output_type": "execute_result"
    }
   ],
   "source": [
    "df_merged1=pd.merge(df_merged,month_passanger,right_index=True, left_index=True)\n",
    "df_merged1.head(20)"
   ]
  },
  {
   "cell_type": "code",
   "execution_count": 139,
   "metadata": {
    "collapsed": true,
    "jupyter": {
     "outputs_hidden": true
    }
   },
   "outputs": [
    {
     "data": {
      "text/html": [
       "<div>\n",
       "<style scoped>\n",
       "    .dataframe tbody tr th:only-of-type {\n",
       "        vertical-align: middle;\n",
       "    }\n",
       "\n",
       "    .dataframe tbody tr th {\n",
       "        vertical-align: top;\n",
       "    }\n",
       "\n",
       "    .dataframe thead th {\n",
       "        text-align: right;\n",
       "    }\n",
       "</style>\n",
       "<table border=\"1\" class=\"dataframe\">\n",
       "  <thead>\n",
       "    <tr style=\"text-align: right;\">\n",
       "      <th></th>\n",
       "      <th></th>\n",
       "      <th>avg_dealy</th>\n",
       "      <th>distance</th>\n",
       "      <th>passengers</th>\n",
       "      <th>total_gallons</th>\n",
       "      <th>distance_km</th>\n",
       "    </tr>\n",
       "    <tr>\n",
       "      <th>carrier</th>\n",
       "      <th>month</th>\n",
       "      <th></th>\n",
       "      <th></th>\n",
       "      <th></th>\n",
       "      <th></th>\n",
       "      <th></th>\n",
       "    </tr>\n",
       "  </thead>\n",
       "  <tbody>\n",
       "    <tr>\n",
       "      <th rowspan=\"12\" valign=\"top\">AA</th>\n",
       "      <th>01</th>\n",
       "      <td>21.042316</td>\n",
       "      <td>449004.0</td>\n",
       "      <td>999294.0</td>\n",
       "      <td>1.334803e+09</td>\n",
       "      <td>722601.893376</td>\n",
       "    </tr>\n",
       "    <tr>\n",
       "      <th>02</th>\n",
       "      <td>37.764967</td>\n",
       "      <td>466586.0</td>\n",
       "      <td>1021163.0</td>\n",
       "      <td>1.222041e+09</td>\n",
       "      <td>750897.379584</td>\n",
       "    </tr>\n",
       "    <tr>\n",
       "      <th>03</th>\n",
       "      <td>23.197034</td>\n",
       "      <td>459524.0</td>\n",
       "      <td>1342641.0</td>\n",
       "      <td>1.411525e+09</td>\n",
       "      <td>739532.192256</td>\n",
       "    </tr>\n",
       "    <tr>\n",
       "      <th>04</th>\n",
       "      <td>25.456967</td>\n",
       "      <td>483184.0</td>\n",
       "      <td>1305431.0</td>\n",
       "      <td>1.378073e+09</td>\n",
       "      <td>777609.271296</td>\n",
       "    </tr>\n",
       "    <tr>\n",
       "      <th>05</th>\n",
       "      <td>41.438114</td>\n",
       "      <td>500568.0</td>\n",
       "      <td>1240369.0</td>\n",
       "      <td>1.481394e+09</td>\n",
       "      <td>805586.107392</td>\n",
       "    </tr>\n",
       "    <tr>\n",
       "      <th>06</th>\n",
       "      <td>56.436293</td>\n",
       "      <td>535831.0</td>\n",
       "      <td>1355708.0</td>\n",
       "      <td>1.517748e+09</td>\n",
       "      <td>862336.404864</td>\n",
       "    </tr>\n",
       "    <tr>\n",
       "      <th>07</th>\n",
       "      <td>39.884892</td>\n",
       "      <td>567840.0</td>\n",
       "      <td>1534980.0</td>\n",
       "      <td>1.691431e+09</td>\n",
       "      <td>913849.896960</td>\n",
       "    </tr>\n",
       "    <tr>\n",
       "      <th>08</th>\n",
       "      <td>53.530364</td>\n",
       "      <td>501344.0</td>\n",
       "      <td>1604295.0</td>\n",
       "      <td>1.658195e+09</td>\n",
       "      <td>806834.958336</td>\n",
       "    </tr>\n",
       "    <tr>\n",
       "      <th>09</th>\n",
       "      <td>23.234592</td>\n",
       "      <td>499420.0</td>\n",
       "      <td>1194057.0</td>\n",
       "      <td>1.464153e+09</td>\n",
       "      <td>803738.580480</td>\n",
       "    </tr>\n",
       "    <tr>\n",
       "      <th>10</th>\n",
       "      <td>17.387967</td>\n",
       "      <td>474307.0</td>\n",
       "      <td>1212198.0</td>\n",
       "      <td>1.202771e+09</td>\n",
       "      <td>763323.124608</td>\n",
       "    </tr>\n",
       "    <tr>\n",
       "      <th>11</th>\n",
       "      <td>17.889362</td>\n",
       "      <td>452642.0</td>\n",
       "      <td>1233987.0</td>\n",
       "      <td>1.089813e+09</td>\n",
       "      <td>728456.686848</td>\n",
       "    </tr>\n",
       "    <tr>\n",
       "      <th>12</th>\n",
       "      <td>26.229249</td>\n",
       "      <td>480144.0</td>\n",
       "      <td>1387367.0</td>\n",
       "      <td>1.182938e+09</td>\n",
       "      <td>772716.865536</td>\n",
       "    </tr>\n",
       "    <tr>\n",
       "      <th rowspan=\"8\" valign=\"top\">AS</th>\n",
       "      <th>01</th>\n",
       "      <td>26.174312</td>\n",
       "      <td>157447.0</td>\n",
       "      <td>303283.0</td>\n",
       "      <td>2.269071e+08</td>\n",
       "      <td>253386.384768</td>\n",
       "    </tr>\n",
       "    <tr>\n",
       "      <th>02</th>\n",
       "      <td>17.200000</td>\n",
       "      <td>151483.0</td>\n",
       "      <td>231954.0</td>\n",
       "      <td>2.069734e+08</td>\n",
       "      <td>243788.257152</td>\n",
       "    </tr>\n",
       "    <tr>\n",
       "      <th>03</th>\n",
       "      <td>5.197183</td>\n",
       "      <td>181460.0</td>\n",
       "      <td>265421.0</td>\n",
       "      <td>2.413343e+08</td>\n",
       "      <td>292031.562240</td>\n",
       "    </tr>\n",
       "    <tr>\n",
       "      <th>04</th>\n",
       "      <td>-3.161538</td>\n",
       "      <td>167667.0</td>\n",
       "      <td>232627.0</td>\n",
       "      <td>2.364655e+08</td>\n",
       "      <td>269833.880448</td>\n",
       "    </tr>\n",
       "    <tr>\n",
       "      <th>05</th>\n",
       "      <td>10.661972</td>\n",
       "      <td>179368.0</td>\n",
       "      <td>388431.0</td>\n",
       "      <td>2.439073e+08</td>\n",
       "      <td>288664.814592</td>\n",
       "    </tr>\n",
       "    <tr>\n",
       "      <th>06</th>\n",
       "      <td>23.071895</td>\n",
       "      <td>188681.0</td>\n",
       "      <td>307435.0</td>\n",
       "      <td>2.500881e+08</td>\n",
       "      <td>303652.635264</td>\n",
       "    </tr>\n",
       "    <tr>\n",
       "      <th>07</th>\n",
       "      <td>10.392593</td>\n",
       "      <td>170272.0</td>\n",
       "      <td>284394.0</td>\n",
       "      <td>2.603468e+08</td>\n",
       "      <td>274026.221568</td>\n",
       "    </tr>\n",
       "    <tr>\n",
       "      <th>08</th>\n",
       "      <td>23.934307</td>\n",
       "      <td>170479.0</td>\n",
       "      <td>330009.0</td>\n",
       "      <td>2.577697e+08</td>\n",
       "      <td>274359.355776</td>\n",
       "    </tr>\n",
       "  </tbody>\n",
       "</table>\n",
       "</div>"
      ],
      "text/plain": [
       "               avg_dealy  distance  passengers  total_gallons    distance_km\n",
       "carrier month                                                               \n",
       "AA      01     21.042316  449004.0    999294.0   1.334803e+09  722601.893376\n",
       "        02     37.764967  466586.0   1021163.0   1.222041e+09  750897.379584\n",
       "        03     23.197034  459524.0   1342641.0   1.411525e+09  739532.192256\n",
       "        04     25.456967  483184.0   1305431.0   1.378073e+09  777609.271296\n",
       "        05     41.438114  500568.0   1240369.0   1.481394e+09  805586.107392\n",
       "        06     56.436293  535831.0   1355708.0   1.517748e+09  862336.404864\n",
       "        07     39.884892  567840.0   1534980.0   1.691431e+09  913849.896960\n",
       "        08     53.530364  501344.0   1604295.0   1.658195e+09  806834.958336\n",
       "        09     23.234592  499420.0   1194057.0   1.464153e+09  803738.580480\n",
       "        10     17.387967  474307.0   1212198.0   1.202771e+09  763323.124608\n",
       "        11     17.889362  452642.0   1233987.0   1.089813e+09  728456.686848\n",
       "        12     26.229249  480144.0   1387367.0   1.182938e+09  772716.865536\n",
       "AS      01     26.174312  157447.0    303283.0   2.269071e+08  253386.384768\n",
       "        02     17.200000  151483.0    231954.0   2.069734e+08  243788.257152\n",
       "        03      5.197183  181460.0    265421.0   2.413343e+08  292031.562240\n",
       "        04     -3.161538  167667.0    232627.0   2.364655e+08  269833.880448\n",
       "        05     10.661972  179368.0    388431.0   2.439073e+08  288664.814592\n",
       "        06     23.071895  188681.0    307435.0   2.500881e+08  303652.635264\n",
       "        07     10.392593  170272.0    284394.0   2.603468e+08  274026.221568\n",
       "        08     23.934307  170479.0    330009.0   2.577697e+08  274359.355776"
      ]
     },
     "execution_count": 139,
     "metadata": {},
     "output_type": "execute_result"
    }
   ],
   "source": [
    "df_task10=pd.merge(df_merged1,month_consuption,right_index=True, left_index=True)\n",
    "df_task10.columns=['avg_dealy',\"distance\",\"passengers\",\"total_gallons\"]\n",
    "df_task10['distance_km']=df_task10['distance']*1.609344\n",
    "df_task10=df_task10[df_task10.total_gallons>0]\n",
    "df_task10.head(20)\n"
   ]
  },
  {
   "cell_type": "markdown",
   "metadata": {},
   "source": [
    "### get the average fuel comsumption per passenger per km. Is this higher for the airlines with bigger average delays?¶"
   ]
  },
  {
   "cell_type": "code",
   "execution_count": 140,
   "metadata": {},
   "outputs": [],
   "source": [
    "df_task10['gallons_per_km']=df_task10.total_gallons/df_task10.distance_km\n",
    "df_task10['gallons_per_km_per_pass']=df_task10.gallons_per_km/df_task10.passengers"
   ]
  },
  {
   "cell_type": "code",
   "execution_count": 141,
   "metadata": {
    "collapsed": true,
    "jupyter": {
     "outputs_hidden": true
    }
   },
   "outputs": [
    {
     "data": {
      "text/html": [
       "<div>\n",
       "<style scoped>\n",
       "    .dataframe tbody tr th:only-of-type {\n",
       "        vertical-align: middle;\n",
       "    }\n",
       "\n",
       "    .dataframe tbody tr th {\n",
       "        vertical-align: top;\n",
       "    }\n",
       "\n",
       "    .dataframe thead th {\n",
       "        text-align: right;\n",
       "    }\n",
       "</style>\n",
       "<table border=\"1\" class=\"dataframe\">\n",
       "  <thead>\n",
       "    <tr style=\"text-align: right;\">\n",
       "      <th></th>\n",
       "      <th>avg_delay</th>\n",
       "      <th>gallons_per_km_per_pass</th>\n",
       "    </tr>\n",
       "    <tr>\n",
       "      <th>carrier</th>\n",
       "      <th></th>\n",
       "      <th></th>\n",
       "    </tr>\n",
       "  </thead>\n",
       "  <tbody>\n",
       "    <tr>\n",
       "      <th>AA</th>\n",
       "      <td>31.957676</td>\n",
       "      <td>0.001386</td>\n",
       "    </tr>\n",
       "    <tr>\n",
       "      <th>AS</th>\n",
       "      <td>12.465712</td>\n",
       "      <td>0.003036</td>\n",
       "    </tr>\n",
       "    <tr>\n",
       "      <th>B6</th>\n",
       "      <td>52.448936</td>\n",
       "      <td>0.003280</td>\n",
       "    </tr>\n",
       "    <tr>\n",
       "      <th>DL</th>\n",
       "      <td>17.447477</td>\n",
       "      <td>0.001542</td>\n",
       "    </tr>\n",
       "    <tr>\n",
       "      <th>EV</th>\n",
       "      <td>42.071003</td>\n",
       "      <td>0.000026</td>\n",
       "    </tr>\n",
       "    <tr>\n",
       "      <th>F9</th>\n",
       "      <td>44.740101</td>\n",
       "      <td>0.005497</td>\n",
       "    </tr>\n",
       "    <tr>\n",
       "      <th>G4</th>\n",
       "      <td>32.168567</td>\n",
       "      <td>0.009018</td>\n",
       "    </tr>\n",
       "    <tr>\n",
       "      <th>HA</th>\n",
       "      <td>8.176615</td>\n",
       "      <td>0.028740</td>\n",
       "    </tr>\n",
       "    <tr>\n",
       "      <th>NK</th>\n",
       "      <td>32.398281</td>\n",
       "      <td>0.003552</td>\n",
       "    </tr>\n",
       "    <tr>\n",
       "      <th>OO</th>\n",
       "      <td>39.126006</td>\n",
       "      <td>0.000307</td>\n",
       "    </tr>\n",
       "    <tr>\n",
       "      <th>UA</th>\n",
       "      <td>30.714051</td>\n",
       "      <td>0.002213</td>\n",
       "    </tr>\n",
       "    <tr>\n",
       "      <th>VX</th>\n",
       "      <td>33.079274</td>\n",
       "      <td>0.020115</td>\n",
       "    </tr>\n",
       "    <tr>\n",
       "      <th>WN</th>\n",
       "      <td>25.052479</td>\n",
       "      <td>0.000661</td>\n",
       "    </tr>\n",
       "    <tr>\n",
       "      <th>YX</th>\n",
       "      <td>22.610117</td>\n",
       "      <td>0.001033</td>\n",
       "    </tr>\n",
       "    <tr>\n",
       "      <th>ZW</th>\n",
       "      <td>36.432698</td>\n",
       "      <td>0.008887</td>\n",
       "    </tr>\n",
       "  </tbody>\n",
       "</table>\n",
       "</div>"
      ],
      "text/plain": [
       "         avg_delay  gallons_per_km_per_pass\n",
       "carrier                                    \n",
       "AA       31.957676                 0.001386\n",
       "AS       12.465712                 0.003036\n",
       "B6       52.448936                 0.003280\n",
       "DL       17.447477                 0.001542\n",
       "EV       42.071003                 0.000026\n",
       "F9       44.740101                 0.005497\n",
       "G4       32.168567                 0.009018\n",
       "HA        8.176615                 0.028740\n",
       "NK       32.398281                 0.003552\n",
       "OO       39.126006                 0.000307\n",
       "UA       30.714051                 0.002213\n",
       "VX       33.079274                 0.020115\n",
       "WN       25.052479                 0.000661\n",
       "YX       22.610117                 0.001033\n",
       "ZW       36.432698                 0.008887"
      ]
     },
     "execution_count": 141,
     "metadata": {},
     "output_type": "execute_result"
    }
   ],
   "source": [
    "task10_resp=df_task10[[\"avg_dealy\",\"gallons_per_km_per_pass\"]].copy()\n",
    "task10_resp.columns=[\"avg_delay\",\"gallons_per_km_per_pass\"]\n",
    "task10_resp=task10_resp.groupby(['carrier']).mean()\n",
    "task10_resp"
   ]
  },
  {
   "cell_type": "code",
   "execution_count": 142,
   "metadata": {
    "collapsed": true,
    "jupyter": {
     "outputs_hidden": true
    }
   },
   "outputs": [
    {
     "data": {
      "text/plain": [
       "Text(0.5,1,'Carrier Average(delay) [min]')"
      ]
     },
     "execution_count": 142,
     "metadata": {},
     "output_type": "execute_result"
    },
    {
     "data": {
      "image/png": "[encoded data removed]",
      "text/plain": [
       "<Figure size 432x288 with 1 Axes>"
      ]
     },
     "metadata": {},
     "output_type": "display_data"
    }
   ],
   "source": [
    "axes=task10_resp.avg_delay.plot.bar()\n",
    "axes.set_title('Carrier Average(delay) [min]')"
   ]
  },
  {
   "cell_type": "code",
   "execution_count": 143,
   "metadata": {
    "collapsed": true,
    "jupyter": {
     "outputs_hidden": true
    }
   },
   "outputs": [
    {
     "data": {
      "text/plain": [
       "Text(0.5,1,'Carrier Average(Fuel Comsuption per 1km per 1passenger) [Gallons]')"
      ]
     },
     "execution_count": 143,
     "metadata": {},
     "output_type": "execute_result"
    },
    {
     "data": {
      "image/png": "[encoded data removed]",
      "text/plain": [
       "<Figure size 432x288 with 1 Axes>"
      ]
     },
     "metadata": {},
     "output_type": "display_data"
    }
   ],
   "source": [
    "axes=task10_resp.gallons_per_km_per_pass.plot.bar()\n",
    "axes.set_title('Carrier Average(Fuel Comsuption per 1km per 1passenger) [Gallons]')"
   ]
  },
  {
   "cell_type": "code",
   "execution_count": 147,
   "metadata": {
    "collapsed": true,
    "jupyter": {
     "outputs_hidden": true
    }
   },
   "outputs": [
    {
     "data": {
      "text/plain": [
       "<matplotlib.axes._subplots.AxesSubplot at 0x2327fc4f0f0>"
      ]
     },
     "execution_count": 147,
     "metadata": {},
     "output_type": "execute_result"
    },
    {
     "data": {
      "image/png": "[encoded data removed]",
      "text/plain": [
       "<Figure size 432x288 with 1 Axes>"
      ]
     },
     "metadata": {},
     "output_type": "display_data"
    }
   ],
   "source": [
    "sns.scatterplot(data=task10_resp, x=\"avg_delay\", y=\"gallons_per_km_per_pass\")"
   ]
  },
  {
   "cell_type": "code",
   "execution_count": 148,
   "metadata": {
    "collapsed": true,
    "jupyter": {
     "outputs_hidden": true
    }
   },
   "outputs": [
    {
     "data": {
      "text/html": [
       "<div>\n",
       "<style scoped>\n",
       "    .dataframe tbody tr th:only-of-type {\n",
       "        vertical-align: middle;\n",
       "    }\n",
       "\n",
       "    .dataframe tbody tr th {\n",
       "        vertical-align: top;\n",
       "    }\n",
       "\n",
       "    .dataframe thead th {\n",
       "        text-align: right;\n",
       "    }\n",
       "</style>\n",
       "<table border=\"1\" class=\"dataframe\">\n",
       "  <thead>\n",
       "    <tr style=\"text-align: right;\">\n",
       "      <th></th>\n",
       "      <th>avg_delay</th>\n",
       "      <th>gallons_per_km_per_pass</th>\n",
       "      <th>index</th>\n",
       "    </tr>\n",
       "    <tr>\n",
       "      <th>carrier</th>\n",
       "      <th></th>\n",
       "      <th></th>\n",
       "      <th></th>\n",
       "    </tr>\n",
       "  </thead>\n",
       "  <tbody>\n",
       "    <tr>\n",
       "      <th>AA</th>\n",
       "      <td>31.957676</td>\n",
       "      <td>0.001386</td>\n",
       "      <td>AA</td>\n",
       "    </tr>\n",
       "    <tr>\n",
       "      <th>AS</th>\n",
       "      <td>12.465712</td>\n",
       "      <td>0.003036</td>\n",
       "      <td>AS</td>\n",
       "    </tr>\n",
       "    <tr>\n",
       "      <th>B6</th>\n",
       "      <td>52.448936</td>\n",
       "      <td>0.003280</td>\n",
       "      <td>B6</td>\n",
       "    </tr>\n",
       "    <tr>\n",
       "      <th>DL</th>\n",
       "      <td>17.447477</td>\n",
       "      <td>0.001542</td>\n",
       "      <td>DL</td>\n",
       "    </tr>\n",
       "    <tr>\n",
       "      <th>EV</th>\n",
       "      <td>42.071003</td>\n",
       "      <td>0.000026</td>\n",
       "      <td>EV</td>\n",
       "    </tr>\n",
       "    <tr>\n",
       "      <th>F9</th>\n",
       "      <td>44.740101</td>\n",
       "      <td>0.005497</td>\n",
       "      <td>F9</td>\n",
       "    </tr>\n",
       "    <tr>\n",
       "      <th>G4</th>\n",
       "      <td>32.168567</td>\n",
       "      <td>0.009018</td>\n",
       "      <td>G4</td>\n",
       "    </tr>\n",
       "    <tr>\n",
       "      <th>HA</th>\n",
       "      <td>8.176615</td>\n",
       "      <td>0.028740</td>\n",
       "      <td>HA</td>\n",
       "    </tr>\n",
       "    <tr>\n",
       "      <th>NK</th>\n",
       "      <td>32.398281</td>\n",
       "      <td>0.003552</td>\n",
       "      <td>NK</td>\n",
       "    </tr>\n",
       "    <tr>\n",
       "      <th>OO</th>\n",
       "      <td>39.126006</td>\n",
       "      <td>0.000307</td>\n",
       "      <td>OO</td>\n",
       "    </tr>\n",
       "    <tr>\n",
       "      <th>UA</th>\n",
       "      <td>30.714051</td>\n",
       "      <td>0.002213</td>\n",
       "      <td>UA</td>\n",
       "    </tr>\n",
       "    <tr>\n",
       "      <th>VX</th>\n",
       "      <td>33.079274</td>\n",
       "      <td>0.020115</td>\n",
       "      <td>VX</td>\n",
       "    </tr>\n",
       "    <tr>\n",
       "      <th>WN</th>\n",
       "      <td>25.052479</td>\n",
       "      <td>0.000661</td>\n",
       "      <td>WN</td>\n",
       "    </tr>\n",
       "    <tr>\n",
       "      <th>YX</th>\n",
       "      <td>22.610117</td>\n",
       "      <td>0.001033</td>\n",
       "      <td>YX</td>\n",
       "    </tr>\n",
       "    <tr>\n",
       "      <th>ZW</th>\n",
       "      <td>36.432698</td>\n",
       "      <td>0.008887</td>\n",
       "      <td>ZW</td>\n",
       "    </tr>\n",
       "  </tbody>\n",
       "</table>\n",
       "</div>"
      ],
      "text/plain": [
       "         avg_delay  gallons_per_km_per_pass index\n",
       "carrier                                          \n",
       "AA       31.957676                 0.001386    AA\n",
       "AS       12.465712                 0.003036    AS\n",
       "B6       52.448936                 0.003280    B6\n",
       "DL       17.447477                 0.001542    DL\n",
       "EV       42.071003                 0.000026    EV\n",
       "F9       44.740101                 0.005497    F9\n",
       "G4       32.168567                 0.009018    G4\n",
       "HA        8.176615                 0.028740    HA\n",
       "NK       32.398281                 0.003552    NK\n",
       "OO       39.126006                 0.000307    OO\n",
       "UA       30.714051                 0.002213    UA\n",
       "VX       33.079274                 0.020115    VX\n",
       "WN       25.052479                 0.000661    WN\n",
       "YX       22.610117                 0.001033    YX\n",
       "ZW       36.432698                 0.008887    ZW"
      ]
     },
     "execution_count": 148,
     "metadata": {},
     "output_type": "execute_result"
    }
   ],
   "source": [
    "task10_resp['index']=task10_resp.index.values\n",
    "task10_resp"
   ]
  },
  {
   "cell_type": "code",
   "execution_count": 150,
   "metadata": {
    "collapsed": true,
    "jupyter": {
     "outputs_hidden": true
    }
   },
   "outputs": [
    {
     "data": {
      "text/plain": [
       "Text(0.5,1,'Fuels Comsumption & Avg Delay')"
      ]
     },
     "execution_count": 150,
     "metadata": {},
     "output_type": "execute_result"
    },
    {
     "data": {
      "image/png": "[encoded data removed]",
      "text/plain": [
       "<Figure size 432x288 with 1 Axes>"
      ]
     },
     "metadata": {},
     "output_type": "display_data"
    }
   ],
   "source": [
    "sns.scatterplot(data=task10_resp, x=\"avg_delay\", y=\"gallons_per_km_per_pass\",hue='index')\n",
    "pl.legend(bbox_to_anchor=(1.01, 1),borderaxespad=0)\n",
    "pl.title('Fuels Comsumption & Avg Delay')"
   ]
  },
  {
   "cell_type": "code",
   "execution_count": null,
   "metadata": {},
   "outputs": [],
   "source": []
  }
 ],
 "metadata": {
  "kernelspec": {
   "display_name": "Python 3",
   "language": "python",
   "name": "python3"
  },
  "language_info": {
   "codemirror_mode": {
    "name": "ipython",
    "version": 3
   },
   "file_extension": ".py",
   "mimetype": "text/x-python",
   "name": "python",
   "nbconvert_exporter": "python",
   "pygments_lexer": "ipython3",
   "version": "3.6.5"
  },
  "toc": {
   "base_numbering": 1,
   "nav_menu": {},
   "number_sections": true,
   "sideBar": true,
   "skip_h1_title": false,
   "title_cell": "Table of Contents",
   "title_sidebar": "Contents",
   "toc_cell": false,
   "toc_position": {},
   "toc_section_display": true,
   "toc_window_display": false
  },
  "varInspector": {
   "cols": {
    "lenName": 16,
    "lenType": 16,
    "lenVar": 40
   },
   "kernels_config": {
    "python": {
     "delete_cmd_postfix": "",
     "delete_cmd_prefix": "del ",
     "library": "var_list.py",
     "varRefreshCmd": "print(var_dic_list())"
    },
    "r": {
     "delete_cmd_postfix": ") ",
     "delete_cmd_prefix": "rm(",
     "library": "var_list.r",
     "varRefreshCmd": "cat(var_dic_list()) "
    }
   },
   "types_to_exclude": [
    "module",
    "function",
    "builtin_function_or_method",
    "instance",
    "_Feature"
   ],
   "window_display": false
  }
 },
 "nbformat": 4,
 "nbformat_minor": 4
}
